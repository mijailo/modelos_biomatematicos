{
 "cells": [
  {
   "cell_type": "markdown",
   "id": "f4e7887a-0ae6-43da-b1c9-c3a1910f60cf",
   "metadata": {},
   "source": [
    "# Cuadro de Punnett\n",
    "\n",
    "> **Nota**: Ver esta [referencia](https://stackoverflow.com/questions/15170551/punnett-square-function-matching-items-in-lists)."
   ]
  },
  {
   "cell_type": "code",
   "execution_count": 24,
   "id": "dca51835-5043-42ff-b702-0b7e255f4f63",
   "metadata": {},
   "outputs": [],
   "source": [
    "from itertools import product, groupby\n",
    "def allele(e):\n",
    "    return [list(v) for _, v in groupby(e, key = str.lower)]\n",
    "\n",
    "def punnett(a, b):\n",
    "    return [''.join(e) for e in product(*([''.join(f) for f in product(*g)] for g in zip(allele(a), allele(b))))]"
   ]
  },
  {
   "cell_type": "code",
   "execution_count": 3,
   "id": "a6a9cfd5-599f-40dd-a3f8-414a2d83d122",
   "metadata": {},
   "outputs": [],
   "source": [
    "padre='AABBCC'\n",
    "madre='aabbcc'"
   ]
  },
  {
   "cell_type": "code",
   "execution_count": 5,
   "id": "c93b6454-bfb6-431b-9332-f9535836fc6f",
   "metadata": {},
   "outputs": [
    {
     "data": {
      "text/plain": [
       "[['A', 'A'], ['B', 'B'], ['C', 'C']]"
      ]
     },
     "execution_count": 5,
     "metadata": {},
     "output_type": "execute_result"
    }
   ],
   "source": [
    "allele(padre)"
   ]
  },
  {
   "cell_type": "code",
   "execution_count": 26,
   "id": "1ea09d36-f6de-40c9-9de0-a16212c4d243",
   "metadata": {},
   "outputs": [
    {
     "data": {
      "text/plain": [
       "[['a', 'a'], ['b', 'b'], ['c', 'c']]"
      ]
     },
     "execution_count": 26,
     "metadata": {},
     "output_type": "execute_result"
    }
   ],
   "source": [
    "allele(madre)"
   ]
  },
  {
   "cell_type": "code",
   "execution_count": 27,
   "id": "70c9c81e-4725-4070-8a91-6582b8b5aff6",
   "metadata": {
    "scrolled": true
   },
   "outputs": [
    {
     "data": {
      "text/plain": [
       "['AaBbCc',\n",
       " 'AaBbCc',\n",
       " 'AaBbCc',\n",
       " 'AaBbCc',\n",
       " 'AaBbCc',\n",
       " 'AaBbCc',\n",
       " 'AaBbCc',\n",
       " 'AaBbCc',\n",
       " 'AaBbCc',\n",
       " 'AaBbCc',\n",
       " 'AaBbCc',\n",
       " 'AaBbCc',\n",
       " 'AaBbCc',\n",
       " 'AaBbCc',\n",
       " 'AaBbCc',\n",
       " 'AaBbCc',\n",
       " 'AaBbCc',\n",
       " 'AaBbCc',\n",
       " 'AaBbCc',\n",
       " 'AaBbCc',\n",
       " 'AaBbCc',\n",
       " 'AaBbCc',\n",
       " 'AaBbCc',\n",
       " 'AaBbCc',\n",
       " 'AaBbCc',\n",
       " 'AaBbCc',\n",
       " 'AaBbCc',\n",
       " 'AaBbCc',\n",
       " 'AaBbCc',\n",
       " 'AaBbCc',\n",
       " 'AaBbCc',\n",
       " 'AaBbCc',\n",
       " 'AaBbCc',\n",
       " 'AaBbCc',\n",
       " 'AaBbCc',\n",
       " 'AaBbCc',\n",
       " 'AaBbCc',\n",
       " 'AaBbCc',\n",
       " 'AaBbCc',\n",
       " 'AaBbCc',\n",
       " 'AaBbCc',\n",
       " 'AaBbCc',\n",
       " 'AaBbCc',\n",
       " 'AaBbCc',\n",
       " 'AaBbCc',\n",
       " 'AaBbCc',\n",
       " 'AaBbCc',\n",
       " 'AaBbCc',\n",
       " 'AaBbCc',\n",
       " 'AaBbCc',\n",
       " 'AaBbCc',\n",
       " 'AaBbCc',\n",
       " 'AaBbCc',\n",
       " 'AaBbCc',\n",
       " 'AaBbCc',\n",
       " 'AaBbCc',\n",
       " 'AaBbCc',\n",
       " 'AaBbCc',\n",
       " 'AaBbCc',\n",
       " 'AaBbCc',\n",
       " 'AaBbCc',\n",
       " 'AaBbCc',\n",
       " 'AaBbCc',\n",
       " 'AaBbCc']"
      ]
     },
     "execution_count": 27,
     "metadata": {},
     "output_type": "execute_result"
    }
   ],
   "source": [
    "punnett(padre,madre)"
   ]
  },
  {
   "cell_type": "code",
   "execution_count": 28,
   "id": "8cf234e7-c4d6-46cf-bf4a-ea60490d1584",
   "metadata": {},
   "outputs": [
    {
     "data": {
      "text/plain": [
       "64"
      ]
     },
     "execution_count": 28,
     "metadata": {},
     "output_type": "execute_result"
    }
   ],
   "source": [
    "len(_)"
   ]
  },
  {
   "cell_type": "code",
   "execution_count": 9,
   "id": "96cc8e93-5910-488d-9ebc-65a3292b663c",
   "metadata": {
    "scrolled": true
   },
   "outputs": [
    {
     "data": {
      "text/plain": [
       "[('Aa', 'Bb', 'Cc'),\n",
       " ('Aa', 'Bb', 'Cc'),\n",
       " ('Aa', 'Bb', 'Cc'),\n",
       " ('Aa', 'Bb', 'Cc'),\n",
       " ('Aa', 'Bb', 'Cc'),\n",
       " ('Aa', 'Bb', 'Cc'),\n",
       " ('Aa', 'Bb', 'Cc'),\n",
       " ('Aa', 'Bb', 'Cc'),\n",
       " ('Aa', 'Bb', 'Cc'),\n",
       " ('Aa', 'Bb', 'Cc'),\n",
       " ('Aa', 'Bb', 'Cc'),\n",
       " ('Aa', 'Bb', 'Cc'),\n",
       " ('Aa', 'Bb', 'Cc'),\n",
       " ('Aa', 'Bb', 'Cc'),\n",
       " ('Aa', 'Bb', 'Cc'),\n",
       " ('Aa', 'Bb', 'Cc'),\n",
       " ('Aa', 'Bb', 'Cc'),\n",
       " ('Aa', 'Bb', 'Cc'),\n",
       " ('Aa', 'Bb', 'Cc'),\n",
       " ('Aa', 'Bb', 'Cc'),\n",
       " ('Aa', 'Bb', 'Cc'),\n",
       " ('Aa', 'Bb', 'Cc'),\n",
       " ('Aa', 'Bb', 'Cc'),\n",
       " ('Aa', 'Bb', 'Cc'),\n",
       " ('Aa', 'Bb', 'Cc'),\n",
       " ('Aa', 'Bb', 'Cc'),\n",
       " ('Aa', 'Bb', 'Cc'),\n",
       " ('Aa', 'Bb', 'Cc'),\n",
       " ('Aa', 'Bb', 'Cc'),\n",
       " ('Aa', 'Bb', 'Cc'),\n",
       " ('Aa', 'Bb', 'Cc'),\n",
       " ('Aa', 'Bb', 'Cc'),\n",
       " ('Aa', 'Bb', 'Cc'),\n",
       " ('Aa', 'Bb', 'Cc'),\n",
       " ('Aa', 'Bb', 'Cc'),\n",
       " ('Aa', 'Bb', 'Cc'),\n",
       " ('Aa', 'Bb', 'Cc'),\n",
       " ('Aa', 'Bb', 'Cc'),\n",
       " ('Aa', 'Bb', 'Cc'),\n",
       " ('Aa', 'Bb', 'Cc'),\n",
       " ('Aa', 'Bb', 'Cc'),\n",
       " ('Aa', 'Bb', 'Cc'),\n",
       " ('Aa', 'Bb', 'Cc'),\n",
       " ('Aa', 'Bb', 'Cc'),\n",
       " ('Aa', 'Bb', 'Cc'),\n",
       " ('Aa', 'Bb', 'Cc'),\n",
       " ('Aa', 'Bb', 'Cc'),\n",
       " ('Aa', 'Bb', 'Cc'),\n",
       " ('Aa', 'Bb', 'Cc'),\n",
       " ('Aa', 'Bb', 'Cc'),\n",
       " ('Aa', 'Bb', 'Cc'),\n",
       " ('Aa', 'Bb', 'Cc'),\n",
       " ('Aa', 'Bb', 'Cc'),\n",
       " ('Aa', 'Bb', 'Cc'),\n",
       " ('Aa', 'Bb', 'Cc'),\n",
       " ('Aa', 'Bb', 'Cc'),\n",
       " ('Aa', 'Bb', 'Cc'),\n",
       " ('Aa', 'Bb', 'Cc'),\n",
       " ('Aa', 'Bb', 'Cc'),\n",
       " ('Aa', 'Bb', 'Cc'),\n",
       " ('Aa', 'Bb', 'Cc'),\n",
       " ('Aa', 'Bb', 'Cc'),\n",
       " ('Aa', 'Bb', 'Cc'),\n",
       " ('Aa', 'Bb', 'Cc')]"
      ]
     },
     "execution_count": 9,
     "metadata": {},
     "output_type": "execute_result"
    }
   ],
   "source": [
    "[e for e in product(*([''.join(e) for e in product(*e)] for e in zip(allele(padre), allele(madre))))]"
   ]
  },
  {
   "cell_type": "code",
   "execution_count": 29,
   "id": "1486276e-fe1d-434d-b989-5334bc00ae3e",
   "metadata": {},
   "outputs": [
    {
     "data": {
      "text/plain": [
       "256"
      ]
     },
     "execution_count": 29,
     "metadata": {},
     "output_type": "execute_result"
    }
   ],
   "source": [
    "16*16"
   ]
  },
  {
   "cell_type": "code",
   "execution_count": 10,
   "id": "eac810ff-9dd6-479e-b4fc-f5d8687d403d",
   "metadata": {},
   "outputs": [],
   "source": [
    "def partir_en_parejas(string):\n",
    "    # Iniciar lista vacía para acumular las parejas\n",
    "    pares = []\n",
    "    \n",
    "    # Iterar sobre el string de 2 en 2\n",
    "    for i in range(0, len(string), 2):\n",
    "        # Emparejar y agregar a la lista\n",
    "        pares.append(tuple(string[i:i+2]))\n",
    "    \n",
    "    return pares"
   ]
  },
  {
   "cell_type": "code",
   "execution_count": 11,
   "id": "47b84480-919f-4957-9cf9-284320cdfd66",
   "metadata": {},
   "outputs": [
    {
     "data": {
      "text/plain": [
       "[('X', 'x'), ('Y', 'y'), ('Z', 'z')]"
      ]
     },
     "execution_count": 11,
     "metadata": {},
     "output_type": "execute_result"
    }
   ],
   "source": [
    "partir_en_parejas('XxYyZz')"
   ]
  },
  {
   "cell_type": "code",
   "execution_count": 21,
   "id": "a26d07ef-89c4-4bc2-a6d9-c395a4581237",
   "metadata": {},
   "outputs": [],
   "source": [
    "def generar_combinaciones(lista_parejas):\n",
    "    # Usar itertools.product para obtener todas las selecciones de un elemento de cada par\n",
    "    resultado = [''.join(par) for par in product(*lista_parejas)]\n",
    "    \n",
    "    return resultado"
   ]
  },
  {
   "cell_type": "code",
   "execution_count": 13,
   "id": "a8fd4846-e9fc-4c19-ae06-aa0fa17f978b",
   "metadata": {},
   "outputs": [
    {
     "data": {
      "text/plain": [
       "['aA', 'ab', 'BA', 'Bb']"
      ]
     },
     "execution_count": 13,
     "metadata": {},
     "output_type": "execute_result"
    }
   ],
   "source": [
    "generar_combinaciones([('a', 'B'), ('A', 'b')])"
   ]
  },
  {
   "cell_type": "code",
   "execution_count": 14,
   "id": "9c5d050a-56c5-4b4a-8157-4acf75aa6a74",
   "metadata": {},
   "outputs": [
    {
     "data": {
      "text/plain": [
       "['XYZ', 'XYz', 'XyZ', 'Xyz', 'xYZ', 'xYz', 'xyZ', 'xyz']"
      ]
     },
     "execution_count": 14,
     "metadata": {},
     "output_type": "execute_result"
    }
   ],
   "source": [
    "generar_combinaciones(partir_en_parejas('XxYyZz'))"
   ]
  },
  {
   "cell_type": "code",
   "execution_count": 15,
   "id": "201a7b97-c262-4652-81e3-af55a93d92fc",
   "metadata": {},
   "outputs": [],
   "source": [
    "def punnett(a,b):\n",
    "    alelos_a=generar_combinaciones(partir_en_parejas(a))\n",
    "    alelos_b=generar_combinaciones(partir_en_parejas(b))\n",
    "    resultado=[''.join(par) for par in product(alelos_a,alelos_b)]\n",
    "    return resultado"
   ]
  },
  {
   "cell_type": "code",
   "execution_count": 16,
   "id": "523dd08b-e650-4f13-9801-b7c3f69e20a1",
   "metadata": {
    "scrolled": true
   },
   "outputs": [
    {
     "data": {
      "text/plain": [
       "['ABCabc',\n",
       " 'ABCabc',\n",
       " 'ABCabc',\n",
       " 'ABCabc',\n",
       " 'ABCabc',\n",
       " 'ABCabc',\n",
       " 'ABCabc',\n",
       " 'ABCabc',\n",
       " 'ABCabc',\n",
       " 'ABCabc',\n",
       " 'ABCabc',\n",
       " 'ABCabc',\n",
       " 'ABCabc',\n",
       " 'ABCabc',\n",
       " 'ABCabc',\n",
       " 'ABCabc',\n",
       " 'AbCabc',\n",
       " 'AbCabc',\n",
       " 'AbCabc',\n",
       " 'AbCabc',\n",
       " 'AbCabc',\n",
       " 'AbCabc',\n",
       " 'AbCabc',\n",
       " 'AbCabc',\n",
       " 'AbCabc',\n",
       " 'AbCabc',\n",
       " 'AbCabc',\n",
       " 'AbCabc',\n",
       " 'AbCabc',\n",
       " 'AbCabc',\n",
       " 'AbCabc',\n",
       " 'AbCabc',\n",
       " 'aBCabc',\n",
       " 'aBCabc',\n",
       " 'aBCabc',\n",
       " 'aBCabc',\n",
       " 'aBCabc',\n",
       " 'aBCabc',\n",
       " 'aBCabc',\n",
       " 'aBCabc',\n",
       " 'aBCabc',\n",
       " 'aBCabc',\n",
       " 'aBCabc',\n",
       " 'aBCabc',\n",
       " 'aBCabc',\n",
       " 'aBCabc',\n",
       " 'aBCabc',\n",
       " 'aBCabc',\n",
       " 'abCabc',\n",
       " 'abCabc',\n",
       " 'abCabc',\n",
       " 'abCabc',\n",
       " 'abCabc',\n",
       " 'abCabc',\n",
       " 'abCabc',\n",
       " 'abCabc',\n",
       " 'abCabc',\n",
       " 'abCabc',\n",
       " 'abCabc',\n",
       " 'abCabc',\n",
       " 'abCabc',\n",
       " 'abCabc',\n",
       " 'abCabc',\n",
       " 'abCabc']"
      ]
     },
     "execution_count": 16,
     "metadata": {},
     "output_type": "execute_result"
    }
   ],
   "source": [
    "punnett('AaBbCC','aabbcc')"
   ]
  },
  {
   "cell_type": "code",
   "execution_count": 17,
   "id": "8a569538-2bde-4973-a638-596853d59ceb",
   "metadata": {},
   "outputs": [],
   "source": [
    "def generate_ordered_pairs(list1, list2):\n",
    "    # Use itertools.product to get all combinations of elements from both lists\n",
    "    result = [''.join(pair) for pair in product(list1, list2)]\n",
    "    \n",
    "    # Hacer una lista de listas con pares ordenados\n",
    "    ordered_pairs = [result[i:i+len(list1)] for i in range(0, len(result), len(list1))]\n",
    "    \n",
    "    return ordered_pairs"
   ]
  },
  {
   "cell_type": "code",
   "execution_count": 18,
   "id": "2efde405-d045-41a4-adb0-8094200db32a",
   "metadata": {},
   "outputs": [
    {
     "name": "stdout",
     "output_type": "stream",
     "text": [
      "[['XYZXyz', 'XYZXyz', 'XYZXyz', 'XYZXyz', 'XYZXyz', 'XYZXyz', 'XYZXyz', 'XYZXyz'], ['XYzXyz', 'XYzXyz', 'XYzXyz', 'XYzXyz', 'XYzXyz', 'XYzXyz', 'XYzXyz', 'XYzXyz'], ['XyZXyz', 'XyZXyz', 'XyZXyz', 'XyZXyz', 'XyZXyz', 'XyZXyz', 'XyZXyz', 'XyZXyz'], ['XyzXyz', 'XyzXyz', 'XyzXyz', 'XyzXyz', 'XyzXyz', 'XyzXyz', 'XyzXyz', 'XyzXyz'], ['xYZXyz', 'xYZXyz', 'xYZXyz', 'xYZXyz', 'xYZXyz', 'xYZXyz', 'xYZXyz', 'xYZXyz'], ['xYzXyz', 'xYzXyz', 'xYzXyz', 'xYzXyz', 'xYzXyz', 'xYzXyz', 'xYzXyz', 'xYzXyz'], ['xyZXyz', 'xyZXyz', 'xyZXyz', 'xyZXyz', 'xyZXyz', 'xyZXyz', 'xyZXyz', 'xyZXyz'], ['xyzXyz', 'xyzXyz', 'xyzXyz', 'xyzXyz', 'xyzXyz', 'xyzXyz', 'xyzXyz', 'xyzXyz']]\n"
     ]
    }
   ],
   "source": [
    "# Ejemplo de uso\n",
    "list1 = generar_combinaciones(partir_en_parejas('XxYyZz'))\n",
    "list2 = generar_combinaciones(partir_en_parejas('XXyyzz'))\n",
    "\n",
    "result = generate_ordered_pairs(list1, list2)\n",
    "print(result)  # Output: [['Ab', 'AB'], ['ab', 'aB']]"
   ]
  },
  {
   "cell_type": "code",
   "execution_count": 19,
   "id": "e933735b-5caf-4fd9-b8ac-f8688bbdaf9c",
   "metadata": {},
   "outputs": [
    {
     "data": {
      "text/plain": [
       "64"
      ]
     },
     "execution_count": 19,
     "metadata": {},
     "output_type": "execute_result"
    }
   ],
   "source": [
    "len(_)"
   ]
  },
  {
   "cell_type": "code",
   "execution_count": 22,
   "id": "33ff32d5-a02e-4114-b9d7-16d8fa52d2cf",
   "metadata": {},
   "outputs": [],
   "source": [
    "def sort_string_case_sensitive(s):\n",
    "    # Separar la cadena de texto en mayúsculas y minúsculas\n",
    "    upper_chars = sorted([c for c in s if c.isupper()])\n",
    "    lower_chars = sorted([c for c in s if c.islower()])\n",
    "    \n",
    "    # Combinar los caracteres ordenados para formar el resultado final\n",
    "    sorted_string = ''.join(upper_chars + lower_chars)\n",
    "    return sorted_string"
   ]
  },
  {
   "cell_type": "code",
   "execution_count": 23,
   "id": "fa7e7f18-5b31-41bc-ad0b-2d8bbbd4aecd",
   "metadata": {},
   "outputs": [
    {
     "name": "stdout",
     "output_type": "stream",
     "text": [
      "XXYyzz\n"
     ]
    }
   ],
   "source": [
    "# Ejemplo\n",
    "input_string = 'XYzXyz'\n",
    "result = sort_string_case_sensitive(input_string)\n",
    "print(result)  # Output: 'Xxyyzz'"
   ]
  },
  {
   "cell_type": "code",
   "execution_count": null,
   "id": "3f7c8253-81fa-420e-82cd-c67213be0ef4",
   "metadata": {},
   "outputs": [],
   "source": []
  }
 ],
 "metadata": {
  "kernelspec": {
   "display_name": "Python 3 (ipykernel)",
   "language": "python",
   "name": "python3"
  },
  "language_info": {
   "codemirror_mode": {
    "name": "ipython",
    "version": 3
   },
   "file_extension": ".py",
   "mimetype": "text/x-python",
   "name": "python",
   "nbconvert_exporter": "python",
   "pygments_lexer": "ipython3",
   "version": "3.13.2"
  }
 },
 "nbformat": 4,
 "nbformat_minor": 5
}
