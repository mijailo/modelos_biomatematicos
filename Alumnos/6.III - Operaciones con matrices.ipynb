{
 "cells": [
  {
   "cell_type": "markdown",
   "id": "e98a29e8-2a73-484c-82e3-b2538cd0d1e0",
   "metadata": {},
   "source": [
    "# Operaciones con matrices\n",
    "\n",
    "## Operaciones básicas\n",
    "\n",
    "Si $m,n\\in\\mathbb{N}$ son naturales no nulos, **una matriz $\\mathbf{A}$** de $m\\times n$ (o **de $m$ renglones y $n$ columnas**, o de dimensión $m$ por $n$) es un arreglo rectangular de números reales $a_{ij}$ (llamados _entradas de (la matriz) $\\mathbf{A}$_) con la siguiente forma:\n",
    "\n",
    "$$ \\mathbf{A}=\n",
    "    \\begin{pmatrix} \n",
    "        a_{11} & a_{12} & \\cdots & a_{1n} \\\\\n",
    "        a_{21} & a_{22} & \\cdots & a_{2n} \\\\\n",
    "        \\vdots & \\vdots & \\ddots & \\vdots \\\\\n",
    "        a_{m1} & a_{m2} & \\cdots & a_{mn} \\\\\n",
    "    \\end{pmatrix} $$\n",
    "De forma sintética, se escribe $\\mathbf{A}=\\left(a_{ij}\\right)$. Al conjunto de las matrices de $m\\times n$ con entradas reales se le denota por $M_{m\\times n}\\left(\\mathbb{R}\\right)$.\n",
    "\n",
    "De manera análoga a los números y a los vectores, _las matrices tienen un álgebra_:\n",
    "\n",
    "1. **Multiplicación de una matriz por un escalar**\n",
    "\n",
    "Si $\\mathbf{A}\\in M_{m\\times n}\\left(\\mathbb{R}\\right)$ y $\\lambda\\in\\mathbb{R}$, entonces $\\lambda \\mathbf{A}$ es la matriz dada por:\n",
    "$$ \\lambda\\mathbf{A}=\n",
    "    \\begin{pmatrix} \n",
    "        \\lambda a_{11} & \\lambda a_{12} & \\cdots & \\lambda a_{1n} \\\\\n",
    "        \\lambda a_{21} & \\lambda a_{22} & \\cdots & \\lambda a_{2n} \\\\\n",
    "        \\vdots & \\vdots & \\ddots & \\vdots \\\\\n",
    "        \\lambda a_{m1} & \\lambda a_{m2} & \\cdots & \\lambda a_{mn} \\\\\n",
    "    \\end{pmatrix} = \\left( \\lambda a_{ij} \\right) $$\n",
    "\n",
    "2. **Suma de matrices** (con la misma dimensión)\n",
    "\n",
    "Si $\\mathbf{A}, \\mathbf{B}\\in M_{m\\times n}\\left(\\mathbb{R}\\right)$, entonces $\\mathbf{A}+\\mathbf{B}$ es la matriz dada por:\n",
    "\n",
    "$$ \\mathbf{A}+\\mathbf{B}=\n",
    "    \\begin{pmatrix} \n",
    "        a_{11}+b_{11} & a_{12}+b_{12} & \\cdots & a_{1n}+b_{1n} \\\\\n",
    "        a_{21}+b_{21} & a_{22}+b_{22} & \\cdots & a_{2n}+b_{2n} \\\\\n",
    "        \\vdots & \\vdots & \\ddots & \\vdots \\\\\n",
    "        a_{m1}+b_{m1} & a_{m2}+b_{m2} & \\cdots & a_{mn}+b_{mn} \\\\\n",
    "    \\end{pmatrix} = \\left( a_{ij}+b_{ij} \\right) $$\n",
    "\n",
    "3. **Transposición de matrices**\n",
    "\n",
    "Si $\\mathbf{A}\\in M_{m\\times n}\\left(\\mathbb{R}\\right)$, entonces $\\mathbf{A}^{\\top}\\in M_{n\\times m}\\left(\\mathbb{R}\\right)$ (_$\\mathbf{A}$ transpuesta_ o _la transpuesta de $\\mathbf{A}$_) es la matriz dada por:\n",
    "\n",
    "$$ \\mathbf{A}^{\\top}=\n",
    "    \\begin{pmatrix} \n",
    "        a_{11} & a_{21} & \\cdots & a_{n1} \\\\\n",
    "        a_{12} & a_{22} & \\cdots & a_{n2} \\\\\n",
    "        \\vdots & \\vdots & \\ddots & \\vdots \\\\\n",
    "        a_{1n} & a_{2m} & \\cdots & a_{nm} \\\\\n",
    "    \\end{pmatrix} = \\left( a_{ij}^{\\top} \\right) = \\left( a_{ji} \\right)$$\n",
    "\n",
    "**Ejemplos**\n",
    "\n",
    "Sean $\\mathbf{A}:=\\begin{pmatrix}1 & 5 & -3 \\\\ 0 & 3 & 2\\end{pmatrix}$, $\\mathbf{B}:=\\begin{pmatrix}3 & 0 & -1 \\\\ 1 & -1 & 0\\end{pmatrix}$, $\\mathbf{A}$ y $\\mathbf{B}$ son matrices de $2\\times 3$. Cada una de ellas tiene $6$ entradas, las cuales se identifican mediante sus índices, v.gr. $a_{23}$ (leída como _a-dos-tres_) es igual a $2$, pues éste es el número localizado en el renglón 2, columna 3 de $\\mathbf{A}$. Análogamente, $b_{11}=3$, $b_{12}=0$, etc.\n",
    "\n",
    "Además:\n",
    "\n",
    "$$ 2\\mathbf{B}-\\mathbf{A} = \\begin{pmatrix}2\\cdot 3 & 2\\cdot 0 & 2\\cdot (-1) \\\\ 2\\cdot 1 & 2\\cdot (-1) & 2\\cdot 0\\end{pmatrix}-\\begin{pmatrix}1 & 5 & -3 \\\\ 0 & 3 & 2\\end{pmatrix} = \\begin{pmatrix} 6-1 & 0-5 & -2-(-3) \\\\ 2-0 & -2-3 & 0-2\\end{pmatrix}=\\begin{pmatrix} 5 & -5 & 1 \\\\ 2 & -5 & -2 \\end{pmatrix}$$\n",
    "\n",
    "$$ \\mathbf{A}^{\\top} = \\begin{pmatrix} 1 & 0 \\\\ 5 & 3 \\\\ -3 & 2 \\end{pmatrix} $$"
   ]
  },
  {
   "cell_type": "markdown",
   "id": "816f4f62-8487-4f5f-ae8c-c30ba5c38d2d",
   "metadata": {},
   "source": [
    "## Utilización de la computadora para operaciones matriciales básicas\n",
    "\n",
    "En `python` existen varias bibliotecas para operar matrices. A continuación, definiremos las mismas matrices $\\mathbf{A}$ y $\\mathbf{B}$ de los ejemplos previos utilizando [`sympy`](https://www.sympy.org/en/index.html)."
   ]
  },
  {
   "cell_type": "code",
   "execution_count": 2,
   "id": "third-steps",
   "metadata": {},
   "outputs": [],
   "source": [
    "import sympy as sp #Symbolic Python"
   ]
  },
  {
   "cell_type": "code",
   "execution_count": 4,
   "id": "b6be33e8-0ac5-45ad-ab99-e9404e4b2199",
   "metadata": {},
   "outputs": [
    {
     "data": {
      "text/latex": [
       "$\\displaystyle \\left[\\begin{matrix}1 & 5 & -3\\\\0 & 3 & 2\\end{matrix}\\right]$"
      ],
      "text/plain": [
       "Matrix([\n",
       "[1, 5, -3],\n",
       "[0, 3,  2]])"
      ]
     },
     "execution_count": 4,
     "metadata": {},
     "output_type": "execute_result"
    }
   ],
   "source": [
    "A=sp.Matrix([ #A es una matriz de 2x3\n",
    "    [1,5,-3],\n",
    "    [0,3,2]\n",
    "])\n",
    "A #Imprimir el valor de A"
   ]
  },
  {
   "cell_type": "code",
   "execution_count": 5,
   "id": "518bb152-ff46-4b18-bbaf-46c26443a6a0",
   "metadata": {},
   "outputs": [
    {
     "data": {
      "text/latex": [
       "$\\displaystyle \\left[\\begin{matrix}3 & 0 & -1\\\\1 & -1 & 0\\end{matrix}\\right]$"
      ],
      "text/plain": [
       "Matrix([\n",
       "[3,  0, -1],\n",
       "[1, -1,  0]])"
      ]
     },
     "execution_count": 5,
     "metadata": {},
     "output_type": "execute_result"
    }
   ],
   "source": [
    "B=sp.Matrix([ #B es una matriz de 2x3\n",
    "    [3,0,-1],\n",
    "    [1,-1,0]\n",
    "])\n",
    "B #Imprimir el valor de B"
   ]
  },
  {
   "cell_type": "markdown",
   "id": "57b7bf75-60a9-4296-bf99-64158eef9bd4",
   "metadata": {},
   "source": [
    "Calcular $2\\mathbf{B}-\\mathbf{A}$"
   ]
  },
  {
   "cell_type": "code",
   "execution_count": 6,
   "id": "da923f91-35df-416e-874c-3dab8e3c9039",
   "metadata": {},
   "outputs": [
    {
     "data": {
      "text/latex": [
       "$\\displaystyle \\left[\\begin{matrix}5 & -5 & 1\\\\2 & -5 & -2\\end{matrix}\\right]$"
      ],
      "text/plain": [
       "Matrix([\n",
       "[5, -5,  1],\n",
       "[2, -5, -2]])"
      ]
     },
     "execution_count": 6,
     "metadata": {},
     "output_type": "execute_result"
    }
   ],
   "source": [
    "2*B-A"
   ]
  },
  {
   "cell_type": "markdown",
   "id": "7e4be4ad-ca01-4016-abf8-dac3d6622556",
   "metadata": {},
   "source": [
    "Calcular $\\mathbf{A}^{\\top}$"
   ]
  },
  {
   "cell_type": "code",
   "execution_count": 7,
   "id": "0585b18a-e04c-469c-b701-ad009ceb72c5",
   "metadata": {},
   "outputs": [
    {
     "data": {
      "text/latex": [
       "$\\displaystyle \\left[\\begin{matrix}1 & 0\\\\5 & 3\\\\-3 & 2\\end{matrix}\\right]$"
      ],
      "text/plain": [
       "Matrix([\n",
       "[ 1, 0],\n",
       "[ 5, 3],\n",
       "[-3, 2]])"
      ]
     },
     "execution_count": 7,
     "metadata": {},
     "output_type": "execute_result"
    }
   ],
   "source": [
    "A.T"
   ]
  },
  {
   "cell_type": "markdown",
   "id": "close-objective",
   "metadata": {},
   "source": [
    "### Problema 1\n",
    "\n",
    "Dadas $\\mathbf{A}=\\begin{pmatrix} 1 & 1 \\\\ -3 & 3 \\\\ -1 & 5 \\end{pmatrix}$, $\\mathbf{B}=\\begin{pmatrix} 1 & -1 & 3 \\\\ 3 & -1 & 2 \\end{pmatrix}$, $\\mathbf{C}=\\begin{pmatrix} 0 & 5 \\\\ 1 & 0 \\\\ -3 & 2 \\end{pmatrix}$, calcula **a mano, detallando tu procedimiento**:\n",
    "\n",
    "1. $3\\mathbf{A}+2\\mathbf{B}^{\\top}$\n",
    "2. $\\left(\\mathbf{A}^{\\top}+\\mathbf{B}+\\mathbf{C}^{\\top}\\right)^{\\top}$\n",
    "3. $\\mathbf{A}+\\mathbf{B}^{\\top}+\\mathbf{C}$\n",
    "4. $\\mathbf{C}-\\mathbf{B}^{\\top}$\n",
    "5. $\\left(\\mathbf{A}\\right)^{\\top}$\n",
    "6. $\\left(-\\mathbf{A}+\\left(3\\mathbf{B}\\right)^{\\top}\\right)^{\\top}$"
   ]
  },
  {
   "cell_type": "markdown",
   "id": "22b36745-f415-4490-9a9b-480b81648ae1",
   "metadata": {},
   "source": [
    "### Problema 2\n",
    "\n",
    "Corrobora las respuestas del problema anterior, utilizando `sympy`."
   ]
  },
  {
   "cell_type": "code",
   "execution_count": 3,
   "id": "grand-albuquerque",
   "metadata": {},
   "outputs": [],
   "source": [
    "A=sp.Matrix([\n",
    "    # Coloca aquí las entradas de A\n",
    "])\n",
    "\n",
    "B=sp.Matrix([\n",
    "    # Coloca aquí las entradas de B\n",
    "])\n",
    "\n",
    "C=sp.Matrix([\n",
    "    # Coloca aquí las entradas de C\n",
    "])"
   ]
  },
  {
   "cell_type": "markdown",
   "id": "improving-poster",
   "metadata": {},
   "source": [
    "## Producto de una matriz renglón por una matriz columna\n",
    "\n",
    "A las matrices $\\mathbf{a}\\in M_{m1}\\left(\\mathbb{R}\\right)$ de una sola columna se les llama _matrices_ o _vectores columna_:\n",
    "\n",
    "$$\\mathbf{a}=\\begin{pmatrix} a_1 \\\\ \\vdots \\\\ a_m \\end{pmatrix}$$\n",
    "\n",
    "(Dado que $\\mathbf{a}$ sólo tiene una columna, no hace falta representar sus entradas con dos subíndices).\n",
    "\n",
    "Análogamente, a las matrices $\\mathbf{b}\\in M_{1m}\\left(\\mathbb{R}\\right)$ de un solo renglón les llama _matrices_ o _vectores renglón_:\n",
    "\n",
    "$$\\mathbf{b}=\\begin{pmatrix} b_1 & \\cdots & b_n\\end{pmatrix}$$\n",
    "\n",
    "(Nótese que la transpuesta de una matriz columna resulta una matriz renglón, y viceversa.)\n",
    "\n",
    "Si $\\mathbf{a}\\in M_{1n}\\left(\\mathbb{R}\\right)$ y $\\mathbf{b}\\in M_{n1}\\left(\\mathbb{R}\\right)$ (es decir, $\\mathbf{a}$ es una matriz renglón y $\\mathbf{b}$ es una matriz columna, y ambas matrices tienen el mismo número de entradas), entonces **el producto (interior) de $\\mathbf{a}$ por $\\mathbf{b}$** es el número dado por:\n",
    "\n",
    "$$\\mathbf{a}\\mathbf{b}=\\begin{pmatrix} a_1 & \\cdots & a_n \\\\ \\end{pmatrix}\\begin{pmatrix} b_1 \\\\ \\vdots \\\\ b_n\\end{pmatrix}=a_1\\cdot b_1+\\cdots+a_n\\cdot b_n$$\n",
    "\n",
    "**Ejemplos**\n",
    "\n",
    "$$\\begin{pmatrix} 1 & -3 & 2 \\\\ \\end{pmatrix}\\begin{pmatrix} -1 \\\\ 1 \\\\ 2 \\end{pmatrix}=1\\cdot (-1)+(-3)\\cdot 1+2\\cdot 2= -1-3+4=0$$\n",
    "\n",
    "Vamos a comprobar este cálculo utilizando `sympy`:"
   ]
  },
  {
   "cell_type": "code",
   "execution_count": 11,
   "id": "fee68356-3fef-4fe1-83bb-37a9424cf2fc",
   "metadata": {},
   "outputs": [
    {
     "data": {
      "text/latex": [
       "$\\displaystyle \\left[\\begin{matrix}1 & -3 & 2\\end{matrix}\\right]$"
      ],
      "text/plain": [
       "Matrix([[1, -3, 2]])"
      ]
     },
     "execution_count": 11,
     "metadata": {},
     "output_type": "execute_result"
    }
   ],
   "source": [
    "a=sp.Matrix([\n",
    "    [1,-3,2] #Así se define una matriz con un solo renglón\n",
    "])\n",
    "a"
   ]
  },
  {
   "cell_type": "code",
   "execution_count": 12,
   "id": "caeac4df-c1c9-4018-9de4-9a68d465de9a",
   "metadata": {},
   "outputs": [
    {
     "data": {
      "text/latex": [
       "$\\displaystyle \\left[\\begin{matrix}-1\\\\1\\\\2\\end{matrix}\\right]$"
      ],
      "text/plain": [
       "Matrix([\n",
       "[-1],\n",
       "[ 1],\n",
       "[ 2]])"
      ]
     },
     "execution_count": 12,
     "metadata": {},
     "output_type": "execute_result"
    }
   ],
   "source": [
    "b=sp.Matrix([\n",
    "    [-1], #Así se define una matriz con una sola columna\n",
    "    [1],\n",
    "    [2]\n",
    "])\n",
    "b"
   ]
  },
  {
   "cell_type": "code",
   "execution_count": 10,
   "id": "0436d84b-19b2-436d-895f-b7405a95a2c2",
   "metadata": {},
   "outputs": [
    {
     "data": {
      "text/latex": [
       "$\\displaystyle 0$"
      ],
      "text/plain": [
       "0"
      ]
     },
     "execution_count": 10,
     "metadata": {},
     "output_type": "execute_result"
    }
   ],
   "source": [
    "a.dot(b)"
   ]
  },
  {
   "cell_type": "markdown",
   "id": "parliamentary-samba",
   "metadata": {},
   "source": [
    "### Problema 3\n",
    "\n",
    "Dados $\\mathbf{w}=\\begin{pmatrix} 1 & 2 & -1\\end{pmatrix}$, $\\mathbf{x}=\\begin{pmatrix} 0 \\\\ -1 \\\\ 2\\end{pmatrix}$, $\\mathbf{y}=\\begin{pmatrix} 4 & -2 & 0\\end{pmatrix}$, calcula **a mano, detallando tu procedimiento**:\n",
    "\n",
    "1. $\\mathbf{w}\\mathbf{x}$\n",
    "2. $\\mathbf{y}\\mathbf{w}^{\\top}$\n",
    "3. $\\left(\\mathbf{w}-\\mathbf{y}\\right)\\mathbf{x}$\n",
    "4. $\\mathbf{x}^{\\top}\\left(\\mathbf{w}^{\\top}-\\mathbf{y}^{\\top}\\right)$\n",
    "5. $\\mathbf{w}\\mathbf{w}^{\\top}+\\mathbf{x}^{\\top}\\mathbf{x}+\\mathbf{z}\\mathbf{z}^{\\top}$\n",
    "6. $3\\mathbf{y}\\left(2\\mathbf{x}\\right)$"
   ]
  },
  {
   "cell_type": "markdown",
   "id": "c8ceef40-0a8c-4c6a-891f-a8cd098866ef",
   "metadata": {},
   "source": [
    "### Problema 4\n",
    "\n",
    "Corrobora las respuestas del problema anterior, utilizando `sympy`."
   ]
  },
  {
   "cell_type": "code",
   "execution_count": 3,
   "id": "108c3f1d-5511-4f41-af01-0d24b07ffccc",
   "metadata": {},
   "outputs": [],
   "source": [
    "w=sp.Matrix([\n",
    "    # Coloca aquí las entradas de w\n",
    "])\n",
    "\n",
    "x=sp.Matrix([\n",
    "    # Coloca aquí las entradas de x\n",
    "])\n",
    "\n",
    "y=sp.Matrix([\n",
    "    # Coloca aquí las entradas de y\n",
    "])"
   ]
  },
  {
   "cell_type": "markdown",
   "id": "vanilla-criterion",
   "metadata": {},
   "source": [
    "## Producto matricial\n",
    "\n",
    "\n",
    "Dos matrices de dimensiones $ r_1 \\times c_1 $ y $ r_2 \\times c_2 $ se llaman **conformes** si $ c_1 = r_2 $; es decir, si el número de columnas de la primera matriz es igual al número de renglones de la segunda. Por ejemplo, si:\n",
    "\n",
    "$$\n",
    "A := \\begin{pmatrix} \n",
    "3 & 6 & 7 \\\\ \n",
    "12 & 9 & 11 \n",
    "\\end{pmatrix}_{2 \\times 3}, \\quad \n",
    "B := \\begin{pmatrix} \n",
    "6 & 12 \\\\ \n",
    "5 & 10 \\\\ \n",
    "13 & 2 \n",
    "\\end{pmatrix}_{3 \\times 2}, \\quad \n",
    "C := \\begin{pmatrix} \n",
    "1 & 7 & 8 \\\\ \n",
    "2 & 4 & 3 \n",
    "\\end{pmatrix}_{2 \\times 3}\n",
    "$$\n",
    "\n",
    "entonces $ A $ es conforme con $ B $, $ B $ es conforme con $ C $ y $ C $ es conforme con $ B $; hay que notar también que $ A $ no es conforme con $ C $ ni $ C $ es conforme con $ A $.\n",
    "\n",
    "(En las matrices anteriores se colocaron subíndices para indicar sus dimensiones, con la finalidad de analizar la conformidad entre ellas.)\n",
    "\n",
    "El **producto de matrices conformes** se define con la ayuda del producto interior de vectores renglón y columna. Por ejemplo, podemos reescribir las matrices $ A $ y $ B $ de antes en términos de renglones y columnas:\n",
    "\n",
    "$$\n",
    "A = \\begin{pmatrix} R_1 \\\\ R_2 \\end{pmatrix}, \\quad \n",
    "B = \\begin{pmatrix} C_1 & C_2 \\end{pmatrix}\n",
    "$$\n",
    "\n",
    "donde\n",
    "\n",
    "$$\n",
    "R_1 = \\begin{pmatrix} 3 & 6 & 7 \\end{pmatrix}, \\quad \n",
    "R_2 = \\begin{pmatrix} 12 & 9 & 11 \\end{pmatrix}, \\quad \n",
    "C_1 = \\begin{pmatrix} 6 \\\\ 5 \\\\ 13 \\end{pmatrix}, \\quad \n",
    "C_2 = \\begin{pmatrix} 12 \\\\ 10 \\\\ 2 \\end{pmatrix}\n",
    "$$\n",
    "\n",
    "Su producto o multiplicación matricial es:\n",
    "\n",
    "$$\n",
    "AB = \\begin{pmatrix} \n",
    "R_1C_1 & R_1C_2 \\\\ \n",
    "R_2C_1 & R_2C_2 \n",
    "\\end{pmatrix} = \n",
    "\\begin{pmatrix} \n",
    "3 \\cdot 6 + 6 \\cdot 5 + 7 \\cdot 13 & 3 \\cdot 12 + 6 \\cdot 10 + 7 \\cdot 2 \\\\ \n",
    "12 \\cdot 6 + 9 \\cdot 5 + 11 \\cdot 13 & 12 \\cdot 12 + 9 \\cdot 10 + 11 \\cdot 2 \n",
    "\\end{pmatrix} = \n",
    "\\begin{pmatrix} \n",
    "139 & 110 \\\\ \n",
    "260 & 256 \n",
    "\\end{pmatrix}_{2 \\times 2}\n",
    "$$\n",
    "\n",
    "Vamos a comprobar este cálculo con `sympy`:"
   ]
  },
  {
   "cell_type": "code",
   "execution_count": 14,
   "id": "f88a327a-05a8-4bbb-baa7-513e789dacae",
   "metadata": {},
   "outputs": [
    {
     "data": {
      "text/latex": [
       "$\\displaystyle \\left[\\begin{matrix}3 & 6 & 7\\\\12 & 9 & 11\\end{matrix}\\right]$"
      ],
      "text/plain": [
       "Matrix([\n",
       "[ 3, 6,  7],\n",
       "[12, 9, 11]])"
      ]
     },
     "execution_count": 14,
     "metadata": {},
     "output_type": "execute_result"
    }
   ],
   "source": [
    "A=sp.Matrix(\n",
    "    [\n",
    "        [3,6,7],\n",
    "        [12,9,11]\n",
    "    ]\n",
    ")\n",
    "A"
   ]
  },
  {
   "cell_type": "code",
   "execution_count": 15,
   "id": "b125491c-0092-49d5-a62e-fa12978cc883",
   "metadata": {},
   "outputs": [
    {
     "data": {
      "text/latex": [
       "$\\displaystyle \\left[\\begin{matrix}6 & 12\\\\5 & 10\\\\13 & 2\\end{matrix}\\right]$"
      ],
      "text/plain": [
       "Matrix([\n",
       "[ 6, 12],\n",
       "[ 5, 10],\n",
       "[13,  2]])"
      ]
     },
     "execution_count": 15,
     "metadata": {},
     "output_type": "execute_result"
    }
   ],
   "source": [
    "B=sp.Matrix(\n",
    "    [\n",
    "        [6,12],\n",
    "        [5,10],\n",
    "        [13,2]\n",
    "    ]\n",
    ")\n",
    "B"
   ]
  },
  {
   "cell_type": "code",
   "execution_count": 17,
   "id": "50af907e-3e31-4a29-be3c-bcaeb726ae77",
   "metadata": {},
   "outputs": [
    {
     "data": {
      "text/latex": [
       "$\\displaystyle \\left[\\begin{matrix}139 & 110\\\\260 & 256\\end{matrix}\\right]$"
      ],
      "text/plain": [
       "Matrix([\n",
       "[139, 110],\n",
       "[260, 256]])"
      ]
     },
     "execution_count": 17,
     "metadata": {},
     "output_type": "execute_result"
    }
   ],
   "source": [
    "A*B #La notación en python para multiplicar matrices es la misma que la de la multiplicación normal"
   ]
  },
  {
   "cell_type": "markdown",
   "id": "3f62fa0f-7021-4617-bd17-69ab1ef0502d",
   "metadata": {},
   "source": [
    "En general, si $ A = (a_{ij}) $, $B = (b_{ij})$ son de dimensión $ r_1 \\times n $, $ n \\times c_2 $, respectivamente (es decir, **$A$ es conforme con $B$**), su producto $ AB $ será una matriz de dimensión $ r_1 \\times c_2 $ con entradas:\n",
    "\n",
    "$$\n",
    "AB = \\left( a_{i1} b_{1j} + a_{i2} b_{2j} +\\cdots + a_{n1} b_{nj} \\right) = \\left( \\sum_{k=1}^n a_{ik} b_{kj} \\right)\n",
    "$$"
   ]
  },
  {
   "cell_type": "markdown",
   "id": "reasonable-survival",
   "metadata": {},
   "source": [
    "### Problema 5\n",
    "\n",
    "Calcula **a mano, detallando tu procedimiento**, los productos $AB$ y $BA$ para los siguientes pares de matrices.\n",
    "\n",
    "1. $A = \\begin{pmatrix} 0 & 1 & -1 & 1 \\\\ 1 & 0 & 1 & 0 \\\\ 0 & 1 & 0 & 1 \\\\ \\end{pmatrix}, \\, B = \\begin{pmatrix} -1 \\\\ 0 \\\\ 1 \\\\ -1 \\\\ \\end{pmatrix}$\n",
    "2. $A = \\begin{pmatrix} 7 & 4 \\\\ 4 & -2 \\\\ 8 & 1 \\\\ \\end{pmatrix}, \\, B = \\begin{pmatrix} 2 & 1 & -2 \\\\ -1 & 0 & 1 \\\\ \\end{pmatrix}$\n",
    "3. $A = \\begin{pmatrix} 1 & 2 & 3 \\\\ 1 & 3 & -2 \\\\ \\end{pmatrix}, \\, B = \\begin{pmatrix} 7 & -5 \\\\ 2 & 1 \\\\ -1 & 3 \\\\ \\end{pmatrix}$\n",
    "4. $A = \\begin{pmatrix} 1 & 0 & 0 \\\\ 0 & 1 & 0 \\\\ 0 & 0 & 1 \\\\ \\end{pmatrix}, \\, B = \\begin{pmatrix} 1 & 2 & -2 \\\\ 2 & 3 & 1 \\\\ 0 & 2 & -3 \\\\ \\end{pmatrix}$"
   ]
  },
  {
   "cell_type": "markdown",
   "id": "f2fd1889-4067-4c2f-be48-4a01b72bdf15",
   "metadata": {},
   "source": [
    "### Problema 6\n",
    "\n",
    "Verifica las respuestas del inciso anterior con `sympy`."
   ]
  },
  {
   "cell_type": "code",
   "execution_count": 17,
   "id": "tamil-special",
   "metadata": {},
   "outputs": [],
   "source": [
    "A1=sp.Matrix([\n",
    "    # Incluye aquí las entradas de la matriz A del primer subinciso\n",
    "])\n",
    "\n",
    "B1=sp.Matrix([\n",
    "    # Incluye aquí las entradas de la matriz B del primer subinciso\n",
    "])"
   ]
  },
  {
   "cell_type": "code",
   "execution_count": null,
   "id": "a4f77768-4c4e-41b5-9824-98a9117ccf4b",
   "metadata": {},
   "outputs": [],
   "source": [
    "#Escribe aquí la expresión de A1 por B1\n"
   ]
  },
  {
   "cell_type": "code",
   "execution_count": null,
   "id": "83f7fea7-99aa-48ec-af6c-8de02386f814",
   "metadata": {},
   "outputs": [],
   "source": [
    "#Escribe aquí la expresión de B1 por A1\n"
   ]
  },
  {
   "cell_type": "code",
   "execution_count": 18,
   "id": "superior-carry",
   "metadata": {},
   "outputs": [
    {
     "data": {
      "text/latex": [
       "$\\displaystyle \\left[\\begin{matrix}-2\\end{matrix}\\right]$"
      ],
      "text/plain": [
       "Matrix([[-2]])"
      ]
     },
     "execution_count": 18,
     "metadata": {},
     "output_type": "execute_result"
    }
   ],
   "source": [
    "A2=sp.Matrix([\n",
    "    # Incluye aquí las entradas de la matriz A del segundo subinciso\n",
    "])\n",
    "\n",
    "B2=sp.Matrix([\n",
    "    # Incluye aquí las entradas de la matriz B del segundo subinciso\n",
    "])"
   ]
  },
  {
   "cell_type": "code",
   "execution_count": 18,
   "id": "several-concern",
   "metadata": {},
   "outputs": [],
   "source": [
    "# etc"
   ]
  },
  {
   "cell_type": "markdown",
   "id": "convinced-turkish",
   "metadata": {},
   "source": [
    "## Conclusión\n",
    "\n",
    "De forma general:\n",
    "\n",
    "1. Las matrices pueden sumarse (o restarse), siempre y cuando tengan las mismas dimensiones.\n",
    "2. La suma de matrices es conmutativa.\n",
    "3. La matriz neutra para la suma es la que tiene puros ceros.\n",
    "4. Las matrices siempre pueden multiplicarse por _escalares_ (números reales).\n",
    "5. Las matrices pueden multiplicarse, __*siempre y cuando sean conformes*__.\n",
    "6. El producto de matrices no es conmutativo. Hay ocasiones en que dos matrices pueden multiplicarse en un orden pero no en el otro.\n",
    "\n",
    "[Este artículo](https://en.wikipedia.org/wiki/Matrix_(mathematics)) de Wikipedia es una excelente referencia."
   ]
  }
 ],
 "metadata": {
  "kernelspec": {
   "display_name": "Python 3 (ipykernel)",
   "language": "python",
   "name": "python3"
  },
  "language_info": {
   "codemirror_mode": {
    "name": "ipython",
    "version": 3
   },
   "file_extension": ".py",
   "mimetype": "text/x-python",
   "name": "python",
   "nbconvert_exporter": "python",
   "pygments_lexer": "ipython3",
   "version": "3.13.3"
  }
 },
 "nbformat": 4,
 "nbformat_minor": 5
}
