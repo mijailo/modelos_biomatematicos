{
 "cells": [
  {
   "cell_type": "markdown",
   "metadata": {},
   "source": [
    "### <font color='blue'> Función exponencial </font>\n",
    "\n",
    "La función exponencial $f(x)=e^{x}$ puede definirse a través del siguiente límite:\n",
    "\n",
    "\\begin{equation}\n",
    "    e^{x}:= \\lim_{n \\to \\infty} \\left( 1 + \\frac{x}{n} \\right)^n\n",
    "\\end{equation}\n",
    "\n",
    "Esto es relevante en la formulación del _interés continuamente compuesto_ a partir del _interés compuesto_ : Si $C_I$ es el capital inicial (o _principal_) invertido con una <font color='crimson'>_tasa de interés nominal_</font> $r$ (donde $0\\leq r \\leq 1$), frecuencia de pago $n$ y período nominal $t$, entonces:\n",
    "\n",
    "\\begin{equation}\n",
    "    C_F=C_I\\left(1+\\frac{r}{n}\\right)^{nt} \\xrightarrow[n \\to \\infty]{} C_Ie^{rt}\n",
    "\\end{equation}\n",
    "\n",
    "lo que equivale a una _frecuencia de composición infinita_."
   ]
  },
  {
   "cell_type": "code",
   "execution_count": 1,
   "metadata": {},
   "outputs": [],
   "source": [
    "import matplotlib.pyplot as plt\n",
    "from numpy import exp, linspace\n",
    "from ipywidgets import interactive\n",
    "\n",
    "def int_comp(C0,r,n,t):\n",
    "    #assert all(C0>0,0<r<1,type(n)==int,n>0,t>0)\n",
    "    return C0*(1+r/n)**(n*t)\n",
    "\n",
    "def int_cont(C0,r,t):\n",
    "    #assert all(C0>0,0<r<1,t>0)\n",
    "    return C0*exp(r*t)\n",
    "\n",
    "def comparacion(n=1):\n",
    "    plt.figure(2)\n",
    "    plt.plot(t, int_comp(C0,r,n,t),label='comp')\n",
    "    plt.plot(t, int_cont(C0,r,t),label='cont')\n",
    "    plt.legend()\n",
    "    plt.grid()\n",
    "    plt.show()\n",
    "    \n",
    "interactive_plot = interactive(comparacion, n=(1, 50, 1), continuous_update=False)\n",
    "output = interactive_plot.children[-1]\n",
    "output.layout.width = '500px'"
   ]
  },
  {
   "cell_type": "code",
   "execution_count": 21,
   "metadata": {},
   "outputs": [
    {
     "data": {
      "application/vnd.jupyter.widget-view+json": {
       "model_id": "0183786a9b5845c186b7f580764164e1",
       "version_major": 2,
       "version_minor": 0
      },
      "text/plain": [
       "interactive(children=(IntSlider(value=6, description='n', max=50, min=1), Output(layout=Layout(width='500px'),…"
      ]
     },
     "metadata": {},
     "output_type": "display_data"
    }
   ],
   "source": [
    "%matplotlib inline\n",
    "t = linspace(0, 30, num=1000)\n",
    "C0=2\n",
    "r=0.5\n",
    "\n",
    "interactive_plot"
   ]
  },
  {
   "cell_type": "code",
   "execution_count": 4,
   "metadata": {},
   "outputs": [],
   "source": [
    "def int_comp_res(C0,r,n,t):\n",
    "    print('Una inversión de ${} con tasa anual de interés del {}%, con frecuencia '\n",
    "          'de conversión {},\\npor un período de {} años'\n",
    "          ', se obtiene un capital de ${:.2f}.'.format(\n",
    "              C0,int(r*100),n,t,int_comp(C0,r,n,t)))"
   ]
  },
  {
   "cell_type": "code",
   "execution_count": 5,
   "metadata": {},
   "outputs": [
    {
     "name": "stdout",
     "output_type": "stream",
     "text": [
      "Una inversión de $2 con tasa anual de interés del 10%, con frecuencia de conversión 6,\n",
      "por un período de 3 años, se obtiene un capital de $2.69.\n"
     ]
    }
   ],
   "source": [
    "#Calcular interés compuesto\n",
    "\n",
    "C0=2 #Capital inicial: número real positivo.\n",
    "r=0.1 #Tasa de interés: número real entre 0 y 1.\n",
    "n=6 #Frecuencia de composición: número (natural) de veces al año que se paga interés.\n",
    "t=3 #Tiempo de inversión: número (natural) de años que se invierte.\n",
    "\n",
    "int_comp_res(C0,r,n,t)"
   ]
  },
  {
   "cell_type": "markdown",
   "metadata": {},
   "source": [
    "# Ejemplito de (cómo programar) una función"
   ]
  },
  {
   "cell_type": "code",
   "execution_count": 11,
   "metadata": {},
   "outputs": [
    {
     "name": "stdout",
     "output_type": "stream",
     "text": [
      "Índice:0, Término:-1\n",
      "Índice:1, Término:2\n",
      "Índice:2, Término:-4\n",
      "Índice:3, Término:8\n",
      "Índice:4, Término:-16\n",
      "Índice:5, Término:32\n",
      "Índice:6, Término:-64\n",
      "Índice:7, Término:128\n",
      "Índice:8, Término:-256\n",
      "Índice:9, Término:512\n"
     ]
    }
   ],
   "source": [
    "def s(s0,r,n): #s0=termino inicial, r=razon, n=termino de la lista\n",
    "    return s0*(r**n)\n",
    "\n",
    "#ejemplo 1: s_n=(-1)(-2)^n\n",
    "for i in range(10): #Lista de los 10 primeros terminos: desde el 0 hasta el 9\n",
    "    print('Índice:{}, Término:{}'.format(i,s(-1,-2,i)))"
   ]
  },
  {
   "cell_type": "code",
   "execution_count": 15,
   "metadata": {},
   "outputs": [
    {
     "data": {
      "image/png": "[encoded data removed]",
      "text/plain": [
       "<Figure size 432x288 with 1 Axes>"
      ]
     },
     "metadata": {
      "needs_background": "light"
     },
     "output_type": "display_data"
    }
   ],
   "source": [
    "plt.plot([s(-1,-2,i) for i in range(5)],'.')\n",
    "plt.grid()"
   ]
  },
  {
   "cell_type": "code",
   "execution_count": 16,
   "metadata": {},
   "outputs": [
    {
     "name": "stdout",
     "output_type": "stream",
     "text": [
      "Índice:0, Término:1\n",
      "Índice:1, Término:2\n",
      "Índice:2, Término:4\n",
      "Índice:3, Término:8\n",
      "Índice:4, Término:16\n",
      "Índice:5, Término:32\n",
      "Índice:6, Término:64\n",
      "Índice:7, Término:128\n",
      "Índice:8, Término:256\n",
      "Índice:9, Término:512\n"
     ]
    }
   ],
   "source": [
    "#ejemplo 2: s_n=2^n\n",
    "for i in range(10): #Lista de los 10 primeros terminos: desde el 0 hasta el 9\n",
    "    print('Índice:{}, Término:{}'.format(i,s(1,2,i)))"
   ]
  },
  {
   "cell_type": "code",
   "execution_count": 20,
   "metadata": {},
   "outputs": [
    {
     "data": {
      "image/png": "[encoded data removed]",
      "text/plain": [
       "<Figure size 432x288 with 1 Axes>"
      ]
     },
     "metadata": {
      "needs_background": "light"
     },
     "output_type": "display_data"
    }
   ],
   "source": [
    "plt.plot([s(1,2,i) for i in range(30)],'-')\n",
    "plt.grid()"
   ]
  },
  {
   "cell_type": "code",
   "execution_count": null,
   "metadata": {},
   "outputs": [],
   "source": []
  }
 ],
 "metadata": {
  "kernelspec": {
   "display_name": "Python 3",
   "language": "python",
   "name": "python3"
  },
  "language_info": {
   "codemirror_mode": {
    "name": "ipython",
    "version": 3
   },
   "file_extension": ".py",
   "mimetype": "text/x-python",
   "name": "python",
   "nbconvert_exporter": "python",
   "pygments_lexer": "ipython3",
   "version": "3.8.6"
  }
 },
 "nbformat": 4,
 "nbformat_minor": 4
}
