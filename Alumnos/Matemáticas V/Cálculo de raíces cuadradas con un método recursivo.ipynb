{
 "cells": [
  {
   "cell_type": "markdown",
   "id": "39aecec4",
   "metadata": {},
   "source": [
    "# Cálculo de raíces cuadradas\n",
    "\n",
    "Utilizaremos el método de la sucesión convergente para calcular la raíz cuadrada de un número $a\\in\\mathbb{R}$ positivo:\n",
    "\n",
    "\\begin{gather}\n",
    " x_0 \\in \\mathbb{R}: \\; x_0^2\\approx a \\\\\n",
    " x_{n+1} = \\frac{1}{2}\\left( x_n + \\frac{a}{x_n} \\right)\\\\\n",
    " (\\text{Se sabe que}: \\lim_{n\\to\\infty} x_n = \\sqrt{a})\n",
    "\\end{gather}"
   ]
  },
  {
   "cell_type": "code",
   "execution_count": 3,
   "id": "a1ef6b7f",
   "metadata": {},
   "outputs": [],
   "source": [
    "from fractions import Fraction as F"
   ]
  },
  {
   "cell_type": "code",
   "execution_count": 4,
   "id": "9f587341",
   "metadata": {},
   "outputs": [
    {
     "data": {
      "text/plain": [
       "Fraction(1, 2)"
      ]
     },
     "execution_count": 4,
     "metadata": {},
     "output_type": "execute_result"
    }
   ],
   "source": [
    "F(2,4)"
   ]
  },
  {
   "cell_type": "markdown",
   "id": "093f1a45",
   "metadata": {},
   "source": [
    "Este módulo es útil para hacer operaciones con fracciones."
   ]
  },
  {
   "cell_type": "code",
   "execution_count": 3,
   "id": "825d8d55",
   "metadata": {},
   "outputs": [
    {
     "data": {
      "text/plain": [
       "Fraction(1, 2)"
      ]
     },
     "execution_count": 3,
     "metadata": {},
     "output_type": "execute_result"
    }
   ],
   "source": [
    "x=F(2,4) # 1/2\n",
    "x"
   ]
  },
  {
   "cell_type": "markdown",
   "id": "6f8cc383",
   "metadata": {},
   "source": [
    "Una de sus gracias es que las expresa en forma irreducible.\n",
    "\n",
    "> **Nota**: Una fracción $\\frac{a}{b}$ es irreducible cuando $a$ y $b$ son primos relativos (es decir, el máximo común divisor de $a$ y $b$ es 1)."
   ]
  },
  {
   "cell_type": "markdown",
   "id": "e738b2ee",
   "metadata": {},
   "source": [
    "Además, podemos obtener la representación decimal (_aproximada_) de esas fracciones."
   ]
  },
  {
   "cell_type": "code",
   "execution_count": 4,
   "id": "2350322b",
   "metadata": {},
   "outputs": [
    {
     "data": {
      "text/plain": [
       "0.5"
      ]
     },
     "execution_count": 4,
     "metadata": {},
     "output_type": "execute_result"
    }
   ],
   "source": [
    "float(x)"
   ]
  },
  {
   "cell_type": "code",
   "execution_count": 5,
   "id": "98471377",
   "metadata": {},
   "outputs": [
    {
     "data": {
      "text/plain": [
       "0.6666666666666666"
      ]
     },
     "execution_count": 5,
     "metadata": {},
     "output_type": "execute_result"
    }
   ],
   "source": [
    "float(F(2,3))"
   ]
  },
  {
   "cell_type": "markdown",
   "id": "8306f6f9",
   "metadata": {},
   "source": [
    "Vamos a definir una función, de forma recursiva, que nos permita obtener el término $x_n$ del listado de números que converge a la raíz de $a$. Para ello, vamos a ejemplificar la definición y uso de las funciones en [`Python 3`](https://www.python.org/)."
   ]
  },
  {
   "cell_type": "code",
   "execution_count": 5,
   "id": "d910b6b5",
   "metadata": {},
   "outputs": [
    {
     "data": {
      "text/plain": [
       "12.5"
      ]
     },
     "execution_count": 5,
     "metadata": {},
     "output_type": "execute_result"
    }
   ],
   "source": [
    "# Vamos a hacer una función que, dados dos números, calcule su suma\n",
    "def raul(a,b): #El nombre de la función es arbitrario\n",
    "    return a+b\n",
    "\n",
    "raul(10,2.5)"
   ]
  },
  {
   "cell_type": "code",
   "execution_count": 6,
   "id": "847bd9a2",
   "metadata": {},
   "outputs": [
    {
     "data": {
      "text/plain": [
       "10"
      ]
     },
     "execution_count": 6,
     "metadata": {},
     "output_type": "execute_result"
    }
   ],
   "source": [
    "def memo(papitas,refresco): #También el nombre de los argumentos es arbitrario (aunque se prefiere algo que )\n",
    "    return papitas*refresco # todavía no haya sido utilizado).\n",
    "\n",
    "memo(5,2)"
   ]
  },
  {
   "cell_type": "code",
   "execution_count": 9,
   "id": "8f8a24d8",
   "metadata": {},
   "outputs": [
    {
     "data": {
      "text/plain": [
       "20"
      ]
     },
     "execution_count": 9,
     "metadata": {},
     "output_type": "execute_result"
    }
   ],
   "source": [
    "memo(5,4)"
   ]
  },
  {
   "cell_type": "markdown",
   "id": "b97459e0",
   "metadata": {},
   "source": [
    "Ahora vamos a definir la función que me dé la raíz de un número `a` a partir de una aproximación inicial `x0` hasta un orden `n`:"
   ]
  },
  {
   "cell_type": "code",
   "execution_count": 10,
   "id": "f814750e",
   "metadata": {},
   "outputs": [],
   "source": [
    "def raiz(a,x0,n):\n",
    "    \"\"\"\n",
    "    a = número cuya raíz me interesa\n",
    "    x0 = aproximación inicial de la raíz de a (se recomienda un entero o fracción cuyo cuadrado sea casi a)\n",
    "    n = número natural para el que calcularemos x1, x2,..., xn\n",
    "    \"\"\"\n",
    "    y=x0\n",
    "    for i in range(n):\n",
    "        print(f'X({i})={y}\\n     ={float(y)}\\n')\n",
    "        y=F(1,2)*(y+F(a,y)) # Esto codifica la fórmula recursiva definida al inicio\n",
    "    print(f'X({n})={y}\\n     ={float(y)}')\n",
    "    return y"
   ]
  },
  {
   "cell_type": "code",
   "execution_count": 11,
   "id": "a9b0ad6d",
   "metadata": {},
   "outputs": [
    {
     "name": "stdout",
     "output_type": "stream",
     "text": [
      "X(0)=3\n",
      "     =3.0\n",
      "\n",
      "X(1)=19/6\n",
      "     =3.1666666666666665\n",
      "\n",
      "X(2)=721/228\n",
      "     =3.162280701754386\n",
      "\n",
      "X(3)=1039681/328776\n",
      "     =3.162277660169842\n",
      "\n",
      "X(4)=2161873163521/683644320912\n",
      "     =3.1622776601683795\n",
      "\n",
      "X(5)=9347391150304592810234881/2955904621546382351702304\n",
      "     =3.1622776601683795\n"
     ]
    }
   ],
   "source": [
    "y=raiz(10,3,5)"
   ]
  },
  {
   "cell_type": "markdown",
   "id": "70bd6f57",
   "metadata": {},
   "source": [
    "La aproximación obtenida para la raíz de 10 es tal, que el cuadrado _se pasa de 10_ en:"
   ]
  },
  {
   "cell_type": "code",
   "execution_count": 14,
   "id": "fa821408",
   "metadata": {},
   "outputs": [
    {
     "name": "stdout",
     "output_type": "stream",
     "text": [
      "1/8737372131679261877757908894145308222766638908416\n"
     ]
    }
   ],
   "source": [
    "e=y**2-10\n",
    "print(e)"
   ]
  },
  {
   "cell_type": "code",
   "execution_count": 16,
   "id": "e560cfda",
   "metadata": {
    "scrolled": true
   },
   "outputs": [
    {
     "data": {
      "text/plain": [
       "1.1445088808502047e-49"
      ]
     },
     "execution_count": 16,
     "metadata": {},
     "output_type": "execute_result"
    }
   ],
   "source": [
    "float(e)"
   ]
  },
  {
   "cell_type": "markdown",
   "id": "e96aca31",
   "metadata": {},
   "source": [
    "Este número está expresado en notación científica (computacionalmente):\n",
    "\n",
    "$$ \\text{1.1445088808502047e-49} = 1.1445088808502047 \\times 10^{-49} = \\\\\n",
    "0.00000000000000000000000000000000000000000000000011445088808502047\n",
    "$$\n",
    "\n",
    "> **Nota**: Lo más chiquito que una computadora puede procesar se llama [_épsilon de máquina_](https://en.wikipedia.org/wiki/Machine_epsilon)."
   ]
  },
  {
   "cell_type": "markdown",
   "id": "cabbc112",
   "metadata": {},
   "source": [
    "# Cuestionario\n",
    "\n",
    "En equipos, responder (utilizando los cuadernillos de `Jupyter`):\n",
    "\n",
    "1. ¿Cuál es la raíz de 9 a orden 3, 4 y 5 para la aproximación inicial $x_0=4$?\n",
    "2. ¿Qué pasa con la raíz de 25 a órdenes 2, 3 y 4 cuando $x_0=5$?\n",
    "3. ¿Cuál es el error del cuadrado de $x_3$ y $x_5$ para la raíz de 11 cuando $x_0=5$?"
   ]
  },
  {
   "cell_type": "markdown",
   "id": "a09d5f5a",
   "metadata": {},
   "source": [
    "1."
   ]
  },
  {
   "cell_type": "code",
   "execution_count": 14,
   "id": "8f35a2c9",
   "metadata": {
    "scrolled": true
   },
   "outputs": [
    {
     "name": "stdout",
     "output_type": "stream",
     "text": [
      "X(0)=4\n",
      "     =4.0\n",
      "\n",
      "X(1)=25/8\n",
      "     =3.125\n",
      "\n",
      "X(2)=1201/400\n",
      "     =3.0025\n",
      "\n",
      "X(3)=2882401/960800\n",
      "     =3.000001040799334\n",
      "\n",
      "X(4)=16616465284801/5538821761600\n",
      "     =3.0000000000001807\n",
      "\n",
      "X(5)=552213837121960323152649601/184071279040653441050883200\n",
      "     =3.0\n"
     ]
    },
    {
     "data": {
      "text/plain": [
       "Fraction(552213837121960323152649601, 184071279040653441050883200)"
      ]
     },
     "execution_count": 14,
     "metadata": {},
     "output_type": "execute_result"
    }
   ],
   "source": [
    "raiz(9,4,5)\n",
    "#9 es el número cuya raíz nos interesa. 4 es la aproximación inicial. 5 es el elemento de la sucesión que nos interesa."
   ]
  },
  {
   "cell_type": "code",
   "execution_count": 16,
   "id": "4daa97df",
   "metadata": {
    "scrolled": true
   },
   "outputs": [
    {
     "data": {
      "text/plain": [
       "Fraction(1, 184071279040653441050883200)"
      ]
     },
     "execution_count": 16,
     "metadata": {},
     "output_type": "execute_result"
    }
   ],
   "source": [
    "_-3"
   ]
  },
  {
   "cell_type": "markdown",
   "id": "cc9ee79f",
   "metadata": {},
   "source": [
    "2."
   ]
  },
  {
   "cell_type": "code",
   "execution_count": 17,
   "id": "f149e536",
   "metadata": {
    "scrolled": true
   },
   "outputs": [
    {
     "name": "stdout",
     "output_type": "stream",
     "text": [
      "X(0)=5\n",
      "     =5.0\n",
      "\n",
      "X(1)=5\n",
      "     =5.0\n",
      "\n",
      "X(2)=5\n",
      "     =5.0\n",
      "\n",
      "X(3)=5\n",
      "     =5.0\n",
      "\n",
      "X(4)=5\n",
      "     =5.0\n"
     ]
    },
    {
     "data": {
      "text/plain": [
       "Fraction(5, 1)"
      ]
     },
     "execution_count": 17,
     "metadata": {},
     "output_type": "execute_result"
    }
   ],
   "source": [
    "raiz(25,5,4)\n",
    "#9 es el número cuya raíz nos interesa. 5 es la aproximación inicial. 4 es el elemento de la sucesión que nos interesa."
   ]
  },
  {
   "cell_type": "markdown",
   "id": "2215b74d",
   "metadata": {},
   "source": [
    "3. ¿Cuál es el error del cuadrado de $x_3$ y $x_5$ para la raíz de 11 cuando $x_0=5$?"
   ]
  },
  {
   "cell_type": "code",
   "execution_count": 19,
   "id": "717a7f92",
   "metadata": {
    "scrolled": true
   },
   "outputs": [
    {
     "name": "stdout",
     "output_type": "stream",
     "text": [
      "X(0)=5\n",
      "     =5.0\n",
      "\n",
      "X(1)=18/5\n",
      "     =3.6\n",
      "\n",
      "X(2)=599/180\n",
      "     =3.327777777777778\n",
      "\n",
      "X(3)=715201/215640\n",
      "     =3.3166434798738638\n"
     ]
    }
   ],
   "source": [
    "x3=raiz(11,5,3)"
   ]
  },
  {
   "cell_type": "code",
   "execution_count": 23,
   "id": "a63f8d82",
   "metadata": {},
   "outputs": [
    {
     "data": {
      "text/plain": [
       "0.00012397258981344805"
      ]
     },
     "execution_count": 23,
     "metadata": {},
     "output_type": "execute_result"
    }
   ],
   "source": [
    "#El error del cuadrado de x3 para la raíz de 11 cuando x0=5\n",
    "float(x3**2)-11"
   ]
  },
  {
   "cell_type": "code",
   "execution_count": 20,
   "id": "1f1a0c63",
   "metadata": {
    "scrolled": true
   },
   "outputs": [
    {
     "name": "stdout",
     "output_type": "stream",
     "text": [
      "X(0)=5\n",
      "     =5.0\n",
      "\n",
      "X(1)=18/5\n",
      "     =3.6\n",
      "\n",
      "X(2)=599/180\n",
      "     =3.327777777777778\n",
      "\n",
      "X(3)=715201/215640\n",
      "     =3.3166434798738638\n",
      "\n",
      "X(4)=1023019176001/308451887280\n",
      "     =3.316624790408058\n",
      "\n",
      "X(5)=2093136468898297098134401/631104391122277866334560\n",
      "     =3.3166247903554\n"
     ]
    }
   ],
   "source": [
    "x5=raiz(11,5,5)"
   ]
  },
  {
   "cell_type": "code",
   "execution_count": 24,
   "id": "093bc636",
   "metadata": {},
   "outputs": [
    {
     "data": {
      "text/plain": [
       "0.0"
      ]
     },
     "execution_count": 24,
     "metadata": {},
     "output_type": "execute_result"
    }
   ],
   "source": [
    "#El error del cuadrado de x5 para la raíz de 11 cuando x0=5\n",
    "float(x5**2)-11"
   ]
  },
  {
   "cell_type": "markdown",
   "id": "a8d57eb6",
   "metadata": {},
   "source": [
    "## <font color='crimson'> Participantes </font>\n",
    "\n",
    "* Angejolie González\n",
    "* José Luis Carrizosa\n",
    "* Omar Santiago Martínez González\n",
    "* Aaron Fernando Del Valle Reyes\n",
    "* González Santana Abraham Alejandro (+1)"
   ]
  },
  {
   "cell_type": "code",
   "execution_count": null,
   "id": "cea67b03",
   "metadata": {},
   "outputs": [],
   "source": []
  }
 ],
 "metadata": {
  "kernelspec": {
   "display_name": "Python 3 (ipykernel)",
   "language": "python",
   "name": "python3"
  },
  "language_info": {
   "codemirror_mode": {
    "name": "ipython",
    "version": 3
   },
   "file_extension": ".py",
   "mimetype": "text/x-python",
   "name": "python",
   "nbconvert_exporter": "python",
   "pygments_lexer": "ipython3",
   "version": "3.9.7"
  }
 },
 "nbformat": 4,
 "nbformat_minor": 5
}
