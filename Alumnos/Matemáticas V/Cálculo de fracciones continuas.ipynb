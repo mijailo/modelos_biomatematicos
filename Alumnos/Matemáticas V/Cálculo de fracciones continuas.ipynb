{
 "cells": [
  {
   "cell_type": "markdown",
   "id": "88efecf0-66a0-4044-bcf9-49712a94d475",
   "metadata": {},
   "source": [
    "# Cálculo de  fracciones continuas\n",
    "\n",
    "> **Basado en [esta respuesta](https://stackoverflow.com/questions/36077810/continued-fractions-python#36080085) de _Stack Overflow_**"
   ]
  },
  {
   "cell_type": "code",
   "execution_count": 1,
   "id": "6efeb461-46b6-4d4e-835f-78d4532c2db7",
   "metadata": {},
   "outputs": [],
   "source": [
    "from fractions import Fraction as F\n",
    "\n",
    "def contFrac(seq):\n",
    "    num, den = 1, 0\n",
    "    for u in reversed(seq):\n",
    "        num, den = den + num*u, num\n",
    "    return F(num, den)"
   ]
  },
  {
   "cell_type": "markdown",
   "id": "6ef6313f-2e37-4e37-b9de-6f6bceee3b38",
   "metadata": {},
   "source": [
    "## $\\pi$\n",
    "\n",
    "> **Ver [este artículo](https://en.wikipedia.org/wiki/Pi#Continued_fractions) de la _Wikipedia_**"
   ]
  },
  {
   "cell_type": "code",
   "execution_count": 5,
   "id": "9095e17e-79b6-4b27-835c-d80b55a2459e",
   "metadata": {},
   "outputs": [
    {
     "name": "stdout",
     "output_type": "stream",
     "text": [
      "f(0)=3=3.000000000000\n",
      "f(1)=22/7=3.142857142857\n",
      "f(2)=333/106=3.141509433962\n",
      "f(3)=355/113=3.141592920354\n",
      "f(4)=103993/33102=3.141592653012\n",
      "f(5)=104348/33215=3.141592653921\n",
      "f(6)=208341/66317=3.141592653467\n",
      "f(7)=312689/99532=3.141592653619\n"
     ]
    }
   ],
   "source": [
    "pi=[3,7,15,1,292,1,1,1]\n",
    "\n",
    "piCont=[contFrac(pi[:i]) for i in range(1,len(pi)+1)]\n",
    "for i,f in enumerate(piCont):\n",
    "    print(f'f({i})={f}={float(f):.12f}')"
   ]
  },
  {
   "cell_type": "code",
   "execution_count": null,
   "id": "f4c43d95-6857-4eab-b347-82b0d150460e",
   "metadata": {},
   "outputs": [],
   "source": []
  }
 ],
 "metadata": {
  "kernelspec": {
   "display_name": "Python 3 (ipykernel)",
   "language": "python",
   "name": "python3"
  },
  "language_info": {
   "codemirror_mode": {
    "name": "ipython",
    "version": 3
   },
   "file_extension": ".py",
   "mimetype": "text/x-python",
   "name": "python",
   "nbconvert_exporter": "python",
   "pygments_lexer": "ipython3",
   "version": "3.10.8"
  },
  "widgets": {
   "application/vnd.jupyter.widget-state+json": {
    "state": {},
    "version_major": 2,
    "version_minor": 0
   }
  }
 },
 "nbformat": 4,
 "nbformat_minor": 5
}
