{
 "cells": [
  {
   "cell_type": "code",
   "execution_count": 25,
   "id": "05e5ca94-7dd2-403f-8449-fca3c6c0badc",
   "metadata": {},
   "outputs": [],
   "source": [
    "from sympy.geometry import Point\n",
    "from sympy import init_printing\n",
    "init_printing()"
   ]
  },
  {
   "cell_type": "code",
   "execution_count": 47,
   "id": "f0119111-2a09-473a-8625-336fa7854dbe",
   "metadata": {},
   "outputs": [],
   "source": [
    "x=Point(0,-6)\n",
    "y=Point(5,0)"
   ]
  },
  {
   "cell_type": "markdown",
   "id": "d814ca93-cbb7-48d7-86ea-5897925c9ec2",
   "metadata": {},
   "source": [
    "Distancia:"
   ]
  },
  {
   "cell_type": "code",
   "execution_count": 56,
   "id": "78b58acc-fbb2-4b44-b24e-9f36cd9cc61c",
   "metadata": {},
   "outputs": [
    {
     "data": {
      "image/png": "[encoded data removed]",
      "text/latex": [
       "$\\displaystyle \\sqrt{61}$"
      ],
      "text/plain": [
       "sqrt(61)"
      ]
     },
     "execution_count": 56,
     "metadata": {},
     "output_type": "execute_result"
    }
   ],
   "source": [
    "x.distance(y)"
   ]
  },
  {
   "cell_type": "markdown",
   "id": "99287131-5509-4654-b8cc-42950ea0c4f3",
   "metadata": {},
   "source": [
    "Punto medio:"
   ]
  },
  {
   "cell_type": "code",
   "execution_count": 55,
   "id": "240d325b-dc66-469a-ae76-85c01301f3d4",
   "metadata": {},
   "outputs": [
    {
     "data": {
      "image/png": "[encoded data removed]",
      "text/latex": [
       "$\\displaystyle Point2D\\left(\\frac{5}{2}, -3\\right)$"
      ],
      "text/plain": [
       "Point2D(5/2, -3)"
      ]
     },
     "execution_count": 55,
     "metadata": {},
     "output_type": "execute_result"
    }
   ],
   "source": [
    "(x+y)/2"
   ]
  },
  {
   "cell_type": "markdown",
   "id": "36806faf-bbb3-4d84-866e-567f15d1a784",
   "metadata": {},
   "source": [
    "## Área de un polígono convexo\n",
    "\n",
    "> Ver [**esta referencia**](https://docs.scipy.org/doc/scipy/reference/generated/scipy.spatial.ConvexHull.html#scipy.spatial.ConvexHull).\n",
    "\n",
    "La idea es partir del listado de puntos (sin la necesidad de ordenarlos en sentido horario) y obtener el área correspondiente."
   ]
  },
  {
   "cell_type": "code",
   "execution_count": null,
   "id": "e6d336e1-e216-49e1-b74b-a155100fc79b",
   "metadata": {},
   "outputs": [],
   "source": [
    "from scipy.spatial import ConvexHull, convex_hull_plot_2d\n",
    "import numpy as np\n",
    "import matplotlib.pyplot as plt"
   ]
  },
  {
   "cell_type": "markdown",
   "id": "eb56aa7e-4df9-45a8-81f1-8e3ed108d9b7",
   "metadata": {},
   "source": [
    "Generar listado de puntos aleatorios y obtener su envolvente convexa:"
   ]
  },
  {
   "cell_type": "code",
   "execution_count": 58,
   "id": "1e293c63-2afe-4078-80f2-a7c3ff31c123",
   "metadata": {},
   "outputs": [],
   "source": [
    "rng = np.random.default_rng()\n",
    "points = rng.random((30, 2))   # 30 puntos aleatorios en el plano\n",
    "hull = ConvexHull(points)"
   ]
  },
  {
   "cell_type": "markdown",
   "id": "133226c3-8729-44a8-9fc6-6bdddb59dada",
   "metadata": {},
   "source": [
    "Graficar alv:"
   ]
  },
  {
   "cell_type": "code",
   "execution_count": 69,
   "id": "2134011f-4a13-4994-8a70-4293aae02514",
   "metadata": {},
   "outputs": [
    {
     "data": {
      "image/png": "[encoded data removed]",
      "text/plain": [
       "<Figure size 432x288 with 1 Axes>"
      ]
     },
     "metadata": {
      "needs_background": "light"
     },
     "output_type": "display_data"
    }
   ],
   "source": [
    "plt.plot(points[:,0], points[:,1], 'o')\n",
    "for simplex in hull.simplices:\n",
    "    plt.plot(points[simplex, 0], points[simplex, 1], '-',c='crimson',lw=0.7)\n",
    "    plt.title(f'Envolvente convexa ($A={{{hull.volume:.2f}}} u^2$)')"
   ]
  },
  {
   "cell_type": "markdown",
   "id": "59d65745-d8a0-44b0-8470-667ddcd4fcec",
   "metadata": {},
   "source": [
    "Hacer una función que, partiendo de los vértices de _un polígono convexo_, haga la gráfica y dé perímetro y área.\n",
    "> **Nota**: \n",
    "> * `area`: Cuando la dimensión del espacio es mayor que 2, este número es el área de la frontera de la envolvente convexa. Si la dimensión es 2, entonces el resultado es el perímetro del polígono convexo envolvente.\n",
    "> * `volume`: Cuando la dimensión del espacio es mayor que 2, este número es el volumen de la envolvente convexa. Si la dimensión es 2, entonces el resultado es el área del polígono convexo envolvente."
   ]
  },
  {
   "cell_type": "code",
   "execution_count": 89,
   "id": "426b0e70-f335-4a50-984a-04a0307286ea",
   "metadata": {},
   "outputs": [],
   "source": [
    "def per_area(points):\n",
    "    hull = ConvexHull(points)\n",
    "    plt.plot(points[:,0], points[:,1], 'o',c='red',lw='1')\n",
    "    for simplex in hull.simplices:\n",
    "        plt.plot(points[simplex, 0], points[simplex, 1], '-',c='blue',lw=0.7)\n",
    "        plt.title(f'$P={{{hull.area:.2f}}} u,\\; A={{{hull.volume:.2f}}} u^2$')\n",
    "        plt.gca().set_aspect('equal')"
   ]
  },
  {
   "cell_type": "code",
   "execution_count": 90,
   "id": "c03fed94-3446-40ac-bfdf-6d848c2a76da",
   "metadata": {},
   "outputs": [
    {
     "data": {
      "image/png": "[encoded data removed]",
      "text/plain": [
       "<Figure size 432x288 with 1 Axes>"
      ]
     },
     "metadata": {
      "needs_background": "light"
     },
     "output_type": "display_data"
    }
   ],
   "source": [
    "puntos=np.array([\n",
    "    [5,1],\n",
    "    [0,6],\n",
    "    [-5,1],\n",
    "    [0,-4]\n",
    "])\n",
    "per_area(puntos)"
   ]
  },
  {
   "cell_type": "code",
   "execution_count": null,
   "id": "5a95aed6-23b0-459c-8d27-289a2a1eb94c",
   "metadata": {},
   "outputs": [],
   "source": []
  }
 ],
 "metadata": {
  "kernelspec": {
   "display_name": "Python 3 (ipykernel)",
   "language": "python",
   "name": "python3"
  },
  "language_info": {
   "codemirror_mode": {
    "name": "ipython",
    "version": 3
   },
   "file_extension": ".py",
   "mimetype": "text/x-python",
   "name": "python",
   "nbconvert_exporter": "python",
   "pygments_lexer": "ipython3",
   "version": "3.10.1"
  },
  "widgets": {
   "application/vnd.jupyter.widget-state+json": {
    "state": {},
    "version_major": 2,
    "version_minor": 0
   }
  }
 },
 "nbformat": 4,
 "nbformat_minor": 5
}
