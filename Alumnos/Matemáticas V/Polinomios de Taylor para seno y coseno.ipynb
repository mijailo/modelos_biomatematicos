{
 "cells": [
  {
   "cell_type": "code",
   "execution_count": 7,
   "id": "a00ee61c-ce63-47ea-9651-d9d9fd41553f",
   "metadata": {
    "tags": []
   },
   "outputs": [],
   "source": [
    "from IPython.display import display, Math"
   ]
  },
  {
   "cell_type": "code",
   "execution_count": 1,
   "id": "b3fe16b4-0a78-498a-a004-8ff20bd696c4",
   "metadata": {
    "tags": []
   },
   "outputs": [],
   "source": [
    "import pandas as pd\n",
    "from fractions import Fraction as F\n",
    "import matplotlib.pyplot as plt\n",
    "import numpy as np"
   ]
  },
  {
   "cell_type": "markdown",
   "id": "dcc7a427-313a-45f3-a046-a4c597268a34",
   "metadata": {},
   "source": [
    "Definir una función que calcula el polinomio de Taylor de orden $n$ (de grado $2n+1$):\n",
    "\n",
    "$f_n(x)=\\sum_{i=0}^{n} \\frac{\\left(-1\\right)^{i}}{\\left(2i+1\\right)!} x^{2i+1} = x-\\frac{x^3}{3!}+\\frac{x^5}{5!}-\\frac{x^7}{7!}+\\cdots+\\frac{\\left(-1\\right)^{n}}{\\left(2n+1\\right)!} x^{2n+1}$\n",
    "\n",
    "en un número $x$:"
   ]
  },
  {
   "cell_type": "code",
   "execution_count": 2,
   "id": "c74086a9-311d-4fc5-a658-282d8c2e0376",
   "metadata": {
    "tags": []
   },
   "outputs": [],
   "source": [
    "def sin(x,n):\n",
    "    assert type(n)==int and n>=0\n",
    "    return sum(\n",
    "        [((-1)**i)*(x**(2*i+1))*F(1,np.math.factorial(2*i+1)) for i in range(n+1)]\n",
    "    )"
   ]
  },
  {
   "cell_type": "markdown",
   "id": "dd611aef-7ef0-42b6-8044-41099a7c3a50",
   "metadata": {},
   "source": [
    "Por ejemplo: para calcular $f_0(x)=x$ en $x=\\frac{3}{2}$, usamos:"
   ]
  },
  {
   "cell_type": "code",
   "execution_count": 11,
   "id": "56da89bb-0933-4ab5-8638-c2447a8e7b3f",
   "metadata": {
    "tags": []
   },
   "outputs": [
    {
     "data": {
      "text/latex": [
       "$\\displaystyle f_0(3/2)=3/2=1.5$"
      ],
      "text/plain": [
       "<IPython.core.display.Math object>"
      ]
     },
     "metadata": {},
     "output_type": "display_data"
    }
   ],
   "source": [
    "x0=F(3,2)\n",
    "y0=sin(x0,0)\n",
    "display(Math(f'$f_0({x0})={y0}={float(y0)}$'))"
   ]
  },
  {
   "cell_type": "markdown",
   "id": "98c87146-0b58-4a71-bfff-302108c2a162",
   "metadata": {},
   "source": [
    "Mientras que para calcular $f_1(x)=x-\\frac{x^{3}}{3!}$, usamos:"
   ]
  },
  {
   "cell_type": "code",
   "execution_count": 12,
   "id": "1d3e0185-8745-4993-b46d-f51e0a77067e",
   "metadata": {
    "tags": []
   },
   "outputs": [
    {
     "data": {
      "text/latex": [
       "$\\displaystyle f_1(3/2)=15/16=0.9375$"
      ],
      "text/plain": [
       "<IPython.core.display.Math object>"
      ]
     },
     "metadata": {},
     "output_type": "display_data"
    }
   ],
   "source": [
    "y1=sin(x0,1)\n",
    "display(Math(f'$f_1({x0})={y1}={float(y1)}$'))"
   ]
  },
  {
   "cell_type": "markdown",
   "id": "6b3196be-fea5-4fb2-8375-248d160797a4",
   "metadata": {},
   "source": [
    "El resultado que daría _la calculadora_ para $f(x)=\\sin(x)$ sería:"
   ]
  },
  {
   "cell_type": "code",
   "execution_count": 18,
   "id": "567848e1-d3e0-4e01-b766-2fe9e067d3ad",
   "metadata": {
    "tags": []
   },
   "outputs": [
    {
     "data": {
      "text/latex": [
       "$\\displaystyle \\sin(3/2)=0.9974949866040544$"
      ],
      "text/plain": [
       "<IPython.core.display.Math object>"
      ]
     },
     "metadata": {},
     "output_type": "display_data"
    }
   ],
   "source": [
    "y=np.math.sin(x0)\n",
    "display(Math(f'\\sin({x0})={y}'))"
   ]
  },
  {
   "cell_type": "markdown",
   "id": "70f71e00-b12c-49c3-9f1f-77802f807e85",
   "metadata": {},
   "source": [
    "El resultado anterior sería mejor aproximado por $f_{5}(x)=x-\\frac{x^3}{3!}+\\frac{x^5}{5!}-\\frac{x^7}{7!}+\\frac{x^9}{9!}-\\frac{x^{11}}{11!}$:"
   ]
  },
  {
   "cell_type": "code",
   "execution_count": 17,
   "id": "ae11eb86-04e9-4077-9027-575f7ec00f6f",
   "metadata": {
    "tags": []
   },
   "outputs": [
    {
     "data": {
      "text/latex": [
       "$\\displaystyle f_5(3/2)=1006726173/1009254400=0.9974949556821352$"
      ],
      "text/plain": [
       "<IPython.core.display.Math object>"
      ]
     },
     "metadata": {},
     "output_type": "display_data"
    }
   ],
   "source": [
    "y5=sin(x0,5)\n",
    "display(Math(f'$f_5({x0})={y5}={float(y5)}$'))"
   ]
  },
  {
   "cell_type": "markdown",
   "id": "fe49bc4a-0a85-4fdc-bfca-375fc0a0fb6f",
   "metadata": {},
   "source": [
    "cuya diferencia con $f(x)=\\sin(x)$ es de:"
   ]
  },
  {
   "cell_type": "code",
   "execution_count": 19,
   "id": "2cd30996-5a9a-4ebc-a455-e5957ccfae52",
   "metadata": {
    "tags": []
   },
   "outputs": [
    {
     "data": {
      "text/plain": [
       "3.0921919247361984e-08"
      ]
     },
     "execution_count": 19,
     "metadata": {},
     "output_type": "execute_result"
    }
   ],
   "source": [
    "abs(y-y5)"
   ]
  },
  {
   "cell_type": "markdown",
   "id": "e107548a-172a-4f17-ba54-51298856a195",
   "metadata": {},
   "source": [
    "(una diferencia menor a una parte en $10000000=10^7$: ambos resultados sólo difieren hasta el octavo dígito después del punto)."
   ]
  },
  {
   "cell_type": "markdown",
   "id": "efa2aab2-44de-47b3-b13a-84d06ec5da5f",
   "metadata": {},
   "source": [
    "Ahora vamos a hacer una gráfica:"
   ]
  },
  {
   "cell_type": "code",
   "execution_count": 33,
   "id": "bf3a28d7-c803-4d3a-a5f6-b9f04f2973a2",
   "metadata": {
    "tags": []
   },
   "outputs": [],
   "source": [
    "X=np.linspace(-3, 3, num=6001, endpoint=True)\n",
    "Y={f'$f_{i}(x)$':[sin(x,i) for x in X] for i in range(6)}\n",
    "Y['$\\sin(x)$']=np.sin(X)"
   ]
  },
  {
   "cell_type": "code",
   "execution_count": 58,
   "id": "a9174295-82ed-4d82-a962-98969cb06e47",
   "metadata": {
    "tags": []
   },
   "outputs": [
    {
     "data": {
      "text/html": [
       "<div>\n",
       "<style scoped>\n",
       "    .dataframe tbody tr th:only-of-type {\n",
       "        vertical-align: middle;\n",
       "    }\n",
       "\n",
       "    .dataframe tbody tr th {\n",
       "        vertical-align: top;\n",
       "    }\n",
       "\n",
       "    .dataframe thead th {\n",
       "        text-align: right;\n",
       "    }\n",
       "</style>\n",
       "<table border=\"1\" class=\"dataframe\">\n",
       "  <thead>\n",
       "    <tr style=\"text-align: right;\">\n",
       "      <th></th>\n",
       "      <th>$f_0(x)$</th>\n",
       "      <th>$f_1(x)$</th>\n",
       "      <th>$f_2(x)$</th>\n",
       "      <th>$f_3(x)$</th>\n",
       "      <th>$f_4(x)$</th>\n",
       "      <th>$f_5(x)$</th>\n",
       "      <th>$\\sin(x)$</th>\n",
       "    </tr>\n",
       "    <tr>\n",
       "      <th>$x$</th>\n",
       "      <th></th>\n",
       "      <th></th>\n",
       "      <th></th>\n",
       "      <th></th>\n",
       "      <th></th>\n",
       "      <th></th>\n",
       "      <th></th>\n",
       "    </tr>\n",
       "  </thead>\n",
       "  <tbody>\n",
       "    <tr>\n",
       "      <th>-3.000</th>\n",
       "      <td>-3.000</td>\n",
       "      <td>1.500000</td>\n",
       "      <td>-0.525000</td>\n",
       "      <td>-0.091071</td>\n",
       "      <td>-0.145312</td>\n",
       "      <td>-0.140875</td>\n",
       "      <td>-0.141120</td>\n",
       "    </tr>\n",
       "    <tr>\n",
       "      <th>-2.999</th>\n",
       "      <td>-2.999</td>\n",
       "      <td>1.496501</td>\n",
       "      <td>-0.525126</td>\n",
       "      <td>-0.092209</td>\n",
       "      <td>-0.146287</td>\n",
       "      <td>-0.141866</td>\n",
       "      <td>-0.142110</td>\n",
       "    </tr>\n",
       "    <tr>\n",
       "      <th>-2.998</th>\n",
       "      <td>-2.998</td>\n",
       "      <td>1.493006</td>\n",
       "      <td>-0.525253</td>\n",
       "      <td>-0.093345</td>\n",
       "      <td>-0.147262</td>\n",
       "      <td>-0.142856</td>\n",
       "      <td>-0.143100</td>\n",
       "    </tr>\n",
       "    <tr>\n",
       "      <th>-2.997</th>\n",
       "      <td>-2.997</td>\n",
       "      <td>1.489513</td>\n",
       "      <td>-0.525382</td>\n",
       "      <td>-0.094482</td>\n",
       "      <td>-0.148236</td>\n",
       "      <td>-0.143847</td>\n",
       "      <td>-0.144089</td>\n",
       "    </tr>\n",
       "    <tr>\n",
       "      <th>-2.996</th>\n",
       "      <td>-2.996</td>\n",
       "      <td>1.486024</td>\n",
       "      <td>-0.525512</td>\n",
       "      <td>-0.095617</td>\n",
       "      <td>-0.149211</td>\n",
       "      <td>-0.144838</td>\n",
       "      <td>-0.145079</td>\n",
       "    </tr>\n",
       "    <tr>\n",
       "      <th>...</th>\n",
       "      <td>...</td>\n",
       "      <td>...</td>\n",
       "      <td>...</td>\n",
       "      <td>...</td>\n",
       "      <td>...</td>\n",
       "      <td>...</td>\n",
       "      <td>...</td>\n",
       "    </tr>\n",
       "    <tr>\n",
       "      <th>2.996</th>\n",
       "      <td>2.996</td>\n",
       "      <td>-1.486024</td>\n",
       "      <td>0.525512</td>\n",
       "      <td>0.095617</td>\n",
       "      <td>0.149211</td>\n",
       "      <td>0.144838</td>\n",
       "      <td>0.145079</td>\n",
       "    </tr>\n",
       "    <tr>\n",
       "      <th>2.997</th>\n",
       "      <td>2.997</td>\n",
       "      <td>-1.489513</td>\n",
       "      <td>0.525382</td>\n",
       "      <td>0.094482</td>\n",
       "      <td>0.148236</td>\n",
       "      <td>0.143847</td>\n",
       "      <td>0.144089</td>\n",
       "    </tr>\n",
       "    <tr>\n",
       "      <th>2.998</th>\n",
       "      <td>2.998</td>\n",
       "      <td>-1.493006</td>\n",
       "      <td>0.525253</td>\n",
       "      <td>0.093345</td>\n",
       "      <td>0.147262</td>\n",
       "      <td>0.142856</td>\n",
       "      <td>0.143100</td>\n",
       "    </tr>\n",
       "    <tr>\n",
       "      <th>2.999</th>\n",
       "      <td>2.999</td>\n",
       "      <td>-1.496501</td>\n",
       "      <td>0.525126</td>\n",
       "      <td>0.092209</td>\n",
       "      <td>0.146287</td>\n",
       "      <td>0.141866</td>\n",
       "      <td>0.142110</td>\n",
       "    </tr>\n",
       "    <tr>\n",
       "      <th>3.000</th>\n",
       "      <td>3.000</td>\n",
       "      <td>-1.500000</td>\n",
       "      <td>0.525000</td>\n",
       "      <td>0.091071</td>\n",
       "      <td>0.145312</td>\n",
       "      <td>0.140875</td>\n",
       "      <td>0.141120</td>\n",
       "    </tr>\n",
       "  </tbody>\n",
       "</table>\n",
       "<p>6001 rows × 7 columns</p>\n",
       "</div>"
      ],
      "text/plain": [
       "        $f_0(x)$  $f_1(x)$  $f_2(x)$  $f_3(x)$  $f_4(x)$  $f_5(x)$  $\\sin(x)$\n",
       "$x$                                                                          \n",
       "-3.000    -3.000  1.500000 -0.525000 -0.091071 -0.145312 -0.140875  -0.141120\n",
       "-2.999    -2.999  1.496501 -0.525126 -0.092209 -0.146287 -0.141866  -0.142110\n",
       "-2.998    -2.998  1.493006 -0.525253 -0.093345 -0.147262 -0.142856  -0.143100\n",
       "-2.997    -2.997  1.489513 -0.525382 -0.094482 -0.148236 -0.143847  -0.144089\n",
       "-2.996    -2.996  1.486024 -0.525512 -0.095617 -0.149211 -0.144838  -0.145079\n",
       "...          ...       ...       ...       ...       ...       ...        ...\n",
       " 2.996     2.996 -1.486024  0.525512  0.095617  0.149211  0.144838   0.145079\n",
       " 2.997     2.997 -1.489513  0.525382  0.094482  0.148236  0.143847   0.144089\n",
       " 2.998     2.998 -1.493006  0.525253  0.093345  0.147262  0.142856   0.143100\n",
       " 2.999     2.999 -1.496501  0.525126  0.092209  0.146287  0.141866   0.142110\n",
       " 3.000     3.000 -1.500000  0.525000  0.091071  0.145312  0.140875   0.141120\n",
       "\n",
       "[6001 rows x 7 columns]"
      ]
     },
     "execution_count": 58,
     "metadata": {},
     "output_type": "execute_result"
    }
   ],
   "source": [
    "taylor=pd.DataFrame(Y,index=X)\n",
    "taylor.index.rename('$x$',inplace=True)\n",
    "taylor"
   ]
  },
  {
   "cell_type": "code",
   "execution_count": 59,
   "id": "89ce0d82-7f28-4a09-891e-db99f95bf720",
   "metadata": {
    "tags": []
   },
   "outputs": [
    {
     "data": {
      "text/plain": [
       "<AxesSubplot: xlabel='$x$'>"
      ]
     },
     "execution_count": 59,
     "metadata": {},
     "output_type": "execute_result"
    },
    {
     "data": {
      "image/png": "[encoded data removed]",
      "text/plain": [
       "<Figure size 640x480 with 1 Axes>"
      ]
     },
     "metadata": {},
     "output_type": "display_data"
    }
   ],
   "source": [
    "%matplotlib inline\n",
    "taylor.plot(\n",
    "    subplots=False,\n",
    "    grid=True,\n",
    "    lw=1\n",
    ")"
   ]
  },
  {
   "cell_type": "markdown",
   "id": "c8437118-fc79-4f04-a942-06af9bb67edb",
   "metadata": {},
   "source": [
    "¿Cómo se comparan $f_n(x)$ y $\\sin(x)$ si, por ejemplo, $x=1/2$?"
   ]
  },
  {
   "cell_type": "code",
   "execution_count": 60,
   "id": "d927c24b-3dc4-4618-acd7-1e27519df3ef",
   "metadata": {
    "tags": []
   },
   "outputs": [
    {
     "name": "stdout",
     "output_type": "stream",
     "text": [
      "$f_0(x)$     0.500000\n",
      "$f_1(x)$     0.479167\n",
      "$f_2(x)$     0.479427\n",
      "$f_3(x)$     0.479426\n",
      "$f_4(x)$     0.479426\n",
      "$f_5(x)$     0.479426\n",
      "$\\sin(x)$    0.479426\n",
      "Name: 0.5, dtype: float64\n"
     ]
    }
   ],
   "source": [
    "print(taylor.loc[0.5])"
   ]
  },
  {
   "cell_type": "markdown",
   "id": "6a1e64d9-73de-4202-9fc0-40a427295a96",
   "metadata": {},
   "source": [
    "¿Y si $x\\in\\{1,2,3\\}$?"
   ]
  },
  {
   "cell_type": "code",
   "execution_count": 61,
   "id": "9cb536cf-ce2d-4412-b2e1-531986ec9a6a",
   "metadata": {
    "tags": []
   },
   "outputs": [
    {
     "name": "stdout",
     "output_type": "stream",
     "text": [
      "     $f_0(x)$  $f_1(x)$  $f_2(x)$  $f_3(x)$  $f_4(x)$  $f_5(x)$  $\\sin(x)$\n",
      "$x$                                                                       \n",
      "1.0       1.0  0.833333  0.841667  0.841468  0.841471  0.841471   0.841471\n",
      "2.0       2.0  0.666667  0.933333  0.907937  0.909347  0.909296   0.909297\n",
      "3.0       3.0 -1.500000  0.525000  0.091071  0.145312  0.140875   0.141120\n"
     ]
    }
   ],
   "source": [
    "print(taylor.loc[[1,2,3]])"
   ]
  },
  {
   "cell_type": "markdown",
   "id": "6d8fabc4-a49e-4990-b974-d88ccbc9daa8",
   "metadata": {},
   "source": [
    "La precisión disminuye conforme $x$ se aleja de $0$."
   ]
  },
  {
   "cell_type": "code",
   "execution_count": 71,
   "id": "3354940e-1fd1-41fc-9c92-c8bd08cc2211",
   "metadata": {
    "tags": []
   },
   "outputs": [
    {
     "data": {
      "text/plain": [
       "<AxesSubplot: xlabel='$x$'>"
      ]
     },
     "execution_count": 71,
     "metadata": {},
     "output_type": "execute_result"
    },
    {
     "data": {
      "image/png": "[encoded data removed]",
      "text/plain": [
       "<Figure size 640x480 with 1 Axes>"
      ]
     },
     "metadata": {},
     "output_type": "display_data"
    }
   ],
   "source": [
    "%matplotlib inline\n",
    "taylor.drop('$\\sin(x)$', axis=1).subtract(taylor['$\\sin(x)$'],axis=0).abs().plot(\n",
    "    subplots=False,\n",
    "    grid=True\n",
    ")"
   ]
  },
  {
   "cell_type": "code",
   "execution_count": null,
   "id": "d9088250-36dd-416e-b1c0-d2e6c9c755f8",
   "metadata": {},
   "outputs": [],
   "source": []
  }
 ],
 "metadata": {
  "kernelspec": {
   "display_name": "Python 3 (ipykernel)",
   "language": "python",
   "name": "python3"
  },
  "language_info": {
   "codemirror_mode": {
    "name": "ipython",
    "version": 3
   },
   "file_extension": ".py",
   "mimetype": "text/x-python",
   "name": "python",
   "nbconvert_exporter": "python",
   "pygments_lexer": "ipython3",
   "version": "3.10.9"
  },
  "widgets": {
   "application/vnd.jupyter.widget-state+json": {
    "state": {
     "006ef1a4cdbb451caa8f7e41693fe253": {
      "model_module": "@jupyter-widgets/base",
      "model_module_version": "2.0.0",
      "model_name": "LayoutModel",
      "state": {}
     },
     "5248e1e5095c4d3387496b425c3bb102": {
      "model_module": "jupyter-matplotlib",
      "model_module_version": "2.0.0",
      "model_name": "ToolbarModel",
      "state": {
       "_current_action": "",
       "_model_module": "jupyter-matplotlib",
       "_model_name": "ToolbarModel",
       "_view_name": "ErrorWidgetView",
       "button_style": "",
       "collapsed": true,
       "error": {},
       "layout": "IPY_MODEL_bed0fcc774714a1d8abc43abd23c5e98",
       "msg": "Failed to load model class 'ToolbarModel' from module 'jupyter-matplotlib'",
       "orientation": "vertical",
       "toolitems": [
        [
         "Home",
         "Reset original view",
         "home",
         "home"
        ],
        [
         "Back",
         "Back to previous view",
         "arrow-left",
         "back"
        ],
        [
         "Forward",
         "Forward to next view",
         "arrow-right",
         "forward"
        ],
        [
         "Pan",
         "Left button pans, Right button zooms\nx/y fixes axis, CTRL fixes aspect",
         "arrows",
         "pan"
        ],
        [
         "Zoom",
         "Zoom to rectangle\nx/y fixes axis",
         "square-o",
         "zoom"
        ],
        [
         "Download",
         "Download plot",
         "floppy-o",
         "save_figure"
        ]
       ]
      }
     },
     "62ee526d678f41cfb1dc5c267336d35e": {
      "model_module": "@jupyter-widgets/base",
      "model_module_version": "2.0.0",
      "model_name": "LayoutModel",
      "state": {}
     },
     "85cd466f641d48bdb8e1a90c0e03203d": {
      "model_module": "jupyter-matplotlib",
      "model_module_version": "2.0.0",
      "model_name": "ToolbarModel",
      "state": {
       "_current_action": "",
       "_model_module": "jupyter-matplotlib",
       "_model_name": "ToolbarModel",
       "_view_name": "ErrorWidgetView",
       "button_style": "",
       "collapsed": true,
       "error": {},
       "layout": "IPY_MODEL_ab725f004a99459e80a6df1ca2c95e31",
       "msg": "Failed to load model class 'ToolbarModel' from module 'jupyter-matplotlib'",
       "orientation": "vertical",
       "toolitems": [
        [
         "Home",
         "Reset original view",
         "home",
         "home"
        ],
        [
         "Back",
         "Back to previous view",
         "arrow-left",
         "back"
        ],
        [
         "Forward",
         "Forward to next view",
         "arrow-right",
         "forward"
        ],
        [
         "Pan",
         "Left button pans, Right button zooms\nx/y fixes axis, CTRL fixes aspect",
         "arrows",
         "pan"
        ],
        [
         "Zoom",
         "Zoom to rectangle\nx/y fixes axis",
         "square-o",
         "zoom"
        ],
        [
         "Download",
         "Download plot",
         "floppy-o",
         "save_figure"
        ]
       ]
      }
     },
     "ab725f004a99459e80a6df1ca2c95e31": {
      "model_module": "@jupyter-widgets/base",
      "model_module_version": "2.0.0",
      "model_name": "LayoutModel",
      "state": {}
     },
     "bed0fcc774714a1d8abc43abd23c5e98": {
      "model_module": "@jupyter-widgets/base",
      "model_module_version": "2.0.0",
      "model_name": "LayoutModel",
      "state": {}
     }
    },
    "version_major": 2,
    "version_minor": 0
   }
  }
 },
 "nbformat": 4,
 "nbformat_minor": 5
}
