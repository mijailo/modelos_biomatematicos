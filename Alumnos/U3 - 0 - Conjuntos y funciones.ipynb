{
 "cells": [
  {
   "cell_type": "markdown",
   "metadata": {},
   "source": [
    "# Ejemplos de conjuntos y funciones"
   ]
  },
  {
   "cell_type": "markdown",
   "metadata": {},
   "source": [
    "Primero hay que definir un par de conjuntos."
   ]
  },
  {
   "cell_type": "code",
   "execution_count": 1,
   "metadata": {},
   "outputs": [],
   "source": [
    "from pprint import pprint\n",
    "import json"
   ]
  },
  {
   "cell_type": "code",
   "execution_count": 6,
   "metadata": {},
   "outputs": [],
   "source": [
    "A=[0,1,2]\n",
    "B=['a','b']"
   ]
  },
  {
   "cell_type": "markdown",
   "metadata": {},
   "source": [
    "Luego programamos una función para calcular la potencia de un conjunto."
   ]
  },
  {
   "cell_type": "code",
   "execution_count": 7,
   "metadata": {},
   "outputs": [],
   "source": [
    "def powerset(seq):\n",
    "    \"\"\"\n",
    "    Función generadora de todos los subconjuntos de una lista.\n",
    "    type(seq)=list\n",
    "    \"\"\"\n",
    "    if len(seq) <= 1:\n",
    "        yield seq\n",
    "        yield []\n",
    "    else:\n",
    "        for item in powerset(seq[1:]):\n",
    "            yield [seq[0]]+item\n",
    "            yield item"
   ]
  },
  {
   "cell_type": "markdown",
   "metadata": {},
   "source": [
    "$\\mathcal{P}(A)$: el conjunto de los subconjuntos de $A$."
   ]
  },
  {
   "cell_type": "code",
   "execution_count": 8,
   "metadata": {},
   "outputs": [
    {
     "name": "stdout",
     "output_type": "stream",
     "text": [
      "1 : {0, 1, 2}\n",
      "2 : {1, 2}\n",
      "3 : {0, 2}\n",
      "4 : {2}\n",
      "5 : {0, 1}\n",
      "6 : {1}\n",
      "7 : {0}\n",
      "8 : set()\n"
     ]
    }
   ],
   "source": [
    "a=powerset(A)\n",
    "j=0\n",
    "for i in a:\n",
    "    j+=1\n",
    "    print(j,':',set(i))"
   ]
  },
  {
   "cell_type": "markdown",
   "metadata": {},
   "source": [
    "$B\\times A$: El producto cartesiano de $B$ con $A$."
   ]
  },
  {
   "cell_type": "code",
   "execution_count": 23,
   "metadata": {},
   "outputs": [
    {
     "name": "stdout",
     "output_type": "stream",
     "text": [
      "[('a', 0), ('a', 1), ('a', 2), ('b', 0), ('b', 1), ('b', 2)]\n"
     ]
    }
   ],
   "source": [
    "BxA=list((x,y) for x in B for y in A)\n",
    "pprint(BxA)"
   ]
  },
  {
   "cell_type": "markdown",
   "metadata": {},
   "source": [
    "$A\\times B$: El producto cartesiano de $A$ con $B$."
   ]
  },
  {
   "cell_type": "code",
   "execution_count": 10,
   "metadata": {},
   "outputs": [
    {
     "name": "stdout",
     "output_type": "stream",
     "text": [
      "[(0, 'a'), (0, 'b'), (1, 'a'), (1, 'b'), (2, 'a'), (2, 'b')]\n"
     ]
    }
   ],
   "source": [
    "AxB=list((x,y) for x in A for y in B)\n",
    "pprint(AxB)"
   ]
  },
  {
   "cell_type": "markdown",
   "metadata": {},
   "source": [
    "$\\mathcal{P}(A\\times B)$: las relaciones de $A$ en $B$"
   ]
  },
  {
   "cell_type": "code",
   "execution_count": 20,
   "metadata": {
    "scrolled": true
   },
   "outputs": [],
   "source": [
    "RelAB=list(powerset(AxB))\n",
    "RelAB.sort(key=lambda x:len(x))\n",
    "RelAB={\n",
    "    f'Subconjuntos con {k} elementos':{p+1:q for p,q in enumerate([l for l in RelAB if len(l)==k])}\n",
    "    for k in range(len(AxB)+1)\n",
    "}"
   ]
  },
  {
   "cell_type": "code",
   "execution_count": 21,
   "metadata": {},
   "outputs": [
    {
     "name": "stdout",
     "output_type": "stream",
     "text": [
      "{'Subconjuntos con 0 elementos': {1: []},\n",
      " 'Subconjuntos con 1 elementos': {1: [(2, 'b')],\n",
      "                                  2: [(2, 'a')],\n",
      "                                  3: [(1, 'b')],\n",
      "                                  4: [(1, 'a')],\n",
      "                                  5: [(0, 'b')],\n",
      "                                  6: [(0, 'a')]},\n",
      " 'Subconjuntos con 2 elementos': {1: [(2, 'a'), (2, 'b')],\n",
      "                                  2: [(1, 'b'), (2, 'b')],\n",
      "                                  3: [(1, 'a'), (2, 'b')],\n",
      "                                  4: [(0, 'b'), (2, 'b')],\n",
      "                                  5: [(0, 'a'), (2, 'b')],\n",
      "                                  6: [(1, 'b'), (2, 'a')],\n",
      "                                  7: [(1, 'a'), (2, 'a')],\n",
      "                                  8: [(0, 'b'), (2, 'a')],\n",
      "                                  9: [(0, 'a'), (2, 'a')],\n",
      "                                  10: [(1, 'a'), (1, 'b')],\n",
      "                                  11: [(0, 'b'), (1, 'b')],\n",
      "                                  12: [(0, 'a'), (1, 'b')],\n",
      "                                  13: [(0, 'b'), (1, 'a')],\n",
      "                                  14: [(0, 'a'), (1, 'a')],\n",
      "                                  15: [(0, 'a'), (0, 'b')]},\n",
      " 'Subconjuntos con 3 elementos': {1: [(1, 'b'), (2, 'a'), (2, 'b')],\n",
      "                                  2: [(1, 'a'), (2, 'a'), (2, 'b')],\n",
      "                                  3: [(0, 'b'), (2, 'a'), (2, 'b')],\n",
      "                                  4: [(0, 'a'), (2, 'a'), (2, 'b')],\n",
      "                                  5: [(1, 'a'), (1, 'b'), (2, 'b')],\n",
      "                                  6: [(0, 'b'), (1, 'b'), (2, 'b')],\n",
      "                                  7: [(0, 'a'), (1, 'b'), (2, 'b')],\n",
      "                                  8: [(0, 'b'), (1, 'a'), (2, 'b')],\n",
      "                                  9: [(0, 'a'), (1, 'a'), (2, 'b')],\n",
      "                                  10: [(0, 'a'), (0, 'b'), (2, 'b')],\n",
      "                                  11: [(1, 'a'), (1, 'b'), (2, 'a')],\n",
      "                                  12: [(0, 'b'), (1, 'b'), (2, 'a')],\n",
      "                                  13: [(0, 'a'), (1, 'b'), (2, 'a')],\n",
      "                                  14: [(0, 'b'), (1, 'a'), (2, 'a')],\n",
      "                                  15: [(0, 'a'), (1, 'a'), (2, 'a')],\n",
      "                                  16: [(0, 'a'), (0, 'b'), (2, 'a')],\n",
      "                                  17: [(0, 'b'), (1, 'a'), (1, 'b')],\n",
      "                                  18: [(0, 'a'), (1, 'a'), (1, 'b')],\n",
      "                                  19: [(0, 'a'), (0, 'b'), (1, 'b')],\n",
      "                                  20: [(0, 'a'), (0, 'b'), (1, 'a')]},\n",
      " 'Subconjuntos con 4 elementos': {1: [(1, 'a'), (1, 'b'), (2, 'a'), (2, 'b')],\n",
      "                                  2: [(0, 'b'), (1, 'b'), (2, 'a'), (2, 'b')],\n",
      "                                  3: [(0, 'a'), (1, 'b'), (2, 'a'), (2, 'b')],\n",
      "                                  4: [(0, 'b'), (1, 'a'), (2, 'a'), (2, 'b')],\n",
      "                                  5: [(0, 'a'), (1, 'a'), (2, 'a'), (2, 'b')],\n",
      "                                  6: [(0, 'a'), (0, 'b'), (2, 'a'), (2, 'b')],\n",
      "                                  7: [(0, 'b'), (1, 'a'), (1, 'b'), (2, 'b')],\n",
      "                                  8: [(0, 'a'), (1, 'a'), (1, 'b'), (2, 'b')],\n",
      "                                  9: [(0, 'a'), (0, 'b'), (1, 'b'), (2, 'b')],\n",
      "                                  10: [(0, 'a'), (0, 'b'), (1, 'a'), (2, 'b')],\n",
      "                                  11: [(0, 'b'), (1, 'a'), (1, 'b'), (2, 'a')],\n",
      "                                  12: [(0, 'a'), (1, 'a'), (1, 'b'), (2, 'a')],\n",
      "                                  13: [(0, 'a'), (0, 'b'), (1, 'b'), (2, 'a')],\n",
      "                                  14: [(0, 'a'), (0, 'b'), (1, 'a'), (2, 'a')],\n",
      "                                  15: [(0, 'a'), (0, 'b'), (1, 'a'), (1, 'b')]},\n",
      " 'Subconjuntos con 5 elementos': {1: [(0, 'b'),\n",
      "                                      (1, 'a'),\n",
      "                                      (1, 'b'),\n",
      "                                      (2, 'a'),\n",
      "                                      (2, 'b')],\n",
      "                                  2: [(0, 'a'),\n",
      "                                      (1, 'a'),\n",
      "                                      (1, 'b'),\n",
      "                                      (2, 'a'),\n",
      "                                      (2, 'b')],\n",
      "                                  3: [(0, 'a'),\n",
      "                                      (0, 'b'),\n",
      "                                      (1, 'b'),\n",
      "                                      (2, 'a'),\n",
      "                                      (2, 'b')],\n",
      "                                  4: [(0, 'a'),\n",
      "                                      (0, 'b'),\n",
      "                                      (1, 'a'),\n",
      "                                      (2, 'a'),\n",
      "                                      (2, 'b')],\n",
      "                                  5: [(0, 'a'),\n",
      "                                      (0, 'b'),\n",
      "                                      (1, 'a'),\n",
      "                                      (1, 'b'),\n",
      "                                      (2, 'b')],\n",
      "                                  6: [(0, 'a'),\n",
      "                                      (0, 'b'),\n",
      "                                      (1, 'a'),\n",
      "                                      (1, 'b'),\n",
      "                                      (2, 'a')]},\n",
      " 'Subconjuntos con 6 elementos': {1: [(0, 'a'),\n",
      "                                      (0, 'b'),\n",
      "                                      (1, 'a'),\n",
      "                                      (1, 'b'),\n",
      "                                      (2, 'a'),\n",
      "                                      (2, 'b')]}}\n"
     ]
    }
   ],
   "source": [
    "pprint(RelAB)"
   ]
  },
  {
   "cell_type": "markdown",
   "metadata": {},
   "source": [
    "$\\mathcal{P}(A\\times B)$: El conjunto de relaciones de $A$ en $B$."
   ]
  },
  {
   "cell_type": "code",
   "execution_count": 15,
   "metadata": {},
   "outputs": [
    {
     "name": "stdout",
     "output_type": "stream",
     "text": [
      "{(1, 'a'), (0, 'b'), (2, 'b'), (2, 'a'), (1, 'b'), (0, 'a')} ,\n",
      "{(1, 'a'), (0, 'b'), (2, 'b'), (2, 'a'), (1, 'b')} ,\n",
      "{(1, 'a'), (2, 'b'), (2, 'a'), (1, 'b'), (0, 'a')} ,\n",
      "{(2, 'a'), (1, 'a'), (1, 'b'), (2, 'b')} ,\n",
      "{(0, 'b'), (2, 'b'), (2, 'a'), (1, 'b'), (0, 'a')} ,\n",
      "{(2, 'a'), (0, 'b'), (1, 'b'), (2, 'b')} ,\n",
      "{(0, 'a'), (2, 'a'), (1, 'b'), (2, 'b')} ,\n",
      "{(2, 'a'), (1, 'b'), (2, 'b')} ,\n",
      "{(1, 'a'), (0, 'b'), (2, 'b'), (2, 'a'), (0, 'a')} ,\n",
      "{(2, 'b'), (1, 'a'), (0, 'b'), (2, 'a')} ,\n",
      "{(0, 'a'), (2, 'b'), (1, 'a'), (2, 'a')} ,\n",
      "{(2, 'b'), (1, 'a'), (2, 'a')} ,\n",
      "{(0, 'a'), (2, 'b'), (0, 'b'), (2, 'a')} ,\n",
      "{(2, 'b'), (0, 'b'), (2, 'a')} ,\n",
      "{(0, 'a'), (2, 'b'), (2, 'a')} ,\n",
      "{(2, 'b'), (2, 'a')} ,\n",
      "{(1, 'a'), (0, 'b'), (2, 'b'), (1, 'b'), (0, 'a')} ,\n",
      "{(2, 'b'), (1, 'a'), (0, 'b'), (1, 'b')} ,\n",
      "{(0, 'a'), (2, 'b'), (1, 'a'), (1, 'b')} ,\n",
      "{(2, 'b'), (1, 'a'), (1, 'b')} ,\n",
      "{(0, 'a'), (2, 'b'), (0, 'b'), (1, 'b')} ,\n",
      "{(2, 'b'), (0, 'b'), (1, 'b')} ,\n",
      "{(0, 'a'), (2, 'b'), (1, 'b')} ,\n",
      "{(2, 'b'), (1, 'b')} ,\n",
      "{(0, 'a'), (2, 'b'), (1, 'a'), (0, 'b')} ,\n",
      "{(2, 'b'), (1, 'a'), (0, 'b')} ,\n",
      "{(0, 'a'), (2, 'b'), (1, 'a')} ,\n",
      "{(2, 'b'), (1, 'a')} ,\n",
      "{(0, 'a'), (2, 'b'), (0, 'b')} ,\n",
      "{(2, 'b'), (0, 'b')} ,\n",
      "{(0, 'a'), (2, 'b')} ,\n",
      "{(2, 'b')} ,\n",
      "{(1, 'a'), (0, 'b'), (2, 'a'), (1, 'b'), (0, 'a')} ,\n",
      "{(2, 'a'), (1, 'a'), (0, 'b'), (1, 'b')} ,\n",
      "{(0, 'a'), (2, 'a'), (1, 'a'), (1, 'b')} ,\n",
      "{(2, 'a'), (1, 'a'), (1, 'b')} ,\n",
      "{(0, 'a'), (2, 'a'), (0, 'b'), (1, 'b')} ,\n",
      "{(2, 'a'), (0, 'b'), (1, 'b')} ,\n",
      "{(0, 'a'), (2, 'a'), (1, 'b')} ,\n",
      "{(2, 'a'), (1, 'b')} ,\n",
      "{(0, 'a'), (1, 'a'), (0, 'b'), (2, 'a')} ,\n",
      "{(1, 'a'), (0, 'b'), (2, 'a')} ,\n",
      "{(0, 'a'), (1, 'a'), (2, 'a')} ,\n",
      "{(1, 'a'), (2, 'a')} ,\n",
      "{(0, 'a'), (0, 'b'), (2, 'a')} ,\n",
      "{(0, 'b'), (2, 'a')} ,\n",
      "{(0, 'a'), (2, 'a')} ,\n",
      "{(2, 'a')} ,\n",
      "{(0, 'a'), (1, 'a'), (0, 'b'), (1, 'b')} ,\n",
      "{(1, 'a'), (0, 'b'), (1, 'b')} ,\n",
      "{(0, 'a'), (1, 'a'), (1, 'b')} ,\n",
      "{(1, 'a'), (1, 'b')} ,\n",
      "{(0, 'a'), (0, 'b'), (1, 'b')} ,\n",
      "{(0, 'b'), (1, 'b')} ,\n",
      "{(0, 'a'), (1, 'b')} ,\n",
      "{(1, 'b')} ,\n",
      "{(0, 'a'), (1, 'a'), (0, 'b')} ,\n",
      "{(1, 'a'), (0, 'b')} ,\n",
      "{(0, 'a'), (1, 'a')} ,\n",
      "{(1, 'a')} ,\n",
      "{(0, 'a'), (0, 'b')} ,\n",
      "{(0, 'b')} ,\n",
      "{(0, 'a')} ,\n",
      "set() ,\n"
     ]
    }
   ],
   "source": [
    "RelAB=powerset(AxB)\n",
    "\n",
    "for i in RelAB:\n",
    "    print(set(i),',')"
   ]
  },
  {
   "cell_type": "code",
   "execution_count": 24,
   "metadata": {},
   "outputs": [
    {
     "name": "stdout",
     "output_type": "stream",
     "text": [
      "{('b', 0), ('a', 1), ('a', 0), ('b', 2), ('b', 1), ('a', 2)} ,\n",
      "{('b', 0), ('a', 1), ('b', 2), ('b', 1), ('a', 2)} ,\n",
      "{('b', 0), ('a', 0), ('b', 2), ('b', 1), ('a', 2)} ,\n",
      "{('b', 0), ('b', 1), ('b', 2), ('a', 2)} ,\n",
      "{('b', 0), ('a', 1), ('a', 0), ('b', 2), ('b', 1)} ,\n",
      "{('b', 0), ('b', 1), ('a', 1), ('b', 2)} ,\n",
      "{('b', 0), ('a', 0), ('b', 2), ('b', 1)} ,\n",
      "{('b', 0), ('b', 1), ('b', 2)} ,\n",
      "{('a', 1), ('a', 0), ('b', 2), ('b', 1), ('a', 2)} ,\n",
      "{('b', 1), ('a', 1), ('b', 2), ('a', 2)} ,\n",
      "{('a', 0), ('b', 2), ('b', 1), ('a', 2)} ,\n",
      "{('b', 1), ('b', 2), ('a', 2)} ,\n",
      "{('a', 0), ('a', 1), ('b', 1), ('b', 2)} ,\n",
      "{('b', 1), ('a', 1), ('b', 2)} ,\n",
      "{('a', 0), ('b', 2), ('b', 1)} ,\n",
      "{('b', 1), ('b', 2)} ,\n",
      "{('b', 0), ('a', 1), ('a', 0), ('b', 2), ('a', 2)} ,\n",
      "{('b', 0), ('a', 1), ('b', 2), ('a', 2)} ,\n",
      "{('b', 0), ('a', 0), ('b', 2), ('a', 2)} ,\n",
      "{('b', 0), ('b', 2), ('a', 2)} ,\n",
      "{('b', 0), ('a', 0), ('a', 1), ('b', 2)} ,\n",
      "{('b', 0), ('a', 1), ('b', 2)} ,\n",
      "{('b', 0), ('a', 0), ('b', 2)} ,\n",
      "{('b', 0), ('b', 2)} ,\n",
      "{('a', 0), ('a', 1), ('b', 2), ('a', 2)} ,\n",
      "{('a', 1), ('b', 2), ('a', 2)} ,\n",
      "{('a', 0), ('b', 2), ('a', 2)} ,\n",
      "{('b', 2), ('a', 2)} ,\n",
      "{('a', 0), ('a', 1), ('b', 2)} ,\n",
      "{('a', 1), ('b', 2)} ,\n",
      "{('a', 0), ('b', 2)} ,\n",
      "{('b', 2)} ,\n",
      "{('b', 0), ('a', 1), ('a', 0), ('b', 1), ('a', 2)} ,\n",
      "{('b', 0), ('b', 1), ('a', 1), ('a', 2)} ,\n",
      "{('b', 0), ('a', 0), ('b', 1), ('a', 2)} ,\n",
      "{('b', 0), ('b', 1), ('a', 2)} ,\n",
      "{('b', 0), ('a', 0), ('a', 1), ('b', 1)} ,\n",
      "{('b', 0), ('b', 1), ('a', 1)} ,\n",
      "{('b', 0), ('a', 0), ('b', 1)} ,\n",
      "{('b', 0), ('b', 1)} ,\n",
      "{('a', 0), ('a', 1), ('b', 1), ('a', 2)} ,\n",
      "{('b', 1), ('a', 1), ('a', 2)} ,\n",
      "{('a', 0), ('b', 1), ('a', 2)} ,\n",
      "{('b', 1), ('a', 2)} ,\n",
      "{('a', 0), ('a', 1), ('b', 1)} ,\n",
      "{('b', 1), ('a', 1)} ,\n",
      "{('a', 0), ('b', 1)} ,\n",
      "{('b', 1)} ,\n",
      "{('b', 0), ('a', 0), ('a', 1), ('a', 2)} ,\n",
      "{('b', 0), ('a', 1), ('a', 2)} ,\n",
      "{('b', 0), ('a', 0), ('a', 2)} ,\n",
      "{('b', 0), ('a', 2)} ,\n",
      "{('b', 0), ('a', 0), ('a', 1)} ,\n",
      "{('b', 0), ('a', 1)} ,\n",
      "{('b', 0), ('a', 0)} ,\n",
      "{('b', 0)} ,\n",
      "{('a', 0), ('a', 1), ('a', 2)} ,\n",
      "{('a', 1), ('a', 2)} ,\n",
      "{('a', 0), ('a', 2)} ,\n",
      "{('a', 2)} ,\n",
      "{('a', 0), ('a', 1)} ,\n",
      "{('a', 1)} ,\n",
      "{('a', 0)} ,\n",
      "set() ,\n"
     ]
    }
   ],
   "source": [
    "RelBA=powerset(BxA)\n",
    "\n",
    "for i in RelBA:\n",
    "    print(set(i),',')"
   ]
  },
  {
   "cell_type": "markdown",
   "metadata": {},
   "source": [
    "$B^A$: El conjunto de funciones de $A$ en $B$."
   ]
  },
  {
   "cell_type": "code",
   "execution_count": 13,
   "metadata": {},
   "outputs": [
    {
     "name": "stdout",
     "output_type": "stream",
     "text": [
      "1 : {(2, 'b'), (0, 'b'), (1, 'b')}\n",
      "2 : {(0, 'a'), (2, 'b'), (1, 'b')}\n",
      "3 : {(2, 'b'), (1, 'a'), (0, 'b')}\n",
      "4 : {(0, 'a'), (2, 'b'), (1, 'a')}\n",
      "5 : {(2, 'a'), (0, 'b'), (1, 'b')}\n",
      "6 : {(0, 'a'), (2, 'a'), (1, 'b')}\n",
      "7 : {(1, 'a'), (0, 'b'), (2, 'a')}\n",
      "8 : {(0, 'a'), (1, 'a'), (2, 'a')}\n"
     ]
    }
   ],
   "source": [
    "RelAB=powerset(AxB)\n",
    "\n",
    "j=0\n",
    "F_AB=[]\n",
    "for i in RelAB:\n",
    "    if len(i)==len(A) and {k[0] for k in i}==set(A):\n",
    "        j+=1\n",
    "        print(j,':',set(i))\n",
    "        F_AB.append(set(i))"
   ]
  },
  {
   "cell_type": "markdown",
   "metadata": {},
   "source": [
    "**¿Cuáles de estas funciones son inyectivas?**"
   ]
  },
  {
   "cell_type": "code",
   "execution_count": 56,
   "metadata": {},
   "outputs": [
    {
     "data": {
      "text/plain": [
       "[{('Fany', 'espresso'), ('Manuel', 'capuccino')},\n",
       " {('Fany', 'espresso'), ('Manuel', 'latte')},\n",
       " {('Fany', 'capuccino'), ('Manuel', 'espresso')},\n",
       " {('Fany', 'capuccino'), ('Manuel', 'latte')},\n",
       " {('Fany', 'latte'), ('Manuel', 'espresso')},\n",
       " {('Fany', 'latte'), ('Manuel', 'capuccino')}]"
      ]
     },
     "execution_count": 56,
     "metadata": {},
     "output_type": "execute_result"
    }
   ],
   "source": [
    "In_AB=[f for f in F_AB if len(set(x[1] for x in f))==len(A)]\n",
    "In_AB"
   ]
  },
  {
   "cell_type": "code",
   "execution_count": 57,
   "metadata": {},
   "outputs": [
    {
     "data": {
      "text/plain": [
       "6"
      ]
     },
     "execution_count": 57,
     "metadata": {},
     "output_type": "execute_result"
    }
   ],
   "source": [
    "len(In_AB)"
   ]
  },
  {
   "cell_type": "markdown",
   "metadata": {},
   "source": [
    "$A^B$: El conjunto de funciones de $B$ en $A$."
   ]
  },
  {
   "cell_type": "code",
   "execution_count": 58,
   "metadata": {},
   "outputs": [
    {
     "name": "stdout",
     "output_type": "stream",
     "text": [
      "1 : {('espresso', 'Fany'), ('capuccino', 'Fany'), ('latte', 'Fany')}\n",
      "2 : {('espresso', 'Fany'), ('latte', 'Manuel'), ('capuccino', 'Fany')}\n",
      "3 : {('espresso', 'Fany'), ('capuccino', 'Manuel'), ('latte', 'Fany')}\n",
      "4 : {('espresso', 'Fany'), ('capuccino', 'Manuel'), ('latte', 'Manuel')}\n",
      "5 : {('espresso', 'Manuel'), ('capuccino', 'Fany'), ('latte', 'Fany')}\n",
      "6 : {('espresso', 'Manuel'), ('latte', 'Manuel'), ('capuccino', 'Fany')}\n",
      "7 : {('espresso', 'Manuel'), ('capuccino', 'Manuel'), ('latte', 'Fany')}\n",
      "8 : {('espresso', 'Manuel'), ('capuccino', 'Manuel'), ('latte', 'Manuel')}\n"
     ]
    }
   ],
   "source": [
    "RelBA=powerset(BxA)\n",
    "\n",
    "j=0\n",
    "for i in RelBA:\n",
    "    if len(i)==len(B) and {k[0] for k in i}==set(B):\n",
    "        j+=1\n",
    "        print(j,':',set(i))"
   ]
  },
  {
   "cell_type": "code",
   "execution_count": 59,
   "metadata": {},
   "outputs": [
    {
     "data": {
      "text/plain": [
       "[{('Fany', 'espresso'), ('Manuel', 'capuccino')},\n",
       " {('Fany', 'espresso'), ('Manuel', 'latte')},\n",
       " {('Fany', 'capuccino'), ('Manuel', 'espresso')},\n",
       " {('Fany', 'capuccino'), ('Manuel', 'latte')},\n",
       " {('Fany', 'latte'), ('Manuel', 'espresso')},\n",
       " {('Fany', 'latte'), ('Manuel', 'capuccino')}]"
      ]
     },
     "execution_count": 59,
     "metadata": {},
     "output_type": "execute_result"
    }
   ],
   "source": [
    "In_AB=[f for f in F_AB if len(set(x[1] for x in f))==len(A)]\n",
    "In_AB"
   ]
  },
  {
   "cell_type": "code",
   "execution_count": null,
   "metadata": {},
   "outputs": [],
   "source": []
  }
 ],
 "metadata": {
  "kernelspec": {
   "display_name": "Python 3 (ipykernel)",
   "language": "python",
   "name": "python3"
  },
  "language_info": {
   "codemirror_mode": {
    "name": "ipython",
    "version": 3
   },
   "file_extension": ".py",
   "mimetype": "text/x-python",
   "name": "python",
   "nbconvert_exporter": "python",
   "pygments_lexer": "ipython3",
   "version": "3.10.9"
  },
  "widgets": {
   "application/vnd.jupyter.widget-state+json": {
    "state": {},
    "version_major": 2,
    "version_minor": 0
   }
  }
 },
 "nbformat": 4,
 "nbformat_minor": 4
}
