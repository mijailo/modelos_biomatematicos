{
 "cells": [
  {
   "cell_type": "markdown",
   "id": "574c23d1-dd59-429b-85d2-7e14555e6f0d",
   "metadata": {},
   "source": [
    "# Particiones de un conjunto\n",
    "> **Nota**: Sacado de [Stack Overflow](https://stackoverflow.com/questions/55162738/python-finding-all-possible-partitions-of-a-list-of-lists-subject-to-a-size-li#551641031). También es útil [esta referencia](https://more-itertools.readthedocs.io/en/stable/api.html#more_itertools.set_partitions)."
   ]
  },
  {
   "cell_type": "code",
   "execution_count": 1,
   "id": "ff3fd08b-2929-4a49-8766-9e7c35741899",
   "metadata": {},
   "outputs": [],
   "source": [
    "# Main function\n",
    "def get_all_possible_partitions(lst, c):\n",
    "    yield from _get_all_possible_partitions_rec(lst, c, [False] * len(lst), [])\n",
    "\n",
    "# Produces partitions recursively\n",
    "def _get_all_possible_partitions_rec(lst, c, picked, partition):\n",
    "    # If all elements have been picked it is a complete partition\n",
    "    if all(picked):\n",
    "        yield tuple(partition)\n",
    "    else:\n",
    "        # Get all possible subsets of unpicked elements\n",
    "        for subset in _get_all_possible_subsets_rec(lst, c, picked, [], 0):\n",
    "            # Add the subset to the partition\n",
    "            partition.append(subset)\n",
    "            # Generate all partitions that complete the current one\n",
    "            yield from _get_all_possible_partitions_rec(lst, c, picked, partition)\n",
    "            # Remove the subset from the partition\n",
    "            partition.pop()\n",
    "\n",
    "# Produces all possible subsets of unpicked elements\n",
    "def _get_all_possible_subsets_rec(lst, c, picked, current, idx):\n",
    "    # If we have gone over all elements finish\n",
    "    if idx >= len(lst): return\n",
    "    # If the current element is available and fits in the subset\n",
    "    if not picked[idx] and len(lst[idx]) <= c:\n",
    "        # Mark it as picked\n",
    "        picked[idx] = True\n",
    "        # Add it to the subset\n",
    "        current.append(lst[idx])\n",
    "        # Generate the subset\n",
    "        yield tuple(current)\n",
    "        # Generate all possible subsets extending this one\n",
    "        yield from _get_all_possible_subsets_rec(lst, c - len(lst[idx]), picked, current, idx + 1)\n",
    "        # Remove current element\n",
    "        current.pop()\n",
    "        # Unmark as picked\n",
    "        picked[idx] = False\n",
    "    # Only allow skip if it is not the first available element\n",
    "    if len(current) > 0 or picked[idx]:\n",
    "        # Get all subsets resulting from skipping current element\n",
    "        yield from _get_all_possible_subsets_rec(lst, c, picked, current, idx + 1)\n"
   ]
  },
  {
   "cell_type": "code",
   "execution_count": 3,
   "id": "b1451f50-edd7-4997-aa5d-4ccddaa68b56",
   "metadata": {},
   "outputs": [
    {
     "data": {
      "text/plain": [
       "[(('♥',), ('♦',), ('♠',), ('♣',)),\n",
       " (('♥',), ('♦',), ('♠', '♣')),\n",
       " (('♥',), ('♦', '♠'), ('♣',)),\n",
       " (('♥',), ('♦', '♠', '♣')),\n",
       " (('♥',), ('♦', '♣'), ('♠',)),\n",
       " (('♥', '♦'), ('♠',), ('♣',)),\n",
       " (('♥', '♦'), ('♠', '♣')),\n",
       " (('♥', '♦', '♠'), ('♣',)),\n",
       " (('♥', '♦', '♠', '♣'),),\n",
       " (('♥', '♦', '♣'), ('♠',)),\n",
       " (('♥', '♠'), ('♦',), ('♣',)),\n",
       " (('♥', '♠'), ('♦', '♣')),\n",
       " (('♥', '♠', '♣'), ('♦',)),\n",
       " (('♥', '♣'), ('♦',), ('♠',)),\n",
       " (('♥', '♣'), ('♦', '♠'))]"
      ]
     },
     "execution_count": 3,
     "metadata": {},
     "output_type": "execute_result"
    }
   ],
   "source": [
    "A=['♥','♦','♠','♣']\n",
    "list(get_all_possible_partitions(A,4))"
   ]
  },
  {
   "cell_type": "code",
   "execution_count": null,
   "id": "70915191-5b77-4d0c-ae2e-c21c24ffcaa8",
   "metadata": {},
   "outputs": [],
   "source": []
  }
 ],
 "metadata": {
  "kernelspec": {
   "display_name": "Python 3 (ipykernel)",
   "language": "python",
   "name": "python3"
  },
  "language_info": {
   "codemirror_mode": {
    "name": "ipython",
    "version": 3
   },
   "file_extension": ".py",
   "mimetype": "text/x-python",
   "name": "python",
   "nbconvert_exporter": "python",
   "pygments_lexer": "ipython3",
   "version": "3.10.9"
  },
  "widgets": {
   "application/vnd.jupyter.widget-state+json": {
    "state": {},
    "version_major": 2,
    "version_minor": 0
   }
  }
 },
 "nbformat": 4,
 "nbformat_minor": 5
}
