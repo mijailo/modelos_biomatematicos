{
 "cells": [
  {
   "cell_type": "code",
   "execution_count": 1,
   "id": "third-steps",
   "metadata": {},
   "outputs": [],
   "source": [
    "import sympy as sp #Symbolic Python"
   ]
  },
  {
   "cell_type": "markdown",
   "id": "close-objective",
   "metadata": {},
   "source": [
    "## <font color='crimson'> Problema 1 </font>"
   ]
  },
  {
   "cell_type": "code",
   "execution_count": 3,
   "id": "grand-albuquerque",
   "metadata": {},
   "outputs": [],
   "source": [
    "A=sp.Matrix([\n",
    "    [1,1],\n",
    "    [-3,3],\n",
    "    [-1,5]\n",
    "])\n",
    "\n",
    "B=sp.Matrix([\n",
    "    [1,-1,3],\n",
    "    [3,-1,-2]\n",
    "])\n",
    "\n",
    "C=sp.Matrix([\n",
    "    [0,5],\n",
    "    [1,0],\n",
    "    [-3,2]\n",
    "])"
   ]
  },
  {
   "cell_type": "code",
   "execution_count": 4,
   "id": "becoming-portuguese",
   "metadata": {},
   "outputs": [
    {
     "data": {
      "text/latex": [
       "$\\displaystyle \\left[\\begin{matrix}5 & 9\\\\-11 & 7\\\\3 & 11\\end{matrix}\\right]$"
      ],
      "text/plain": [
       "Matrix([\n",
       "[  5,  9],\n",
       "[-11,  7],\n",
       "[  3, 11]])"
      ]
     },
     "execution_count": 4,
     "metadata": {},
     "output_type": "execute_result"
    }
   ],
   "source": [
    "3*A+2*B.T"
   ]
  },
  {
   "cell_type": "code",
   "execution_count": 5,
   "id": "junior-registration",
   "metadata": {},
   "outputs": [
    {
     "data": {
      "text/latex": [
       "$\\displaystyle \\left[\\begin{matrix}1 & -2 & 6\\\\-2 & -1 & -4\\end{matrix}\\right]$"
      ],
      "text/plain": [
       "Matrix([\n",
       "[ 1, -2,  6],\n",
       "[-2, -1, -4]])"
      ]
     },
     "execution_count": 5,
     "metadata": {},
     "output_type": "execute_result"
    }
   ],
   "source": [
    "B-C.T"
   ]
  },
  {
   "cell_type": "code",
   "execution_count": 6,
   "id": "partial-olive",
   "metadata": {},
   "outputs": [
    {
     "data": {
      "text/latex": [
       "$\\displaystyle \\left[\\begin{matrix}2 & 8\\\\0 & -6\\\\10 & -11\\end{matrix}\\right]$"
      ],
      "text/plain": [
       "Matrix([\n",
       "[ 2,   8],\n",
       "[ 0,  -6],\n",
       "[10, -11]])"
      ]
     },
     "execution_count": 6,
     "metadata": {},
     "output_type": "execute_result"
    }
   ],
   "source": [
    "(-A.T+3*B).T"
   ]
  },
  {
   "cell_type": "code",
   "execution_count": 7,
   "id": "faced-ethnic",
   "metadata": {},
   "outputs": [
    {
     "data": {
      "text/latex": [
       "$\\displaystyle \\left[\\begin{matrix}2 & -3 & -1\\\\9 & 2 & 5\\end{matrix}\\right]$"
      ],
      "text/plain": [
       "Matrix([\n",
       "[2, -3, -1],\n",
       "[9,  2,  5]])"
      ]
     },
     "execution_count": 7,
     "metadata": {},
     "output_type": "execute_result"
    }
   ],
   "source": [
    "(A+B.T+C).T"
   ]
  },
  {
   "cell_type": "code",
   "execution_count": 8,
   "id": "front-camel",
   "metadata": {},
   "outputs": [
    {
     "data": {
      "text/latex": [
       "$\\displaystyle \\left[\\begin{matrix}1 & 1\\\\-3 & 3\\\\-1 & 5\\end{matrix}\\right]$"
      ],
      "text/plain": [
       "Matrix([\n",
       "[ 1, 1],\n",
       "[-3, 3],\n",
       "[-1, 5]])"
      ]
     },
     "execution_count": 8,
     "metadata": {},
     "output_type": "execute_result"
    }
   ],
   "source": [
    "(A.T).T"
   ]
  },
  {
   "cell_type": "code",
   "execution_count": 9,
   "id": "congressional-dictionary",
   "metadata": {},
   "outputs": [
    {
     "data": {
      "text/latex": [
       "$\\displaystyle \\left[\\begin{matrix}2 & -3 & -1\\\\9 & 2 & 5\\end{matrix}\\right]$"
      ],
      "text/plain": [
       "Matrix([\n",
       "[2, -3, -1],\n",
       "[9,  2,  5]])"
      ]
     },
     "execution_count": 9,
     "metadata": {},
     "output_type": "execute_result"
    }
   ],
   "source": [
    "A.T+B+C.T"
   ]
  },
  {
   "cell_type": "markdown",
   "id": "improving-poster",
   "metadata": {},
   "source": [
    "## <font color='crimson'> Problema 2 </font>\n",
    "\n",
    "$\\left(\\mathbf{A}^t\\right)^t$ es lo mismo que $\\mathbf{A}$ porque, ya que _convertir renglones en columnas_ es lo mismo que _convertir columnas en renglones_, transponer los renglones de $\\mathbf{A}$ produce columnas en $\\mathbf{A}^t$, que a su vez se transforman en renglones al volver a transponer. Eso da, como resultado final, la misma matriz $\\mathbf{A}$.\n",
    "\n",
    "Otra forma de verlo es mediante la representación con índices:\n",
    "\n",
    "$$\\mathbf{A}^t=\\left(a_{ij}\\right)^t=\\left(a_{ji}\\right)\\Rightarrow\\left(\\mathbf{A}^t\\right)^t=\\left(a_{ji}\\right)^t=\\left(a_{ij}\\right)=\\mathbf{A}$$"
   ]
  },
  {
   "cell_type": "markdown",
   "id": "parliamentary-samba",
   "metadata": {},
   "source": [
    "## <font color='crimson'> Problema 3 </font>"
   ]
  },
  {
   "cell_type": "code",
   "execution_count": 10,
   "id": "functional-perspective",
   "metadata": {},
   "outputs": [],
   "source": [
    "x=sp.Matrix([\n",
    "    [1],\n",
    "    [2],\n",
    "    [-1]\n",
    "])\n",
    "\n",
    "y=sp.Matrix([\n",
    "    [8],\n",
    "    [1],\n",
    "    [0]\n",
    "])\n",
    "\n",
    "z=sp.Matrix([\n",
    "    [0],\n",
    "    [-1],\n",
    "    [2]\n",
    "])"
   ]
  },
  {
   "cell_type": "code",
   "execution_count": 11,
   "id": "adopted-collapse",
   "metadata": {},
   "outputs": [
    {
     "data": {
      "text/latex": [
       "$\\displaystyle \\left[\\begin{matrix}60\\end{matrix}\\right]$"
      ],
      "text/plain": [
       "Matrix([[60]])"
      ]
     },
     "execution_count": 11,
     "metadata": {},
     "output_type": "execute_result"
    }
   ],
   "source": [
    "3*x.T*(2*y)"
   ]
  },
  {
   "cell_type": "code",
   "execution_count": 12,
   "id": "selective-vanilla",
   "metadata": {},
   "outputs": [
    {
     "data": {
      "text/latex": [
       "$\\displaystyle \\left[\\begin{matrix}65\\end{matrix}\\right]$"
      ],
      "text/plain": [
       "Matrix([[65]])"
      ]
     },
     "execution_count": 12,
     "metadata": {},
     "output_type": "execute_result"
    }
   ],
   "source": [
    "y.T*y"
   ]
  },
  {
   "cell_type": "code",
   "execution_count": 13,
   "id": "public-cologne",
   "metadata": {},
   "outputs": [
    {
     "data": {
      "text/latex": [
       "$\\displaystyle \\left[\\begin{matrix}4\\end{matrix}\\right]$"
      ],
      "text/plain": [
       "Matrix([[4]])"
      ]
     },
     "execution_count": 13,
     "metadata": {},
     "output_type": "execute_result"
    }
   ],
   "source": [
    "z.T*(-x)"
   ]
  },
  {
   "cell_type": "code",
   "execution_count": 14,
   "id": "female-operator",
   "metadata": {},
   "outputs": [
    {
     "data": {
      "text/latex": [
       "$\\displaystyle \\left[\\begin{matrix}76\\end{matrix}\\right]$"
      ],
      "text/plain": [
       "Matrix([[76]])"
      ]
     },
     "execution_count": 14,
     "metadata": {},
     "output_type": "execute_result"
    }
   ],
   "source": [
    "x.T*x+y.T*y+z.T*z"
   ]
  },
  {
   "cell_type": "code",
   "execution_count": 15,
   "id": "combined-stress",
   "metadata": {},
   "outputs": [
    {
     "data": {
      "text/latex": [
       "$\\displaystyle \\left[\\begin{matrix}11\\end{matrix}\\right]$"
      ],
      "text/plain": [
       "Matrix([[11]])"
      ]
     },
     "execution_count": 15,
     "metadata": {},
     "output_type": "execute_result"
    }
   ],
   "source": [
    "y.T*(x-z)"
   ]
  },
  {
   "cell_type": "code",
   "execution_count": 16,
   "id": "lasting-drinking",
   "metadata": {},
   "outputs": [
    {
     "data": {
      "text/latex": [
       "$\\displaystyle \\left[\\begin{matrix}11\\end{matrix}\\right]$"
      ],
      "text/plain": [
       "Matrix([[11]])"
      ]
     },
     "execution_count": 16,
     "metadata": {},
     "output_type": "execute_result"
    }
   ],
   "source": [
    "(x.T-z.T)*y"
   ]
  },
  {
   "cell_type": "markdown",
   "id": "vanilla-criterion",
   "metadata": {},
   "source": [
    "## <font color='crimson'> Problema 4 </font>\n",
    "### Parte (a)"
   ]
  },
  {
   "cell_type": "markdown",
   "id": "reasonable-survival",
   "metadata": {},
   "source": [
    "**Primer inciso**"
   ]
  },
  {
   "cell_type": "code",
   "execution_count": 17,
   "id": "tamil-special",
   "metadata": {},
   "outputs": [],
   "source": [
    "A=sp.Matrix([\n",
    "    [0,1,-1,1]\n",
    "])\n",
    "\n",
    "B=sp.Matrix([\n",
    "    [-1],\n",
    "    [0],\n",
    "    [1],\n",
    "    [-1]\n",
    "])"
   ]
  },
  {
   "cell_type": "code",
   "execution_count": 18,
   "id": "superior-carry",
   "metadata": {},
   "outputs": [
    {
     "data": {
      "text/latex": [
       "$\\displaystyle \\left[\\begin{matrix}-2\\end{matrix}\\right]$"
      ],
      "text/plain": [
       "Matrix([[-2]])"
      ]
     },
     "execution_count": 18,
     "metadata": {},
     "output_type": "execute_result"
    }
   ],
   "source": [
    "A*B"
   ]
  },
  {
   "cell_type": "code",
   "execution_count": 19,
   "id": "several-concern",
   "metadata": {},
   "outputs": [
    {
     "data": {
      "text/latex": [
       "$\\displaystyle \\left[\\begin{matrix}0 & -1 & 1 & -1\\\\0 & 0 & 0 & 0\\\\0 & 1 & -1 & 1\\\\0 & -1 & 1 & -1\\end{matrix}\\right]$"
      ],
      "text/plain": [
       "Matrix([\n",
       "[0, -1,  1, -1],\n",
       "[0,  0,  0,  0],\n",
       "[0,  1, -1,  1],\n",
       "[0, -1,  1, -1]])"
      ]
     },
     "execution_count": 19,
     "metadata": {},
     "output_type": "execute_result"
    }
   ],
   "source": [
    "B*A"
   ]
  },
  {
   "cell_type": "markdown",
   "id": "indonesian-proceeding",
   "metadata": {},
   "source": [
    "**Segundo inciso**"
   ]
  },
  {
   "cell_type": "code",
   "execution_count": 20,
   "id": "liked-algeria",
   "metadata": {},
   "outputs": [],
   "source": [
    "A=sp.Matrix([\n",
    "    [7,4],\n",
    "    [4,-2],\n",
    "    [8,1]\n",
    "])\n",
    "\n",
    "B=sp.Matrix([\n",
    "    [2,1,-2],\n",
    "    [-1,0,1]\n",
    "])"
   ]
  },
  {
   "cell_type": "code",
   "execution_count": 21,
   "id": "excessive-eleven",
   "metadata": {},
   "outputs": [
    {
     "data": {
      "text/latex": [
       "$\\displaystyle \\left[\\begin{matrix}10 & 7 & -10\\\\10 & 4 & -10\\\\15 & 8 & -15\\end{matrix}\\right]$"
      ],
      "text/plain": [
       "Matrix([\n",
       "[10, 7, -10],\n",
       "[10, 4, -10],\n",
       "[15, 8, -15]])"
      ]
     },
     "execution_count": 21,
     "metadata": {},
     "output_type": "execute_result"
    }
   ],
   "source": [
    "A*B"
   ]
  },
  {
   "cell_type": "code",
   "execution_count": 22,
   "id": "willing-reflection",
   "metadata": {},
   "outputs": [
    {
     "data": {
      "text/latex": [
       "$\\displaystyle \\left[\\begin{matrix}2 & 4\\\\1 & -3\\end{matrix}\\right]$"
      ],
      "text/plain": [
       "Matrix([\n",
       "[2,  4],\n",
       "[1, -3]])"
      ]
     },
     "execution_count": 22,
     "metadata": {},
     "output_type": "execute_result"
    }
   ],
   "source": [
    "B*A"
   ]
  },
  {
   "cell_type": "markdown",
   "id": "polar-interest",
   "metadata": {},
   "source": [
    "**Tercer inciso**"
   ]
  },
  {
   "cell_type": "code",
   "execution_count": 23,
   "id": "durable-walnut",
   "metadata": {},
   "outputs": [],
   "source": [
    "A=sp.Matrix([\n",
    "    [1,2,3],\n",
    "    [1,3,-2]\n",
    "])\n",
    "\n",
    "B=sp.Matrix([\n",
    "    [7,-5],\n",
    "    [2,1],\n",
    "    [-1,3]\n",
    "])"
   ]
  },
  {
   "cell_type": "code",
   "execution_count": 24,
   "id": "surface-definition",
   "metadata": {},
   "outputs": [
    {
     "data": {
      "text/latex": [
       "$\\displaystyle \\left[\\begin{matrix}8 & 6\\\\15 & -8\\end{matrix}\\right]$"
      ],
      "text/plain": [
       "Matrix([\n",
       "[ 8,  6],\n",
       "[15, -8]])"
      ]
     },
     "execution_count": 24,
     "metadata": {},
     "output_type": "execute_result"
    }
   ],
   "source": [
    "A*B"
   ]
  },
  {
   "cell_type": "code",
   "execution_count": 25,
   "id": "stretch-relay",
   "metadata": {},
   "outputs": [
    {
     "data": {
      "text/latex": [
       "$\\displaystyle \\left[\\begin{matrix}2 & -1 & 31\\\\3 & 7 & 4\\\\2 & 7 & -9\\end{matrix}\\right]$"
      ],
      "text/plain": [
       "Matrix([\n",
       "[2, -1, 31],\n",
       "[3,  7,  4],\n",
       "[2,  7, -9]])"
      ]
     },
     "execution_count": 25,
     "metadata": {},
     "output_type": "execute_result"
    }
   ],
   "source": [
    "B*A"
   ]
  },
  {
   "cell_type": "markdown",
   "id": "effective-tower",
   "metadata": {},
   "source": [
    "**Cuarto inciso**"
   ]
  },
  {
   "cell_type": "code",
   "execution_count": 26,
   "id": "immediate-press",
   "metadata": {},
   "outputs": [],
   "source": [
    "A=sp.Matrix([\n",
    "    [1,0,0],\n",
    "    [0,1,0],\n",
    "    [0,0,1]\n",
    "])\n",
    "\n",
    "B=sp.Matrix([\n",
    "    [1,2,-2],\n",
    "    [2,3,1],\n",
    "    [0,2,-3]\n",
    "])"
   ]
  },
  {
   "cell_type": "code",
   "execution_count": 27,
   "id": "stock-thing",
   "metadata": {},
   "outputs": [
    {
     "data": {
      "text/latex": [
       "$\\displaystyle \\left[\\begin{matrix}1 & 2 & -2\\\\2 & 3 & 1\\\\0 & 2 & -3\\end{matrix}\\right]$"
      ],
      "text/plain": [
       "Matrix([\n",
       "[1, 2, -2],\n",
       "[2, 3,  1],\n",
       "[0, 2, -3]])"
      ]
     },
     "execution_count": 27,
     "metadata": {},
     "output_type": "execute_result"
    }
   ],
   "source": [
    "A*B"
   ]
  },
  {
   "cell_type": "code",
   "execution_count": 28,
   "id": "encouraging-numbers",
   "metadata": {},
   "outputs": [
    {
     "data": {
      "text/latex": [
       "$\\displaystyle \\left[\\begin{matrix}1 & 2 & -2\\\\2 & 3 & 1\\\\0 & 2 & -3\\end{matrix}\\right]$"
      ],
      "text/plain": [
       "Matrix([\n",
       "[1, 2, -2],\n",
       "[2, 3,  1],\n",
       "[0, 2, -3]])"
      ]
     },
     "execution_count": 28,
     "metadata": {},
     "output_type": "execute_result"
    }
   ],
   "source": [
    "B*A"
   ]
  },
  {
   "cell_type": "markdown",
   "id": "faced-interstate",
   "metadata": {},
   "source": [
    "### Parte (b)\n",
    "\n",
    "Justo los problemas anteriores muestran que, **en general, no es cierto que** $\\mathbf{AB}=\\mathbf{BA}$."
   ]
  },
  {
   "cell_type": "markdown",
   "id": "center-pepper",
   "metadata": {},
   "source": [
    "### Parte (c)"
   ]
  },
  {
   "cell_type": "code",
   "execution_count": 29,
   "id": "official-florist",
   "metadata": {},
   "outputs": [
    {
     "data": {
      "text/latex": [
       "$\\displaystyle \\left[\\begin{matrix}1\\\\2\\\\-1\\end{matrix}\\right]$"
      ],
      "text/plain": [
       "Matrix([\n",
       "[ 1],\n",
       "[ 2],\n",
       "[-1]])"
      ]
     },
     "execution_count": 29,
     "metadata": {},
     "output_type": "execute_result"
    }
   ],
   "source": [
    "A=sp.Matrix([\n",
    "    [1,0,0],\n",
    "    [0,1,0],\n",
    "    [0,0,1]\n",
    "])\n",
    "\n",
    "x=sp.Matrix([\n",
    "    1,\n",
    "    2,\n",
    "    -1\n",
    "])\n",
    "\n",
    "A*x"
   ]
  },
  {
   "cell_type": "code",
   "execution_count": 100,
   "id": "divided-tonight",
   "metadata": {},
   "outputs": [
    {
     "data": {
      "text/latex": [
       "$\\displaystyle \\left[\\begin{matrix}8\\\\6\\\\-24\\end{matrix}\\right]$"
      ],
      "text/plain": [
       "Matrix([\n",
       "[  8],\n",
       "[  6],\n",
       "[-24]])"
      ]
     },
     "execution_count": 100,
     "metadata": {},
     "output_type": "execute_result"
    }
   ],
   "source": [
    "A=sp.Matrix([\n",
    "    [-1,0,3],\n",
    "    [-1,4,2],\n",
    "    [6,1,-6]\n",
    "])\n",
    "\n",
    "x=sp.Matrix([\n",
    "    -2,\n",
    "    0,\n",
    "    2\n",
    "])\n",
    "\n",
    "A*x"
   ]
  },
  {
   "cell_type": "code",
   "execution_count": 31,
   "id": "amber-illustration",
   "metadata": {},
   "outputs": [
    {
     "data": {
      "text/latex": [
       "$\\displaystyle \\left[\\begin{matrix}5\\\\-1\\\\1\\\\3\\end{matrix}\\right]$"
      ],
      "text/plain": [
       "Matrix([\n",
       "[ 5],\n",
       "[-1],\n",
       "[ 1],\n",
       "[ 3]])"
      ]
     },
     "execution_count": 31,
     "metadata": {},
     "output_type": "execute_result"
    }
   ],
   "source": [
    "A=sp.Matrix([\n",
    "    [3,-2],\n",
    "    [0,1],\n",
    "    [2,1],\n",
    "    [1,-2]\n",
    "])\n",
    "\n",
    "x=sp.Matrix([\n",
    "    1,\n",
    "    -1\n",
    "])\n",
    "\n",
    "A*x"
   ]
  },
  {
   "cell_type": "code",
   "execution_count": 32,
   "id": "incorporate-milan",
   "metadata": {},
   "outputs": [
    {
     "data": {
      "text/latex": [
       "$\\displaystyle \\left[\\begin{matrix}1\\\\0\\\\-1\\\\1\\end{matrix}\\right]$"
      ],
      "text/plain": [
       "Matrix([\n",
       "[ 1],\n",
       "[ 0],\n",
       "[-1],\n",
       "[ 1]])"
      ]
     },
     "execution_count": 32,
     "metadata": {},
     "output_type": "execute_result"
    }
   ],
   "source": [
    "A=sp.Matrix([\n",
    "    [0,0,0,1],\n",
    "    [0,0,1,0],\n",
    "    [0,1,0,0],\n",
    "    [1,0,0,0]\n",
    "])\n",
    "\n",
    "x=sp.Matrix([\n",
    "    1,\n",
    "    -1,\n",
    "    0,\n",
    "    1\n",
    "])\n",
    "\n",
    "A*x"
   ]
  },
  {
   "cell_type": "markdown",
   "id": "julian-execution",
   "metadata": {},
   "source": [
    "## <font color='crimson'> Problemas 5 y 6 </font>\n",
    "\n",
    "> **Nota:** El problema 6 está implícito en la definición de los parámetros de cada sistema."
   ]
  },
  {
   "cell_type": "code",
   "execution_count": 33,
   "id": "timely-victory",
   "metadata": {},
   "outputs": [
    {
     "data": {
      "text/latex": [
       "$\\displaystyle \\left\\{\\left( 3, \\  2, \\  -1\\right)\\right\\}$"
      ],
      "text/plain": [
       "FiniteSet((3, 2, -1))"
      ]
     },
     "execution_count": 33,
     "metadata": {},
     "output_type": "execute_result"
    }
   ],
   "source": [
    "#Inciso (a)\n",
    "x,y,z=sp.symbols('x,y,z')\n",
    "\n",
    "A=sp.Matrix([\n",
    "    [2, -1, 1],\n",
    "    [1, 3, -2],\n",
    "    [3, -2, 4]\n",
    "])\n",
    "\n",
    "b=sp.Matrix([\n",
    "    3,\n",
    "    11,\n",
    "    1\n",
    "])\n",
    "\n",
    "sp.linsolve((A,b),x,y,z)"
   ]
  },
  {
   "cell_type": "code",
   "execution_count": 34,
   "id": "legitimate-happiness",
   "metadata": {},
   "outputs": [
    {
     "data": {
      "text/latex": [
       "$\\displaystyle \\left\\{\\left( \\frac{1188}{197}, \\  \\frac{1902}{985}, \\  \\frac{3844}{985}\\right)\\right\\}$"
      ],
      "text/plain": [
       "FiniteSet((1188/197, 1902/985, 3844/985))"
      ]
     },
     "execution_count": 34,
     "metadata": {},
     "output_type": "execute_result"
    }
   ],
   "source": [
    "#Inciso (b)\n",
    "x,y,z=sp.symbols('x,y,z')\n",
    "\n",
    "A=sp.Matrix([\n",
    "    [sp.Rational(1,3), sp.Rational(1,2), sp.Rational(-1,4)],\n",
    "    [sp.Rational(1,4), sp.Rational(1,3), sp.Rational(-1,2)],\n",
    "    [sp.Rational(1,2), sp.Rational(-1,4), sp.Rational(1,3)]\n",
    "])\n",
    "\n",
    "b=sp.Matrix([\n",
    "    2,\n",
    "    sp.Rational(1,5),\n",
    "    sp.Rational(23,6)\n",
    "])\n",
    "\n",
    "sp.linsolve((A,b),x,y,z)"
   ]
  },
  {
   "cell_type": "code",
   "execution_count": 86,
   "id": "about-principle",
   "metadata": {},
   "outputs": [
    {
     "data": {
      "text/plain": [
       "(6.030456852791878, 1.930964467005076, 3.90253807106599)"
      ]
     },
     "execution_count": 86,
     "metadata": {},
     "output_type": "execute_result"
    }
   ],
   "source": [
    "(1188/197, 1902/985, 3844/985)"
   ]
  },
  {
   "cell_type": "code",
   "execution_count": 35,
   "id": "permanent-immunology",
   "metadata": {},
   "outputs": [
    {
     "data": {
      "text/latex": [
       "$\\displaystyle \\left\\{\\left( -2, \\  3, \\  -4\\right)\\right\\}$"
      ],
      "text/plain": [
       "FiniteSet((-2, 3, -4))"
      ]
     },
     "execution_count": 35,
     "metadata": {},
     "output_type": "execute_result"
    }
   ],
   "source": [
    "#Inciso (c)\n",
    "X,Y,Z=sp.symbols('X,Y,Z') #Aquí hacemos los cambios de variable: X=1/x, Y=1/y, Z=1/z.\n",
    "\n",
    "A=sp.Matrix([\n",
    "    [1, -2, -2],\n",
    "    [2, 3, 1],\n",
    "    [3, -1, -3]\n",
    "])\n",
    "\n",
    "b=sp.Matrix([\n",
    "    0,\n",
    "    1,\n",
    "    3\n",
    "])\n",
    "\n",
    "s=sp.linsolve((A,b),X,Y,Z)\n",
    "s #Estos son los valores de X, Y, Z."
   ]
  },
  {
   "cell_type": "code",
   "execution_count": 36,
   "id": "under-native",
   "metadata": {},
   "outputs": [
    {
     "data": {
      "text/plain": [
       "{(-1/2, 1/3, -1/4)}"
      ]
     },
     "execution_count": 36,
     "metadata": {},
     "output_type": "execute_result"
    }
   ],
   "source": [
    "{tuple(1/u for u in s.args[0])} #Acá regresamos a las variables originales, obteniendo los recíprocos."
   ]
  },
  {
   "cell_type": "code",
   "execution_count": 37,
   "id": "exact-classic",
   "metadata": {},
   "outputs": [
    {
     "data": {
      "text/latex": [
       "$\\displaystyle \\emptyset$"
      ],
      "text/plain": [
       "EmptySet"
      ]
     },
     "execution_count": 37,
     "metadata": {},
     "output_type": "execute_result"
    }
   ],
   "source": [
    "#Inciso (d)\n",
    "x,y,z=sp.symbols('x,y,z')\n",
    "\n",
    "A=sp.Matrix([\n",
    "    [3, 1, -1],\n",
    "    [1,1,4],\n",
    "    [9,5,10]\n",
    "])\n",
    "\n",
    "b=sp.Matrix([\n",
    "    4,\n",
    "    3,\n",
    "    8\n",
    "])\n",
    "\n",
    "sp.linsolve((A,b),x,y,z) #Este sistema no tiene solución."
   ]
  },
  {
   "cell_type": "markdown",
   "id": "typical-investing",
   "metadata": {},
   "source": [
    "## <font color='crimson'> Problema 7 </font>\n",
    "\n",
    "Primero hay que pasar todas las incógnitas de un solo lado."
   ]
  },
  {
   "cell_type": "code",
   "execution_count": 38,
   "id": "ideal-campbell",
   "metadata": {
    "scrolled": true
   },
   "outputs": [
    {
     "data": {
      "text/latex": [
       "$\\displaystyle \\left\\{\\left( \\frac{8}{3}, \\  \\frac{1}{3}\\right)\\right\\}$"
      ],
      "text/plain": [
       "FiniteSet((8/3, 1/3))"
      ]
     },
     "execution_count": 38,
     "metadata": {},
     "output_type": "execute_result"
    }
   ],
   "source": [
    "x1,x2=sp.symbols('x_1,x_2')\n",
    "\n",
    "A=sp.Matrix([\n",
    "    [1,-2],\n",
    "    [1,4]\n",
    "])\n",
    "\n",
    "b=sp.Matrix([\n",
    "    2,\n",
    "    4\n",
    "])\n",
    "\n",
    "sp.linsolve((A,b),x1,x2)"
   ]
  },
  {
   "cell_type": "markdown",
   "id": "convinced-turkish",
   "metadata": {},
   "source": [
    "## <font color='crimson'> Problema 8 </font>\n",
    "\n",
    "De forma general:\n",
    "\n",
    "1. Las matrices pueden sumarse (o restarse), siempre y cuando tengan las mismas dimensiones.\n",
    "2. La suma de matrices es conmutativa.\n",
    "3. La matriz neutra para la suma es la que tiene puros ceros.\n",
    "4. Las matrices siempre pueden multiplicarse por _escalares_ (números reales).\n",
    "5. Las matrices pueden multiplicarse, __*siempre y cuando sean conformes*__.\n",
    "6. El producto de matrices no es conmutativo. Hay ocasiones en que dos matrices pueden multiplicarse en un orden pero no en el otro.\n",
    "7. Si una matriz es de dimensión $m\\times n$, la matriz _neutra por la izquierda_ es la matriz cuadrada de orden $m$ con puros 1s en la diagonal principal y 0 en las demás entradas; la matriz _neutra por la derecha_ es análoga pero de dimensión $n$.\n",
    "8. La noción de división de matrices se representa mediante _las inversas_. Estas no siempre existen; en el caso de matrices cuadradas, **la inversa existirá _si y sólo si_ su determinante no es cero**. \n",
    "\n",
    "[Este artículo](https://en.wikipedia.org/wiki/Matrix_(mathematics)) de Wikipedia es una excelente referencia."
   ]
  },
  {
   "cell_type": "markdown",
   "id": "prerequisite-crystal",
   "metadata": {},
   "source": [
    "## <font color='crimson'> Problema 9 </font>"
   ]
  },
  {
   "cell_type": "code",
   "execution_count": 39,
   "id": "democratic-mattress",
   "metadata": {},
   "outputs": [
    {
     "data": {
      "text/latex": [
       "$\\displaystyle -13$"
      ],
      "text/plain": [
       "-13"
      ]
     },
     "execution_count": 39,
     "metadata": {},
     "output_type": "execute_result"
    }
   ],
   "source": [
    "M=sp.Matrix([\n",
    "    [-2,3],\n",
    "    [5,-1]\n",
    "])\n",
    "\n",
    "M.det()"
   ]
  },
  {
   "cell_type": "code",
   "execution_count": 40,
   "id": "elegant-trust",
   "metadata": {},
   "outputs": [
    {
     "data": {
      "text/latex": [
       "$\\displaystyle 0$"
      ],
      "text/plain": [
       "0"
      ]
     },
     "execution_count": 40,
     "metadata": {},
     "output_type": "execute_result"
    }
   ],
   "source": [
    "M=sp.Matrix([\n",
    "    [1,1],\n",
    "    [2,2]\n",
    "])\n",
    "\n",
    "M.det()"
   ]
  },
  {
   "cell_type": "code",
   "execution_count": 41,
   "id": "printable-mirror",
   "metadata": {},
   "outputs": [
    {
     "data": {
      "text/latex": [
       "$\\displaystyle 31$"
      ],
      "text/plain": [
       "31"
      ]
     },
     "execution_count": 41,
     "metadata": {},
     "output_type": "execute_result"
    }
   ],
   "source": [
    "M=sp.Matrix([\n",
    "    [3,-7],\n",
    "    [4,1]\n",
    "])\n",
    "\n",
    "M.det()"
   ]
  },
  {
   "cell_type": "code",
   "execution_count": 42,
   "id": "sacred-breath",
   "metadata": {},
   "outputs": [
    {
     "data": {
      "text/latex": [
       "$\\displaystyle -1$"
      ],
      "text/plain": [
       "-1"
      ]
     },
     "execution_count": 42,
     "metadata": {},
     "output_type": "execute_result"
    }
   ],
   "source": [
    "M=sp.Matrix([\n",
    "    [0,1],\n",
    "    [1,0]\n",
    "])\n",
    "\n",
    "M.det()"
   ]
  },
  {
   "cell_type": "code",
   "execution_count": 43,
   "id": "finnish-colorado",
   "metadata": {},
   "outputs": [
    {
     "data": {
      "text/latex": [
       "$\\displaystyle \\sin^{2}{\\left(\\alpha \\right)} + \\cos^{2}{\\left(\\alpha \\right)}$"
      ],
      "text/plain": [
       "sin(\\alpha)**2 + cos(\\alpha)**2"
      ]
     },
     "execution_count": 43,
     "metadata": {},
     "output_type": "execute_result"
    }
   ],
   "source": [
    "alpha=sp.Symbol('\\\\alpha')\n",
    "\n",
    "M=sp.Matrix([\n",
    "    [sp.cos(alpha),-sp.sin(alpha)],\n",
    "    [sp.sin(alpha),sp.cos(alpha)]\n",
    "])\n",
    "\n",
    "M.det() #Por la identidad Pitagórica, este resultado siempre es 1."
   ]
  },
  {
   "cell_type": "markdown",
   "id": "composed-repeat",
   "metadata": {},
   "source": [
    "## <font color='crimson'> Problema 10 </font>\n",
    "> **Nota:** Ver el `PDF`."
   ]
  },
  {
   "cell_type": "markdown",
   "id": "level-shuttle",
   "metadata": {},
   "source": [
    "## <font color='crimson'> Problema 11 </font>"
   ]
  },
  {
   "cell_type": "code",
   "execution_count": 44,
   "id": "stopped-census",
   "metadata": {},
   "outputs": [
    {
     "data": {
      "text/latex": [
       "$\\displaystyle 4$"
      ],
      "text/plain": [
       "4"
      ]
     },
     "execution_count": 44,
     "metadata": {},
     "output_type": "execute_result"
    }
   ],
   "source": [
    "M=sp.Matrix([\n",
    "    [2,3,-1],\n",
    "    [0,5,-1],\n",
    "    [1,1,0]\n",
    "])\n",
    "\n",
    "M.det()"
   ]
  },
  {
   "cell_type": "code",
   "execution_count": 45,
   "id": "nuclear-diary",
   "metadata": {},
   "outputs": [
    {
     "data": {
      "text/latex": [
       "$\\displaystyle -129$"
      ],
      "text/plain": [
       "-129"
      ]
     },
     "execution_count": 45,
     "metadata": {},
     "output_type": "execute_result"
    }
   ],
   "source": [
    "M=sp.Matrix([\n",
    "    [1,7,0],\n",
    "    [6,-1,0],\n",
    "    [5,-2,3]\n",
    "])\n",
    "\n",
    "M.det()"
   ]
  },
  {
   "cell_type": "code",
   "execution_count": 88,
   "id": "specific-course",
   "metadata": {},
   "outputs": [
    {
     "data": {
      "text/latex": [
       "$\\displaystyle -171$"
      ],
      "text/plain": [
       "-171"
      ]
     },
     "execution_count": 88,
     "metadata": {},
     "output_type": "execute_result"
    }
   ],
   "source": [
    "M=sp.Matrix([\n",
    "    [-2,3,2],\n",
    "    [5,4,3],\n",
    "    [6,-1,7]\n",
    "])\n",
    "\n",
    "M.det()"
   ]
  },
  {
   "cell_type": "code",
   "execution_count": 46,
   "id": "realistic-thunder",
   "metadata": {},
   "outputs": [
    {
     "data": {
      "text/latex": [
       "$\\displaystyle -166$"
      ],
      "text/plain": [
       "-166"
      ]
     },
     "execution_count": 46,
     "metadata": {},
     "output_type": "execute_result"
    }
   ],
   "source": [
    "M=sp.Matrix([\n",
    "    [7,9,1],\n",
    "    [2,1,8],\n",
    "    [3,6,5]\n",
    "])\n",
    "\n",
    "M.det()"
   ]
  },
  {
   "cell_type": "code",
   "execution_count": 47,
   "id": "macro-bobby",
   "metadata": {},
   "outputs": [
    {
     "data": {
      "text/latex": [
       "$\\displaystyle -21$"
      ],
      "text/plain": [
       "-21"
      ]
     },
     "execution_count": 47,
     "metadata": {},
     "output_type": "execute_result"
    }
   ],
   "source": [
    "M=sp.Matrix([\n",
    "    [4,0,-5],\n",
    "    [-2,-1,1],\n",
    "    [3,-1,0]\n",
    "])\n",
    "\n",
    "M.det()"
   ]
  },
  {
   "cell_type": "code",
   "execution_count": 48,
   "id": "homeless-legislation",
   "metadata": {},
   "outputs": [
    {
     "data": {
      "text/latex": [
       "$\\displaystyle 102$"
      ],
      "text/plain": [
       "102"
      ]
     },
     "execution_count": 48,
     "metadata": {},
     "output_type": "execute_result"
    }
   ],
   "source": [
    "M=sp.Matrix([\n",
    "    [0,6,0],\n",
    "    [3,0,2],\n",
    "    [7,6,-1]\n",
    "])\n",
    "\n",
    "M.det()"
   ]
  },
  {
   "cell_type": "code",
   "execution_count": 49,
   "id": "bottom-arrow",
   "metadata": {},
   "outputs": [
    {
     "data": {
      "text/latex": [
       "$\\displaystyle -178$"
      ],
      "text/plain": [
       "-178"
      ]
     },
     "execution_count": 49,
     "metadata": {},
     "output_type": "execute_result"
    }
   ],
   "source": [
    "M=sp.Matrix([\n",
    "    [-1,5,0,3],\n",
    "    [3,1,2,1],\n",
    "    [2,-1,3,1],\n",
    "    [1,-3,0,4]\n",
    "])\n",
    "\n",
    "M.det()"
   ]
  },
  {
   "cell_type": "markdown",
   "id": "respected-watch",
   "metadata": {},
   "source": [
    "## <font color='crimson'> Problema 12 </font>\n",
    "\n",
    "![fig:Sarrus](https://upload.wikimedia.org/wikipedia/commons/2/2d/Schema_sarrus-regel.png)\n",
    "\n",
    "Fuente: [Wikipedia](https://en.wikipedia.org/wiki/Rule_of_Sarrus)"
   ]
  },
  {
   "cell_type": "markdown",
   "id": "transsexual-vinyl",
   "metadata": {},
   "source": [
    "## <font color='crimson'> Problema 13 </font>"
   ]
  },
  {
   "cell_type": "code",
   "execution_count": 89,
   "id": "binary-warren",
   "metadata": {},
   "outputs": [
    {
     "data": {
      "text/latex": [
       "$\\displaystyle \\left[\\begin{matrix}1 & -1 & 2\\\\-1 & 1 & 2\\\\-5 & 1 & 10\\end{matrix}\\right]$"
      ],
      "text/plain": [
       "Matrix([\n",
       "[ 1, -1,  2],\n",
       "[-1,  1,  2],\n",
       "[-5,  1, 10]])"
      ]
     },
     "execution_count": 89,
     "metadata": {},
     "output_type": "execute_result"
    }
   ],
   "source": [
    "M=sp.Matrix([\n",
    "    [2,3,-1],\n",
    "    [0,5,-1],\n",
    "    [1,1,0]\n",
    "])\n",
    "\n",
    "M.adjugate()"
   ]
  },
  {
   "cell_type": "code",
   "execution_count": 90,
   "id": "ancient-radical",
   "metadata": {},
   "outputs": [
    {
     "data": {
      "text/latex": [
       "$\\displaystyle \\left[\\begin{matrix}-3 & -21 & 0\\\\-18 & 3 & 0\\\\-7 & 37 & -43\\end{matrix}\\right]$"
      ],
      "text/plain": [
       "Matrix([\n",
       "[ -3, -21,   0],\n",
       "[-18,   3,   0],\n",
       "[ -7,  37, -43]])"
      ]
     },
     "execution_count": 90,
     "metadata": {},
     "output_type": "execute_result"
    }
   ],
   "source": [
    "M=sp.Matrix([\n",
    "    [1,7,0],\n",
    "    [6,-1,0],\n",
    "    [5,-2,3]\n",
    "])\n",
    "\n",
    "M.adjugate()"
   ]
  },
  {
   "cell_type": "code",
   "execution_count": 91,
   "id": "timely-watch",
   "metadata": {},
   "outputs": [
    {
     "data": {
      "text/latex": [
       "$\\displaystyle \\left[\\begin{matrix}-43 & -39 & 71\\\\14 & 32 & -54\\\\9 & -15 & -11\\end{matrix}\\right]$"
      ],
      "text/plain": [
       "Matrix([\n",
       "[-43, -39,  71],\n",
       "[ 14,  32, -54],\n",
       "[  9, -15, -11]])"
      ]
     },
     "execution_count": 91,
     "metadata": {},
     "output_type": "execute_result"
    }
   ],
   "source": [
    "M=sp.Matrix([\n",
    "    [7,9,1],\n",
    "    [2,1,8],\n",
    "    [3,6,5]\n",
    "])\n",
    "\n",
    "M.adjugate()"
   ]
  },
  {
   "cell_type": "code",
   "execution_count": 92,
   "id": "optical-tunnel",
   "metadata": {},
   "outputs": [
    {
     "data": {
      "text/latex": [
       "$\\displaystyle \\left[\\begin{matrix}1 & 5 & -5\\\\3 & 15 & 6\\\\5 & 4 & -4\\end{matrix}\\right]$"
      ],
      "text/plain": [
       "Matrix([\n",
       "[1,  5, -5],\n",
       "[3, 15,  6],\n",
       "[5,  4, -4]])"
      ]
     },
     "execution_count": 92,
     "metadata": {},
     "output_type": "execute_result"
    }
   ],
   "source": [
    "M=sp.Matrix([\n",
    "    [4,0,-5],\n",
    "    [-2,-1,1],\n",
    "    [3,-1,0]\n",
    "])\n",
    "\n",
    "M.adjugate()"
   ]
  },
  {
   "cell_type": "code",
   "execution_count": 93,
   "id": "british-standing",
   "metadata": {},
   "outputs": [
    {
     "data": {
      "text/latex": [
       "$\\displaystyle \\left[\\begin{matrix}-12 & 6 & 12\\\\17 & 0 & 0\\\\18 & 42 & -18\\end{matrix}\\right]$"
      ],
      "text/plain": [
       "Matrix([\n",
       "[-12,  6,  12],\n",
       "[ 17,  0,   0],\n",
       "[ 18, 42, -18]])"
      ]
     },
     "execution_count": 93,
     "metadata": {},
     "output_type": "execute_result"
    }
   ],
   "source": [
    "M=sp.Matrix([\n",
    "    [0,6,0],\n",
    "    [3,0,2],\n",
    "    [7,6,-1]\n",
    "])\n",
    "\n",
    "M.adjugate()"
   ]
  },
  {
   "cell_type": "code",
   "execution_count": 95,
   "id": "iraqi-harvey",
   "metadata": {},
   "outputs": [
    {
     "data": {
      "text/latex": [
       "$\\displaystyle \\left[\\begin{matrix}31 & -23 & 1\\\\-17 & -26 & 16\\\\-29 & 16 & -23\\end{matrix}\\right]$"
      ],
      "text/plain": [
       "Matrix([\n",
       "[ 31, -23,   1],\n",
       "[-17, -26,  16],\n",
       "[-29,  16, -23]])"
      ]
     },
     "execution_count": 95,
     "metadata": {},
     "output_type": "execute_result"
    }
   ],
   "source": [
    "M=sp.Matrix([\n",
    "    [-2,3,2],\n",
    "    [5,4,3],\n",
    "    [6,-1,7]\n",
    "])\n",
    "\n",
    "M.adjugate()"
   ]
  },
  {
   "cell_type": "code",
   "execution_count": 94,
   "id": "biological-database",
   "metadata": {},
   "outputs": [
    {
     "data": {
      "text/latex": [
       "$\\displaystyle \\left[\\begin{matrix}23 & -87 & 58 & -10\\\\-19 & -21 & 14 & 16\\\\-15 & 49 & -92 & 22\\\\-20 & 6 & -4 & -30\\end{matrix}\\right]$"
      ],
      "text/plain": [
       "Matrix([\n",
       "[ 23, -87,  58, -10],\n",
       "[-19, -21,  14,  16],\n",
       "[-15,  49, -92,  22],\n",
       "[-20,   6,  -4, -30]])"
      ]
     },
     "execution_count": 94,
     "metadata": {},
     "output_type": "execute_result"
    }
   ],
   "source": [
    "M=sp.Matrix([\n",
    "    [-1,5,0,3],\n",
    "    [3,1,2,1],\n",
    "    [2,-1,3,1],\n",
    "    [1,-3,0,4]\n",
    "])\n",
    "\n",
    "M.adjugate()"
   ]
  },
  {
   "cell_type": "markdown",
   "id": "anonymous-mounting",
   "metadata": {},
   "source": [
    "## <font color='crimson'> Problema 14 </font>"
   ]
  },
  {
   "cell_type": "markdown",
   "id": "tropical-capitol",
   "metadata": {},
   "source": [
    "**Inciso 1**"
   ]
  },
  {
   "cell_type": "code",
   "execution_count": 101,
   "id": "german-record",
   "metadata": {},
   "outputs": [
    {
     "data": {
      "text/latex": [
       "$\\displaystyle \\left[\\begin{matrix}\\frac{1}{323} & \\frac{9}{323}\\\\\\frac{18}{323} & \\frac{1}{646}\\end{matrix}\\right]$"
      ],
      "text/plain": [
       "Matrix([\n",
       "[ 1/323, 9/323],\n",
       "[18/323, 1/646]])"
      ]
     },
     "execution_count": 101,
     "metadata": {},
     "output_type": "execute_result"
    }
   ],
   "source": [
    "Pc,Pr=sp.symbols('P_c,P_r')\n",
    "\n",
    "A=sp.Matrix([\n",
    "    [-1,18],\n",
    "    [36,-2]\n",
    "])\n",
    "\n",
    "b=sp.Matrix([\n",
    "    87,\n",
    "    98\n",
    "])\n",
    "\n",
    "A_inv=A.inv()\n",
    "A_inv #Matriz inversa"
   ]
  },
  {
   "cell_type": "code",
   "execution_count": 57,
   "id": "promotional-brave",
   "metadata": {},
   "outputs": [
    {
     "data": {
      "text/latex": [
       "$\\displaystyle \\left[\\begin{matrix}P_{c}\\\\P_{r}\\end{matrix}\\right]$"
      ],
      "text/plain": [
       "Matrix([\n",
       "[P_c],\n",
       "[P_r]])"
      ]
     },
     "execution_count": 57,
     "metadata": {},
     "output_type": "execute_result"
    }
   ],
   "source": [
    "sp.Matrix([Pc,Pr]) #La solución del sistema (en forma de vector columna):"
   ]
  },
  {
   "cell_type": "code",
   "execution_count": 58,
   "id": "interracial-sitting",
   "metadata": {
    "scrolled": false
   },
   "outputs": [
    {
     "data": {
      "text/latex": [
       "$\\displaystyle \\left[\\begin{matrix}3\\\\5\\end{matrix}\\right]$"
      ],
      "text/plain": [
       "Matrix([\n",
       "[3],\n",
       "[5]])"
      ]
     },
     "execution_count": 58,
     "metadata": {},
     "output_type": "execute_result"
    }
   ],
   "source": [
    "(A_inv*b) #es la inversa por el vector de constantes."
   ]
  },
  {
   "cell_type": "markdown",
   "id": "welsh-ceramic",
   "metadata": {},
   "source": [
    "**Inciso 2**"
   ]
  },
  {
   "cell_type": "code",
   "execution_count": 59,
   "id": "light-edinburgh",
   "metadata": {},
   "outputs": [
    {
     "data": {
      "text/latex": [
       "$\\displaystyle \\left[\\begin{matrix}95 & \\frac{7}{20}\\\\-210 & \\frac{8}{25}\\end{matrix}\\right]$"
      ],
      "text/plain": [
       "Matrix([\n",
       "[  95, 7/20],\n",
       "[-210, 8/25]])"
      ]
     },
     "execution_count": 59,
     "metadata": {},
     "output_type": "execute_result"
    }
   ],
   "source": [
    "i,Y=sp.symbols('i,Y')\n",
    "\n",
    "A=sp.Matrix([\n",
    "    [95,sp.Rational(35,100)],\n",
    "    [-210,sp.Rational(32,100)]\n",
    "])\n",
    "\n",
    "b=sp.Matrix([\n",
    "    48,\n",
    "    183\n",
    "])\n",
    "\n",
    "A_inv=A.inv()\n",
    "A #Matriz inversa"
   ]
  },
  {
   "cell_type": "code",
   "execution_count": 60,
   "id": "weird-flexibility",
   "metadata": {},
   "outputs": [
    {
     "data": {
      "text/latex": [
       "$\\displaystyle \\left[\\begin{matrix}i\\\\Y\\end{matrix}\\right]$"
      ],
      "text/plain": [
       "Matrix([\n",
       "[i],\n",
       "[Y]])"
      ]
     },
     "execution_count": 60,
     "metadata": {},
     "output_type": "execute_result"
    }
   ],
   "source": [
    "sp.Matrix([i,Y]) #La solución del sistema (en forma de vector columna):"
   ]
  },
  {
   "cell_type": "code",
   "execution_count": 61,
   "id": "stable-victoria",
   "metadata": {
    "scrolled": false
   },
   "outputs": [
    {
     "data": {
      "text/latex": [
       "$\\displaystyle \\left[\\begin{matrix}- \\frac{4869}{10390}\\\\\\frac{274650}{1039}\\end{matrix}\\right]$"
      ],
      "text/plain": [
       "Matrix([\n",
       "[-4869/10390],\n",
       "[274650/1039]])"
      ]
     },
     "execution_count": 61,
     "metadata": {},
     "output_type": "execute_result"
    }
   ],
   "source": [
    "(A_inv*b) #es la inversa por el vector de constantes."
   ]
  },
  {
   "cell_type": "code",
   "execution_count": 96,
   "id": "rural-lightweight",
   "metadata": {},
   "outputs": [
    {
     "data": {
      "text/plain": [
       "(-0.46862367661212706, 264.34071222329163)"
      ]
     },
     "execution_count": 96,
     "metadata": {},
     "output_type": "execute_result"
    }
   ],
   "source": [
    "(-4869/10390,274650/1039)"
   ]
  },
  {
   "cell_type": "markdown",
   "id": "excessive-transformation",
   "metadata": {},
   "source": [
    "**Inciso 3**"
   ]
  },
  {
   "cell_type": "code",
   "execution_count": 102,
   "id": "operational-benefit",
   "metadata": {},
   "outputs": [
    {
     "data": {
      "text/latex": [
       "$\\displaystyle \\left[\\begin{matrix}\\frac{4}{19} & \\frac{17}{76} & \\frac{7}{76}\\\\\\frac{2}{19} & - \\frac{1}{76} & \\frac{13}{76}\\\\- \\frac{1}{19} & \\frac{5}{38} & \\frac{11}{38}\\end{matrix}\\right]$"
      ],
      "text/plain": [
       "Matrix([\n",
       "[ 4/19, 17/76,  7/76],\n",
       "[ 2/19, -1/76, 13/76],\n",
       "[-1/19,  5/38, 11/38]])"
      ]
     },
     "execution_count": 102,
     "metadata": {},
     "output_type": "execute_result"
    }
   ],
   "source": [
    "x1,x2,x3=sp.symbols('x_1,x_2,x_3')\n",
    "\n",
    "A=sp.Matrix([\n",
    "    [2,4,-3],\n",
    "    [3,-5,2],\n",
    "    [-1,3,2]\n",
    "])\n",
    "\n",
    "b=sp.Matrix([\n",
    "    12,\n",
    "    13,\n",
    "    17\n",
    "])\n",
    "\n",
    "A_inv=A.inv()\n",
    "A_inv #Matriz inversa"
   ]
  },
  {
   "cell_type": "code",
   "execution_count": 63,
   "id": "varying-trader",
   "metadata": {},
   "outputs": [
    {
     "data": {
      "text/latex": [
       "$\\displaystyle \\left[\\begin{matrix}x_{1}\\\\x_{2}\\\\x_{3}\\end{matrix}\\right]$"
      ],
      "text/plain": [
       "Matrix([\n",
       "[x_1],\n",
       "[x_2],\n",
       "[x_3]])"
      ]
     },
     "execution_count": 63,
     "metadata": {},
     "output_type": "execute_result"
    }
   ],
   "source": [
    "sp.Matrix([x1,x2,x3]) #La solución del sistema (en forma de vector columna):"
   ]
  },
  {
   "cell_type": "code",
   "execution_count": 64,
   "id": "protective-stranger",
   "metadata": {},
   "outputs": [
    {
     "data": {
      "text/latex": [
       "$\\displaystyle \\left[\\begin{matrix}7\\\\4\\\\6\\end{matrix}\\right]$"
      ],
      "text/plain": [
       "Matrix([\n",
       "[7],\n",
       "[4],\n",
       "[6]])"
      ]
     },
     "execution_count": 64,
     "metadata": {},
     "output_type": "execute_result"
    }
   ],
   "source": [
    "(A_inv*b) #es la inversa por el vector de constantes."
   ]
  },
  {
   "cell_type": "markdown",
   "id": "referenced-raising",
   "metadata": {},
   "source": [
    "**Inciso 4**"
   ]
  },
  {
   "cell_type": "code",
   "execution_count": 65,
   "id": "determined-princess",
   "metadata": {},
   "outputs": [
    {
     "data": {
      "text/latex": [
       "$\\displaystyle \\left[\\begin{matrix}11 & -1 & -1\\\\1 & 6 & -2\\\\1 & -2 & 7\\end{matrix}\\right]$"
      ],
      "text/plain": [
       "Matrix([\n",
       "[11, -1, -1],\n",
       "[ 1,  6, -2],\n",
       "[ 1, -2,  7]])"
      ]
     },
     "execution_count": 65,
     "metadata": {},
     "output_type": "execute_result"
    }
   ],
   "source": [
    "P1,P2,P3=sp.symbols('P_1,P_2,P_3')\n",
    "\n",
    "A=sp.Matrix([\n",
    "    [11,-1,-1],\n",
    "    [1,6,-2],\n",
    "    [1,-2,7]\n",
    "])\n",
    "\n",
    "b=sp.Matrix([\n",
    "    31,\n",
    "    26,\n",
    "    24\n",
    "])\n",
    "\n",
    "A_inv=A.inv()\n",
    "A #Matriz inversa"
   ]
  },
  {
   "cell_type": "code",
   "execution_count": 66,
   "id": "phantom-mount",
   "metadata": {},
   "outputs": [
    {
     "data": {
      "text/latex": [
       "$\\displaystyle \\left[\\begin{matrix}P_{1}\\\\P_{2}\\\\P_{3}\\end{matrix}\\right]$"
      ],
      "text/plain": [
       "Matrix([\n",
       "[P_1],\n",
       "[P_2],\n",
       "[P_3]])"
      ]
     },
     "execution_count": 66,
     "metadata": {},
     "output_type": "execute_result"
    }
   ],
   "source": [
    "sp.Matrix([P1,P2,P3]) #La solución del sistema (en forma de vector columna):"
   ]
  },
  {
   "cell_type": "code",
   "execution_count": 67,
   "id": "advance-guidance",
   "metadata": {
    "scrolled": true
   },
   "outputs": [
    {
     "data": {
      "text/latex": [
       "$\\displaystyle \\left[\\begin{matrix}\\frac{1604}{435}\\\\\\frac{751}{145}\\\\\\frac{1906}{435}\\end{matrix}\\right]$"
      ],
      "text/plain": [
       "Matrix([\n",
       "[1604/435],\n",
       "[ 751/145],\n",
       "[1906/435]])"
      ]
     },
     "execution_count": 67,
     "metadata": {},
     "output_type": "execute_result"
    }
   ],
   "source": [
    "(A_inv*b) #es la inversa por el vector de constantes."
   ]
  },
  {
   "cell_type": "code",
   "execution_count": 97,
   "id": "decimal-norman",
   "metadata": {},
   "outputs": [
    {
     "data": {
      "text/plain": [
       "(3.6873563218390806, 5.179310344827586, 4.381609195402299)"
      ]
     },
     "execution_count": 97,
     "metadata": {},
     "output_type": "execute_result"
    }
   ],
   "source": [
    "(1604/435,751/145,1906/435)"
   ]
  },
  {
   "cell_type": "markdown",
   "id": "convenient-powder",
   "metadata": {},
   "source": [
    "## <font color='crimson'> Problema 15 </font>\n",
    "\n",
    "La idea es obtener una parábola que pase por los siguientes puntos:\n",
    "\n",
    "$$\\mathcal{P}:=\\{\\left(4,1682\\right), \\left(7,626\\right), \\left(9,967\\right)\\}$$\n",
    "\n",
    "Es decir, hay que encontrar los parámetros $a,b,c\\in\\mathbb{R}$ tales que: \n",
    "\n",
    "$$\\mathcal{P}\\subseteq\\lbrace \\left(x,y\\right) : x\\in\\mathbb{R},\\; y=ax^2+bx+c \\rbrace$$\n",
    "\n",
    "De aquí deducimos que:\n",
    "\n",
    "$$ 1682 = a\\cdot 4^2+b\\cdot4+c \\\\ 626=a\\cdot 7^2+b\\cdot7+c \\\\ 967 = a\\cdot 9^2+b\\cdot9+c,$$\n",
    "\n",
    "lo que induce el sistema de ecuaciones:\n",
    "\n",
    "$$\n",
    "\\begin{pmatrix} \n",
    "    16 & 4 & 1 \\\\\n",
    "    49 & 7 & 1 \\\\\n",
    "    81 & 9 & 1\n",
    "\\end{pmatrix}\n",
    "\\begin{pmatrix} \n",
    "    a \\\\\n",
    "    b \\\\\n",
    "    c\n",
    "\\end{pmatrix} = \n",
    "\\begin{pmatrix} \n",
    "    1682 \\\\\n",
    "    626 \\\\\n",
    "    967\n",
    "\\end{pmatrix}\n",
    "$$"
   ]
  },
  {
   "cell_type": "code",
   "execution_count": 76,
   "id": "collaborative-housing",
   "metadata": {},
   "outputs": [],
   "source": [
    "#Resolvemos\n",
    "a,b,c=sp.symbols('a,b,c')\n",
    "\n",
    "A=sp.Matrix([\n",
    "    [16, 4, 1],\n",
    "    [49, 7, 1],\n",
    "    [81, 9, 1]\n",
    "])\n",
    "\n",
    "b0=sp.Matrix([\n",
    "    1682,\n",
    "    626,\n",
    "    967\n",
    "])#Cambiamos por b0 para no interferir con las variables.\n",
    "\n",
    "s=sp.linsolve((A,b0),a,b,c)\n",
    "a,b,c=s.args[0]"
   ]
  },
  {
   "cell_type": "code",
   "execution_count": 77,
   "id": "consistent-optimization",
   "metadata": {},
   "outputs": [
    {
     "data": {
      "text/plain": [
       "(209/2, -3003/2, 6016)"
      ]
     },
     "execution_count": 77,
     "metadata": {},
     "output_type": "execute_result"
    }
   ],
   "source": [
    "(a,b,c) #Ahora usamos estos parámetros para definir una función."
   ]
  },
  {
   "cell_type": "code",
   "execution_count": 98,
   "id": "theoretical-crystal",
   "metadata": {},
   "outputs": [
    {
     "data": {
      "text/plain": [
       "(104.5, -1501.5, 6016)"
      ]
     },
     "execution_count": 98,
     "metadata": {},
     "output_type": "execute_result"
    }
   ],
   "source": [
    "(209/2, -3003/2, 6016)"
   ]
  },
  {
   "cell_type": "code",
   "execution_count": 80,
   "id": "likely-skating",
   "metadata": {},
   "outputs": [
    {
     "name": "stdout",
     "output_type": "stream",
     "text": [
      "y(4)=1682\n",
      "y(7)=626\n",
      "y(9)=967\n"
     ]
    }
   ],
   "source": [
    "y=lambda x:a*x**2+b*x+c\n",
    "for x in [4,7,9]:\n",
    "    print('y({})={}'.format(x,y(x))) #Esta función debe contener a los tres puntos definidos en el problema:"
   ]
  },
  {
   "cell_type": "code",
   "execution_count": 81,
   "id": "specified-separate",
   "metadata": {},
   "outputs": [
    {
     "data": {
      "text/latex": [
       "$\\displaystyle 769$"
      ],
      "text/plain": [
       "769"
      ]
     },
     "execution_count": 81,
     "metadata": {},
     "output_type": "execute_result"
    }
   ],
   "source": [
    "#De acuerdo con este modelo, podemos obtener una inter/extrapolación para otros datos.\n",
    "y(6) #Tasa de mortalidad de hombres que duermen 6 horas diarias en promedio"
   ]
  },
  {
   "cell_type": "code",
   "execution_count": 82,
   "id": "hollow-florence",
   "metadata": {},
   "outputs": [
    {
     "data": {
      "text/latex": [
       "$\\displaystyle 692$"
      ],
      "text/plain": [
       "692"
      ]
     },
     "execution_count": 82,
     "metadata": {},
     "output_type": "execute_result"
    }
   ],
   "source": [
    "y(8) #Tasa de mortalidad de hombres que duermen 8 horas diarias en promedio"
   ]
  },
  {
   "cell_type": "markdown",
   "id": "retained-objective",
   "metadata": {},
   "source": [
    "## <font color='crimson'> Problema 16 </font>\n",
    "\n",
    "> **Fe de erratas:** El costo fijado para la producción de kobos era USD \\$ 400,000.\n",
    "\n",
    "1. $C(x)=400,000+20x$ (pues producir cada kobo cuesta USD \\$ 20, y hay un costo fijo de \\$ 400,000).\n",
    "2. $R(x)=100x$ (pues se venderá cada kobo en USD \\$ 100).\n",
    "3. $P(x)=R(x)-C(x)=80x-400,000$ (pues el ingreso debe cubrir el costo de producción).\n",
    "4. Debemos plantear la condición de equilbrio: Ingreso=Costo de producción: $100x=20x+400,000$. La solución es $x=5000$, lo que significa que, una vez que se venden 5000 unidades, la inversión se recupera."
   ]
  },
  {
   "cell_type": "markdown",
   "id": "studied-chrome",
   "metadata": {},
   "source": [
    "## <font color='crimson'> Problema 17 </font>\n",
    "\n",
    "Si representamos con $x,y$ el número de galones de nutrientes con concentraciones del 13% y 18%, respectivamente, entonces se satisfacen las siguientes condiciones:\n",
    "\n",
    "1. Debe haber 50 galones de nutriente: $x+y=50$.\n",
    "2. La proporción debe ser tal que la mezcla tenga una conentración del 15%: $\\;0.13\\cdot x+0.18\\cdot y=0.15\\cdot50$"
   ]
  },
  {
   "cell_type": "code",
   "execution_count": 84,
   "id": "meaningful-malpractice",
   "metadata": {},
   "outputs": [
    {
     "data": {
      "text/latex": [
       "$\\displaystyle \\left\\{\\left( 30.0, \\  20.0\\right)\\right\\}$"
      ],
      "text/plain": [
       "FiniteSet((30.0, 20.0))"
      ]
     },
     "execution_count": 84,
     "metadata": {},
     "output_type": "execute_result"
    }
   ],
   "source": [
    "#Resolvemos\n",
    "x,y=sp.symbols('x,y')\n",
    "\n",
    "A=sp.Matrix([\n",
    "    [1, 1],\n",
    "    [0.13,0.18]\n",
    "])\n",
    "\n",
    "b=sp.Matrix([\n",
    "    50,\n",
    "    50*0.15\n",
    "])\n",
    "\n",
    "s=sp.linsolve((A,b),x,y)\n",
    "s"
   ]
  },
  {
   "cell_type": "code",
   "execution_count": 83,
   "id": "monthly-johnston",
   "metadata": {},
   "outputs": [
    {
     "data": {
      "text/plain": [
       "5000.0"
      ]
     },
     "execution_count": 83,
     "metadata": {},
     "output_type": "execute_result"
    }
   ],
   "source": [
    "400000/80"
   ]
  },
  {
   "cell_type": "markdown",
   "id": "sufficient-vault",
   "metadata": {},
   "source": [
    "Esto significa que hay que mezclar 30 galones de nutriente con nitrógeno al 13%, y 20 galones de nutriente con concentración de 18%."
   ]
  },
  {
   "cell_type": "markdown",
   "id": "optimum-elder",
   "metadata": {},
   "source": [
    "## <font color='crimson'> Problema 18 </font>"
   ]
  },
  {
   "cell_type": "code",
   "execution_count": 85,
   "id": "loved-syndrome",
   "metadata": {},
   "outputs": [
    {
     "data": {
      "text/latex": [
       "$\\displaystyle \\left[\\begin{matrix}400 & 600 & 600\\\\400 & 500 & 700\\\\400 & 500 & 500\\end{matrix}\\right]$"
      ],
      "text/plain": [
       "Matrix([\n",
       "[400, 600, 600],\n",
       "[400, 500, 700],\n",
       "[400, 500, 500]])"
      ]
     },
     "execution_count": 85,
     "metadata": {},
     "output_type": "execute_result"
    }
   ],
   "source": [
    "#Arreglamos los datos de hombres y mujeres por separado:\n",
    "H=sp.Matrix([\n",
    "    [2400,2700,3000],\n",
    "    [2200,2500,2900],\n",
    "    [2000,2300,2600]\n",
    "])\n",
    "\n",
    "M=sp.Matrix([\n",
    "    [2000,2100,2400],\n",
    "    [1800,2000,2200],\n",
    "    [1600,1800,2100]\n",
    "])\n",
    "\n",
    "#Luego restamos:\n",
    "H-M"
   ]
  },
  {
   "cell_type": "markdown",
   "id": "attractive-glenn",
   "metadata": {},
   "source": [
    "Esto representa el excedente calórico que requiere un hombre en comparación con una mujer, según el grupo de edad y el nivel de actividad física."
   ]
  },
  {
   "cell_type": "code",
   "execution_count": null,
   "id": "specified-milan",
   "metadata": {},
   "outputs": [],
   "source": []
  },
  {
   "cell_type": "code",
   "execution_count": 89,
   "id": "covered-temple",
   "metadata": {},
   "outputs": [
    {
     "data": {
      "text/latex": [
       "$\\displaystyle \\left[\\begin{matrix}1 & 0\\\\0 & 1\\end{matrix}\\right]$"
      ],
      "text/plain": [
       "Matrix([\n",
       "[1, 0],\n",
       "[0, 1]])"
      ]
     },
     "execution_count": 89,
     "metadata": {},
     "output_type": "execute_result"
    }
   ],
   "source": []
  }
 ],
 "metadata": {
  "kernelspec": {
   "display_name": "Python 3 (ipykernel)",
   "language": "python",
   "name": "python3"
  },
  "language_info": {
   "codemirror_mode": {
    "name": "ipython",
    "version": 3
   },
   "file_extension": ".py",
   "mimetype": "text/x-python",
   "name": "python",
   "nbconvert_exporter": "python",
   "pygments_lexer": "ipython3",
   "version": "3.10.4"
  }
 },
 "nbformat": 4,
 "nbformat_minor": 5
}
