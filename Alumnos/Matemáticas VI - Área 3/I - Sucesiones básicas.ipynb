{
 "cells": [
  {
   "cell_type": "markdown",
   "id": "cc3d3a89",
   "metadata": {},
   "source": [
    "# Definición de sucesiones con código\n",
    "\n",
    "En este _notebook_ probaremos la utilización de _lambdas_ para la definición de sucesiones."
   ]
  },
  {
   "cell_type": "markdown",
   "id": "722acaff",
   "metadata": {},
   "source": [
    "## <font color='crimson'> Sucesión aritmética </font>\n",
    "\n",
    "$$\\{ a_n=a_0+d\\cdot n : n\\in\\mathbb{N}\\} \\hspace{5mm} (d\\neq 0)$$"
   ]
  },
  {
   "cell_type": "code",
   "execution_count": 4,
   "id": "d4d90ed1",
   "metadata": {
    "scrolled": true
   },
   "outputs": [],
   "source": [
    "b = lambda n: 2+n*3"
   ]
  },
  {
   "cell_type": "code",
   "execution_count": 6,
   "id": "720c5c75",
   "metadata": {},
   "outputs": [
    {
     "data": {
      "text/plain": [
       "2"
      ]
     },
     "execution_count": 6,
     "metadata": {},
     "output_type": "execute_result"
    }
   ],
   "source": [
    "b(0) #Término n=0 de la sucesión"
   ]
  },
  {
   "cell_type": "code",
   "execution_count": 7,
   "id": "83d5b4df",
   "metadata": {},
   "outputs": [
    {
     "data": {
      "text/plain": [
       "11"
      ]
     },
     "execution_count": 7,
     "metadata": {},
     "output_type": "execute_result"
    }
   ],
   "source": [
    "b(3) #Término n=3 de la sucesión"
   ]
  },
  {
   "cell_type": "code",
   "execution_count": 8,
   "id": "a89aae20",
   "metadata": {},
   "outputs": [
    {
     "name": "stdout",
     "output_type": "stream",
     "text": [
      "2\n",
      "5\n",
      "8\n",
      "11\n",
      "14\n",
      "17\n",
      "20\n",
      "23\n",
      "26\n",
      "29\n"
     ]
    }
   ],
   "source": [
    "for n in range(10):\n",
    "    print(b(n)) # Un listado de los términos de la sucesión desde n=0 hasta n=10"
   ]
  },
  {
   "cell_type": "code",
   "execution_count": 10,
   "id": "d4cfa723",
   "metadata": {},
   "outputs": [
    {
     "name": "stdout",
     "output_type": "stream",
     "text": [
      "[2, 5, 8, 11, 14, 17, 20, 23, 26, 29]\n"
     ]
    }
   ],
   "source": [
    "terminos=[b(n) for n in range(10)] #Casi lo mismo, pero en una lista\n",
    "print(terminos)"
   ]
  },
  {
   "cell_type": "code",
   "execution_count": 11,
   "id": "1f5872f9",
   "metadata": {},
   "outputs": [
    {
     "data": {
      "text/plain": [
       "155"
      ]
     },
     "execution_count": 11,
     "metadata": {},
     "output_type": "execute_result"
    }
   ],
   "source": [
    "sum(terminos) #Suma explícita"
   ]
  },
  {
   "cell_type": "markdown",
   "id": "8199799d",
   "metadata": {},
   "source": [
    "$$\\sum_{i=0}^{n} (a_0+d\\cdot i) = \\frac{(n+1)(a_0+a_n)}{2}$$"
   ]
  },
  {
   "cell_type": "code",
   "execution_count": 13,
   "id": "53fe9994",
   "metadata": {},
   "outputs": [
    {
     "data": {
      "text/plain": [
       "155"
      ]
     },
     "execution_count": 13,
     "metadata": {},
     "output_type": "execute_result"
    }
   ],
   "source": [
    "10*(b(0)+b(9))//2 #Suma con la formulita"
   ]
  },
  {
   "cell_type": "code",
   "execution_count": 15,
   "id": "08e33a31",
   "metadata": {
    "scrolled": true
   },
   "outputs": [
    {
     "name": "stdout",
     "output_type": "stream",
     "text": [
      "a(0)=2\n",
      "a(100)=302\n",
      "a(200)=602\n",
      "a(300)=902\n",
      "a(400)=1202\n",
      "a(500)=1502\n",
      "a(600)=1802\n",
      "a(700)=2102\n",
      "a(800)=2402\n",
      "a(900)=2702\n",
      "a(1000)=3002\n",
      "a(1100)=3302\n",
      "a(1200)=3602\n",
      "a(1300)=3902\n",
      "a(1400)=4202\n",
      "a(1500)=4502\n",
      "a(1600)=4802\n",
      "a(1700)=5102\n",
      "a(1800)=5402\n",
      "a(1900)=5702\n",
      "a(2000)=6002\n",
      "a(2100)=6302\n",
      "a(2200)=6602\n",
      "a(2300)=6902\n",
      "a(2400)=7202\n",
      "a(2500)=7502\n",
      "a(2600)=7802\n",
      "a(2700)=8102\n",
      "a(2800)=8402\n",
      "a(2900)=8702\n",
      "a(3000)=9002\n",
      "a(3100)=9302\n",
      "a(3200)=9602\n",
      "a(3300)=9902\n",
      "a(3400)=10202\n",
      "a(3500)=10502\n",
      "a(3600)=10802\n",
      "a(3700)=11102\n",
      "a(3800)=11402\n",
      "a(3900)=11702\n",
      "a(4000)=12002\n",
      "a(4100)=12302\n",
      "a(4200)=12602\n",
      "a(4300)=12902\n",
      "a(4400)=13202\n",
      "a(4500)=13502\n",
      "a(4600)=13802\n",
      "a(4700)=14102\n",
      "a(4800)=14402\n",
      "a(4900)=14702\n",
      "a(5000)=15002\n",
      "a(5100)=15302\n",
      "a(5200)=15602\n",
      "a(5300)=15902\n",
      "a(5400)=16202\n",
      "a(5500)=16502\n",
      "a(5600)=16802\n",
      "a(5700)=17102\n",
      "a(5800)=17402\n",
      "a(5900)=17702\n",
      "a(6000)=18002\n",
      "a(6100)=18302\n",
      "a(6200)=18602\n",
      "a(6300)=18902\n",
      "a(6400)=19202\n",
      "a(6500)=19502\n",
      "a(6600)=19802\n",
      "a(6700)=20102\n",
      "a(6800)=20402\n",
      "a(6900)=20702\n",
      "a(7000)=21002\n",
      "a(7100)=21302\n",
      "a(7200)=21602\n",
      "a(7300)=21902\n",
      "a(7400)=22202\n",
      "a(7500)=22502\n",
      "a(7600)=22802\n",
      "a(7700)=23102\n",
      "a(7800)=23402\n",
      "a(7900)=23702\n",
      "a(8000)=24002\n",
      "a(8100)=24302\n",
      "a(8200)=24602\n",
      "a(8300)=24902\n",
      "a(8400)=25202\n",
      "a(8500)=25502\n",
      "a(8600)=25802\n",
      "a(8700)=26102\n",
      "a(8800)=26402\n",
      "a(8900)=26702\n",
      "a(9000)=27002\n",
      "a(9100)=27302\n",
      "a(9200)=27602\n",
      "a(9300)=27902\n",
      "a(9400)=28202\n",
      "a(9500)=28502\n",
      "a(9600)=28802\n",
      "a(9700)=29102\n",
      "a(9800)=29402\n",
      "a(9900)=29702\n"
     ]
    }
   ],
   "source": [
    "for i in range(0,10000,100): #Imprimir un montón de términos, de 100 en 100.\n",
    "    print(f'a({i})={b(i)}')"
   ]
  },
  {
   "cell_type": "markdown",
   "id": "218c97b6",
   "metadata": {},
   "source": [
    "## <font color='crimson'> Sucesión geométrica </font>\n",
    "\n",
    "$$\\{ b_n=r^n b_0 : n\\in\\mathbb{N}\\} \\hspace{5mm} (b_0\\neq 0, r\\notin \\{0,1\\})$$"
   ]
  },
  {
   "cell_type": "code",
   "execution_count": 18,
   "id": "44067e42",
   "metadata": {},
   "outputs": [],
   "source": [
    "def c(n): #c es una función de n\n",
    "    c0 = 1.6e-4 #grosor inicial\n",
    "    r = 2 #razón geométrica: duplicar\n",
    "    if n == 0:\n",
    "        return c0\n",
    "    else:\n",
    "        return r*c(n-1)"
   ]
  },
  {
   "cell_type": "code",
   "execution_count": 19,
   "id": "ac21a15c",
   "metadata": {},
   "outputs": [
    {
     "data": {
      "text/plain": [
       "[0.00016,\n",
       " 0.00032,\n",
       " 0.00064,\n",
       " 0.00128,\n",
       " 0.00256,\n",
       " 0.00512,\n",
       " 0.01024,\n",
       " 0.02048,\n",
       " 0.04096,\n",
       " 0.08192]"
      ]
     },
     "execution_count": 19,
     "metadata": {},
     "output_type": "execute_result"
    }
   ],
   "source": [
    "[c(i) for i in range(10)] # Listado de grosores hasta 9 dobleces."
   ]
  },
  {
   "cell_type": "code",
   "execution_count": 20,
   "id": "df7ab1e9",
   "metadata": {},
   "outputs": [
    {
     "name": "stdout",
     "output_type": "stream",
     "text": [
      "c(0)=0.00016\n",
      "c(1)=0.00032\n",
      "c(2)=0.00064\n",
      "c(3)=0.00128\n",
      "c(4)=0.00256\n",
      "c(5)=0.00512\n",
      "c(6)=0.01024\n",
      "c(7)=0.02048\n",
      "c(8)=0.04096\n",
      "c(9)=0.08192\n"
     ]
    }
   ],
   "source": [
    "for i in range(10): # Para cada doblez, vemos el grosor (en metros).\n",
    "    print(f'c({i})={c(i)}')"
   ]
  },
  {
   "cell_type": "markdown",
   "id": "4ff0563c",
   "metadata": {},
   "source": [
    "**Al octavo doblez, el grosor de la hoja ya es de aproximadamente 4 centímetros.**"
   ]
  },
  {
   "cell_type": "code",
   "execution_count": 24,
   "id": "9f291529",
   "metadata": {},
   "outputs": [
    {
     "name": "stdout",
     "output_type": "stream",
     "text": [
      "El grosor de la hoja de papel al doblez 50 es de 180143985094.81985 metros.\n"
     ]
    }
   ],
   "source": [
    "doblez=50\n",
    "print(f'El grosor de la hoja de papel al doblez {doblez} es de {c(doblez)} metros.')"
   ]
  },
  {
   "cell_type": "markdown",
   "id": "043af51e",
   "metadata": {},
   "source": [
    "¿Cuántas veces habrá que doblar el papel para llegar al sol? $d=149 597 870 700$"
   ]
  },
  {
   "cell_type": "code",
   "execution_count": 26,
   "id": "018bba2c",
   "metadata": {},
   "outputs": [
    {
     "name": "stdout",
     "output_type": "stream",
     "text": [
      "Hay que hacer un total de 50 dobleces para superar 149597870700.\n"
     ]
    }
   ],
   "source": [
    "i = 0\n",
    "d = 149597870700\n",
    "while c(i) < d:\n",
    "    i+=1 #Volver a doblar\n",
    "print(f'Hay que hacer un total de {i} dobleces para superar {d}.')"
   ]
  },
  {
   "cell_type": "code",
   "execution_count": null,
   "id": "d403d035",
   "metadata": {},
   "outputs": [],
   "source": []
  }
 ],
 "metadata": {
  "kernelspec": {
   "display_name": "Python 3",
   "language": "python",
   "name": "python3"
  },
  "language_info": {
   "codemirror_mode": {
    "name": "ipython",
    "version": 3
   },
   "file_extension": ".py",
   "mimetype": "text/x-python",
   "name": "python",
   "nbconvert_exporter": "python",
   "pygments_lexer": "ipython3",
   "version": "3.9.5"
  }
 },
 "nbformat": 4,
 "nbformat_minor": 5
}
