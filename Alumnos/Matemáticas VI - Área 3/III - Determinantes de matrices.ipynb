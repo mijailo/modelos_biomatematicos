{
 "cells": [
  {
   "cell_type": "markdown",
   "id": "55fe9d84",
   "metadata": {},
   "source": [
    "# Cálculo de determinantes de matrices con `numpy`"
   ]
  },
  {
   "cell_type": "markdown",
   "id": "d46a1059",
   "metadata": {},
   "source": [
    "Vamos a calcular con la computadora el determinante de esta matriz:\n",
    "$$\n",
    "\\begin{pmatrix}\n",
    "        12 & 7 & 0 \\\\\n",
    "        6 & 7 & 0 \\\\\n",
    "        5 & 8 & 3\n",
    "\\end{pmatrix}\n",
    "$$"
   ]
  },
  {
   "cell_type": "code",
   "execution_count": 1,
   "id": "783c3efb",
   "metadata": {},
   "outputs": [],
   "source": [
    "import numpy as np"
   ]
  },
  {
   "cell_type": "code",
   "execution_count": 3,
   "id": "4bffb1dc",
   "metadata": {},
   "outputs": [
    {
     "name": "stdout",
     "output_type": "stream",
     "text": [
      "[[12  7  0]\n",
      " [ 6  7  0]\n",
      " [ 5  8  3]]\n"
     ]
    }
   ],
   "source": [
    "A=np.array([\n",
    "    [12, 7, 0],\n",
    "    [6, 7, 0],\n",
    "    [5, 8, 3]]\n",
    ")\n",
    "print(A)"
   ]
  },
  {
   "cell_type": "markdown",
   "id": "d5925229",
   "metadata": {},
   "source": [
    "_Recuerden que los intervalos en `Python` son *cerrados por la izquierda y abiertos por la derecha*_"
   ]
  },
  {
   "cell_type": "code",
   "execution_count": 7,
   "id": "2ad8084d",
   "metadata": {
    "scrolled": true
   },
   "outputs": [
    {
     "name": "stdout",
     "output_type": "stream",
     "text": [
      "0\n",
      "1\n",
      "2\n",
      "3\n",
      "4\n"
     ]
    }
   ],
   "source": [
    "for i in range(5):\n",
    "    print(i)"
   ]
  },
  {
   "cell_type": "markdown",
   "id": "2168b5e6",
   "metadata": {},
   "source": [
    "La entrada $a_{23}$ de $A$ se representará en la computadora como `A[1,2]`"
   ]
  },
  {
   "cell_type": "code",
   "execution_count": 8,
   "id": "91526db4",
   "metadata": {
    "scrolled": true
   },
   "outputs": [
    {
     "data": {
      "text/plain": [
       "0"
      ]
     },
     "execution_count": 8,
     "metadata": {},
     "output_type": "execute_result"
    }
   ],
   "source": [
    "A[1,2]"
   ]
  },
  {
   "cell_type": "markdown",
   "id": "80e26599",
   "metadata": {},
   "source": [
    "Para obtener el determinante de $A$ ($\\det A=|A|$), recurrimos a la función `np.linalg.det()`"
   ]
  },
  {
   "cell_type": "code",
   "execution_count": 10,
   "id": "72d36e82",
   "metadata": {},
   "outputs": [
    {
     "data": {
      "text/plain": [
       "126.0"
      ]
     },
     "execution_count": 10,
     "metadata": {},
     "output_type": "execute_result"
    }
   ],
   "source": [
    "np.linalg.det(A)"
   ]
  },
  {
   "cell_type": "markdown",
   "id": "501684d9",
   "metadata": {},
   "source": [
    "Repetimos este procedimiento para los demás incisos:"
   ]
  },
  {
   "cell_type": "code",
   "execution_count": 11,
   "id": "68769952",
   "metadata": {
    "scrolled": true
   },
   "outputs": [
    {
     "data": {
      "text/plain": [
       "-62.99999999999999"
      ]
     },
     "execution_count": 11,
     "metadata": {},
     "output_type": "execute_result"
    }
   ],
   "source": [
    "np.linalg.det(\n",
    "    [\n",
    "        [8,3,2],\n",
    "        [5,1,3],\n",
    "        [6,4,7]\n",
    "    ]\n",
    ")"
   ]
  },
  {
   "cell_type": "code",
   "execution_count": 12,
   "id": "a6ac8365",
   "metadata": {},
   "outputs": [
    {
     "data": {
      "text/plain": [
       "282.00000000000006"
      ]
     },
     "execution_count": 12,
     "metadata": {},
     "output_type": "execute_result"
    }
   ],
   "source": [
    "np.linalg.det(\n",
    "    [\n",
    "        [2,5,8,3],\n",
    "        [3,10,2,1],\n",
    "        [2,4,7,1],\n",
    "        [1,15,0,4]\n",
    "    ]\n",
    ")"
   ]
  },
  {
   "cell_type": "markdown",
   "id": "8dc958ff",
   "metadata": {},
   "source": [
    "## Adjunta de una matriz\n",
    "\n",
    "No hay una función que directamente calcule la adjunta de una matriz. Sin embargo, se puede obtener de forma indirecta mediante la inversa y el determinante. Por ejemplo, para la matriz `A` definida en las primeras celdas, la adjunta se calcula así:\n",
    "$$ \\text{Adj}(A)=\\det A \\times A^{-1}$$"
   ]
  },
  {
   "cell_type": "code",
   "execution_count": 14,
   "id": "42a3bcb1",
   "metadata": {},
   "outputs": [
    {
     "data": {
      "text/plain": [
       "array([[ 21., -21.,   0.],\n",
       "       [-18.,  36.,   0.],\n",
       "       [ 13., -61.,  42.]])"
      ]
     },
     "execution_count": 14,
     "metadata": {},
     "output_type": "execute_result"
    }
   ],
   "source": [
    "np.linalg.inv(A)*np.linalg.det(A)"
   ]
  },
  {
   "cell_type": "markdown",
   "id": "7e57bf2d",
   "metadata": {},
   "source": [
    "$$B:=\\begin{pmatrix} \n",
    "1 & -1 & 1 \\\\\n",
    "0 & 2 & -1 \\\\\n",
    "1 & 0 & 0\n",
    "\\end{pmatrix}$$"
   ]
  },
  {
   "cell_type": "code",
   "execution_count": 15,
   "id": "ff29c1fe",
   "metadata": {},
   "outputs": [],
   "source": [
    "B=np.array([\n",
    "    [1,-1,1],\n",
    "    [0,2,-1],\n",
    "    [1,0,0]\n",
    "])"
   ]
  },
  {
   "cell_type": "markdown",
   "id": "a2b09445",
   "metadata": {},
   "source": [
    "Juntamos en una sola función el determinante y la inversa, para obtener la adjunta:"
   ]
  },
  {
   "cell_type": "code",
   "execution_count": 16,
   "id": "9c63b0c2",
   "metadata": {},
   "outputs": [],
   "source": [
    "def adj(X):\n",
    "    return np.linalg.inv(X)*np.linalg.det(X)"
   ]
  },
  {
   "cell_type": "code",
   "execution_count": 17,
   "id": "f8e93d16",
   "metadata": {},
   "outputs": [
    {
     "data": {
      "text/plain": [
       "array([[-0., -0., -1.],\n",
       "       [-1., -1.,  1.],\n",
       "       [-2., -1.,  2.]])"
      ]
     },
     "execution_count": 17,
     "metadata": {},
     "output_type": "execute_result"
    }
   ],
   "source": [
    "adj(B)"
   ]
  },
  {
   "cell_type": "markdown",
   "id": "a9572058",
   "metadata": {},
   "source": [
    "Comprobamos que el ejemplo de la adjunta de la matriz:\n",
    "\n",
    "$$C:=\\begin{pmatrix} \n",
    "2 & 3 & 1 \\\\\n",
    "4 & 1 & 2 \\\\\n",
    "5 & 3 & 4\n",
    "\\end{pmatrix}\\rightarrow \\text{Adj}(C)=\n",
    "\\begin{pmatrix} \n",
    "-2 & -9 & 5 \\\\\n",
    "-6 & 3 & 0 \\\\\n",
    "7 & 9 & -10\n",
    "\\end{pmatrix}\n",
    "$$\n",
    "\n",
    "es correcto"
   ]
  },
  {
   "cell_type": "code",
   "execution_count": 18,
   "id": "c7cbab3e",
   "metadata": {},
   "outputs": [
    {
     "data": {
      "text/plain": [
       "array([[ -2.,  -9.,   5.],\n",
       "       [ -6.,   3.,  -0.],\n",
       "       [  7.,   9., -10.]])"
      ]
     },
     "execution_count": 18,
     "metadata": {},
     "output_type": "execute_result"
    }
   ],
   "source": [
    "adj(np.array([[2,3,1],[4,1,2],[5,3,4]])) #Pueden escribirse los renglones uno tras otro"
   ]
  },
  {
   "cell_type": "code",
   "execution_count": null,
   "id": "a865b871",
   "metadata": {},
   "outputs": [],
   "source": []
  }
 ],
 "metadata": {
  "kernelspec": {
   "display_name": "Python 3 (ipykernel)",
   "language": "python",
   "name": "python3"
  },
  "language_info": {
   "codemirror_mode": {
    "name": "ipython",
    "version": 3
   },
   "file_extension": ".py",
   "mimetype": "text/x-python",
   "name": "python",
   "nbconvert_exporter": "python",
   "pygments_lexer": "ipython3",
   "version": "3.9.7"
  }
 },
 "nbformat": 4,
 "nbformat_minor": 5
}
