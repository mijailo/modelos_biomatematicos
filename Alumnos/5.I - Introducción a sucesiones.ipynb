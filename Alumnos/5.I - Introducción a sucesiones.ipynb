{
 "cells": [
  {
   "cell_type": "markdown",
   "metadata": {},
   "source": [
    "# Introducción a sucesiones (en una compu)\n",
    "\n",
    "Ciclos y generadores (en **`Python 3`**): `range(n)` permite _generar_ la lista de números del $0$ al $n-1$.\n",
    "\n",
    ">**_Fun fact_**: La cantidad de números que hay entre dos enteros $A$ y $B$ es $A-B+1$.\n",
    ">\n",
    "> **Ejemplo**:\n",
    "> ¿Cuántos números hay entre $20$ y $37$? \n",
    "> \n",
    "> _Hay 18_:\n",
    "> $$37-20+1=18$$"
   ]
  },
  {
   "cell_type": "markdown",
   "metadata": {},
   "source": [
    "## Generar listas de números\n",
    "\n",
    "* Para ejecutar una celda de código, la cual se distingue mediante un texto del estilo `In [n]:`, deben posicionar el cursor adentro de la celda, ver que ésta se ilumine de verdecito (modo de edición), y luego apretar `Shift+Enter`."
   ]
  },
  {
   "cell_type": "code",
   "execution_count": 4,
   "metadata": {},
   "outputs": [
    {
     "name": "stdout",
     "output_type": "stream",
     "text": [
      "holi\n",
      "holi\n",
      "holi\n",
      "holi\n",
      "holi\n",
      "holi\n",
      "holi\n",
      "holi\n",
      "holi\n",
      "holi\n",
      "holi\n",
      "holi\n",
      "holi\n",
      "holi\n",
      "holi\n",
      "holi\n",
      "holi\n",
      "holi\n",
      "holi\n",
      "holi\n",
      "holi\n",
      "holi\n",
      "holi\n",
      "holi\n",
      "holi\n",
      "holi\n",
      "holi\n",
      "holi\n",
      "holi\n"
     ]
    }
   ],
   "source": [
    "for i in range(29):\n",
    "    print('holi')"
   ]
  },
  {
   "cell_type": "markdown",
   "metadata": {},
   "source": [
    "* Ejemplo: ¿Cómo imprimir los números entre el 10 y el 20?"
   ]
  },
  {
   "cell_type": "code",
   "execution_count": 2,
   "metadata": {},
   "outputs": [
    {
     "name": "stdout",
     "output_type": "stream",
     "text": [
      "10\n",
      "11\n",
      "12\n",
      "13\n",
      "14\n",
      "15\n",
      "16\n",
      "17\n",
      "18\n",
      "19\n",
      "20\n"
     ]
    }
   ],
   "source": [
    "for mole in range(10,21):\n",
    "    print(mole)"
   ]
  },
  {
   "cell_type": "markdown",
   "metadata": {},
   "source": [
    "* Ejemplo: ¿Cómo imprimir los primeros diez términos de la progresión geométrica 1,2,4,8,...?"
   ]
  },
  {
   "cell_type": "code",
   "execution_count": 3,
   "metadata": {},
   "outputs": [
    {
     "name": "stdout",
     "output_type": "stream",
     "text": [
      "1\n",
      "2\n",
      "4\n",
      "8\n",
      "16\n",
      "32\n",
      "64\n",
      "128\n",
      "256\n",
      "512\n"
     ]
    }
   ],
   "source": [
    "for notamal in range(10):\n",
    "    print(2**notamal)"
   ]
  },
  {
   "cell_type": "code",
   "execution_count": 3,
   "metadata": {},
   "outputs": [
    {
     "name": "stdout",
     "output_type": "stream",
     "text": [
      "Hola plebes\n"
     ]
    }
   ],
   "source": [
    "print('Hola plebes')"
   ]
  },
  {
   "cell_type": "markdown",
   "metadata": {},
   "source": [
    "* ¿Cómo obtener los primeros 10 términos de la progresión geométrica con término inicial 1 y razón $\\frac{2}{3}$?\n",
    "\\begin{equation}\n",
    "a_n=\\left(\\frac{2}{3}\\right)^n\n",
    "\\end{equation}\n",
    "> **Nota**: Uno de los objetos que es posible manipular con **`Python`** es el `string` (cadena de caracteres=texto). Éstos se delimitan con comillas (dobles \" o simples ') y tienen ciertas operaciones (llamadas métodos). \"Aquí va la {}\".format(\"cosa\") genera un `string` igual a \"Aquí va la cosa\"."
   ]
  },
  {
   "cell_type": "code",
   "execution_count": 8,
   "metadata": {},
   "outputs": [
    {
     "name": "stdout",
     "output_type": "stream",
     "text": [
      "A Renata le gusta el tamal de verde.\n"
     ]
    }
   ],
   "source": [
    "frasecita=\"A Renata le gusta el tamal de {}.\"\n",
    "sabor=\"verde\"\n",
    "print(frasecita.format(sabor))"
   ]
  },
  {
   "cell_type": "code",
   "execution_count": 4,
   "metadata": {
    "scrolled": true
   },
   "outputs": [
    {
     "name": "stdout",
     "output_type": "stream",
     "text": [
      "a(0):\t 1.0\n",
      "a(1):\t 0.6666666666666666\n",
      "a(2):\t 0.4444444444444444\n",
      "a(3):\t 0.2962962962962962\n",
      "a(4):\t 0.19753086419753083\n",
      "a(5):\t 0.13168724279835387\n",
      "a(6):\t 0.08779149519890257\n",
      "a(7):\t 0.05852766346593505\n",
      "a(8):\t 0.03901844231062336\n",
      "a(9):\t 0.02601229487374891\n"
     ]
    }
   ],
   "source": [
    "#Versión con decimales\n",
    "for r in range(10):\n",
    "    print(\"a({}):\\t\".format(r),(2/3)**r) #La potenciacion de x a la n se denota como x**n"
   ]
  },
  {
   "cell_type": "code",
   "execution_count": 7,
   "metadata": {},
   "outputs": [
    {
     "name": "stdout",
     "output_type": "stream",
     "text": [
      "a(0):\t 1\n",
      "a(1):\t 2/3\n",
      "a(2):\t 4/9\n",
      "a(3):\t 8/27\n",
      "a(4):\t 16/81\n",
      "a(5):\t 32/243\n",
      "a(6):\t 64/729\n",
      "a(7):\t 128/2187\n",
      "a(8):\t 256/6561\n",
      "a(9):\t 512/19683\n"
     ]
    }
   ],
   "source": [
    "# Versión con fracciones\n",
    "from fractions import Fraction #Necesitamos un módulo que permita trabajar con fracciones\n",
    "for r in range(10):\n",
    "    print(\"a({}):\\t\".format(r),Fraction(2,3)**r) #La potenciacion de x a la n se denota como x**n"
   ]
  },
  {
   "cell_type": "markdown",
   "metadata": {},
   "source": [
    "* ¿Cómo agrego una nueva celda?\n",
    "Se colocan en la celda debajo de la cual quieren añadir otra. La seleccionan \"por afuerita\" (se iluminará de color azul) y luego aprietan `b` (_b=below_).\n",
    "* ¿Cómo borro una celda?\n",
    "Se colocan \"por afuerita\" en la celda que quieren borrar (se iluminará de color azul (modo de configuración)) y aprietan `dd` (_dd=delete_)"
   ]
  },
  {
   "cell_type": "markdown",
   "metadata": {},
   "source": [
    "Ejemplito para hombre (Adrián) y mujer (Valeria): $a_{n}=e^{n^2-1}$\n",
    "\\begin{equation}\n",
    "    a_0=e^{0^2-1}=e^{-1}=\\frac{1}{e}, \\; a_1=e^{1^2-1}=e^0=1, \\; a_2=e^{2^2-1}=e^3, \\dots\n",
    "\\end{equation}"
   ]
  },
  {
   "cell_type": "code",
   "execution_count": 8,
   "metadata": {},
   "outputs": [
    {
     "name": "stdout",
     "output_type": "stream",
     "text": [
      "a(0):\t 0.36787944117144233\n",
      "a(1):\t 1.0\n",
      "a(2):\t 20.085536923187664\n",
      "a(3):\t 2980.957987041727\n",
      "a(4):\t 3269017.372472108\n",
      "a(5):\t 26489122129.843437\n",
      "a(6):\t 1586013452313427.8\n",
      "a(7):\t 7.016735912097614e+20\n",
      "a(8):\t 2.2937831594696023e+27\n",
      "a(9):\t 5.540622384393487e+34\n"
     ]
    }
   ],
   "source": [
    "import math #(Biblioteca) para utilizar el numero e mediante la constante math.e\n",
    "\n",
    "for queso in range(10):\n",
    "    print('a({}):\\t'.format(queso),math.e**(queso**2-1))"
   ]
  },
  {
   "cell_type": "code",
   "execution_count": 9,
   "metadata": {},
   "outputs": [
    {
     "data": {
      "text/plain": [
       "3.141592653589793"
      ]
     },
     "execution_count": 9,
     "metadata": {},
     "output_type": "execute_result"
    }
   ],
   "source": [
    "math.pi"
   ]
  },
  {
   "cell_type": "markdown",
   "metadata": {},
   "source": [
    "## Guardar los números de una sucesión en estructuras de datos (listas)\n",
    "\n",
    "Las listas son _bolsitas_ para guardar números (o texto, booleanos, flotantes, otras listas...). Las utilizaremos para guardar elementos de sucesiones (que más adelante, serán útiles para hacer una representación gráfica).\n",
    "\n",
    "* ¿Cómo generar una lista con las primeras diez potencias del 3, empezando en 0?"
   ]
  },
  {
   "cell_type": "code",
   "execution_count": 9,
   "metadata": {},
   "outputs": [
    {
     "name": "stdout",
     "output_type": "stream",
     "text": [
      "[0, 1, 8, 27, 64, 125, 216, 343, 512, 729]\n"
     ]
    }
   ],
   "source": [
    "lista=[pan**3 for pan in range(10)] #Las bolsitas se delimitan por corchetes: [,]\n",
    "print(lista)"
   ]
  },
  {
   "cell_type": "markdown",
   "metadata": {},
   "source": [
    "El objeto `lista` puede utilizarse para calcular la suma de los términos que contiene:"
   ]
  },
  {
   "cell_type": "code",
   "execution_count": 12,
   "metadata": {},
   "outputs": [
    {
     "data": {
      "text/plain": [
       "2025"
      ]
     },
     "execution_count": 12,
     "metadata": {},
     "output_type": "execute_result"
    }
   ],
   "source": [
    "sum(lista)"
   ]
  },
  {
   "cell_type": "markdown",
   "metadata": {},
   "source": [
    "* ¿Cómo generar la lista de la suma acumulada de los términos de la progresión armónica $a_n=\\{\\frac{1}{n}\\}_{n=1}^{\\infty}$?\n",
    "\n",
    "\\begin{align*}\n",
    "    S_1&=a_1=\\frac{1}{1} \\\\\n",
    "    S_2&=a_1+a_2=\\frac{1}{1}+\\frac{1}{2} \\\\\n",
    "    S_3&=a_1+a_2+a_3=\\frac{1}{1}+\\frac{1}{2}+\\frac{1}{3} \\\\\n",
    "    \\vdots\\\\\n",
    "    S_n&=\\sum_{j=1}^n a_j=a_1+a_2+\\cdots +a_n=1+\\frac{1}{2}+\\cdots+\\frac{1}{n}\\\\\n",
    "\\end{align*}"
   ]
  },
  {
   "cell_type": "code",
   "execution_count": 16,
   "metadata": {},
   "outputs": [
    {
     "name": "stdout",
     "output_type": "stream",
     "text": [
      "1/3\n"
     ]
    }
   ],
   "source": [
    "# Función que me regresa los términos de la armónica.\n",
    "def armonica(n):\n",
    "    assert type(n)==int and n >=1\n",
    "    return Fraction(1,n)\n",
    "\n",
    "print(armonica(3))"
   ]
  },
  {
   "cell_type": "code",
   "execution_count": 26,
   "metadata": {},
   "outputs": [
    {
     "name": "stdout",
     "output_type": "stream",
     "text": [
      "S(1) = 1 = 1.0 \n",
      "\n",
      "S(2) = 3/2 = 1.5 \n",
      "\n",
      "S(3) = 11/6 = 1.8333333333333333 \n",
      "\n",
      "S(4) = 25/12 = 2.0833333333333335 \n",
      "\n",
      "S(5) = 137/60 = 2.283333333333333 \n",
      "\n",
      "S(6) = 49/20 = 2.45 \n",
      "\n",
      "S(7) = 363/140 = 2.592857142857143 \n",
      "\n",
      "S(8) = 761/280 = 2.717857142857143 \n",
      "\n",
      "S(9) = 7129/2520 = 2.828968253968254 \n",
      "\n",
      "S(10) = 7381/2520 = 2.9289682539682538 \n",
      "\n"
     ]
    }
   ],
   "source": [
    "#Hacer la lista de las diez primeras sumas: S_1, S_2, ..., S_10\n",
    "limite=10\n",
    "for i in range(1,limite+1):\n",
    "    suma=sum([armonica(j) for j in range(1,i+1)])\n",
    "    print(f'S({i}) = {suma} = {float(suma)}','\\n')"
   ]
  },
  {
   "cell_type": "markdown",
   "metadata": {},
   "source": [
    "**Problema**\n",
    "\n",
    "_El Gran [_Visir_](https://es.wikipedia.org/wiki/Visir) Sissa [solicitó al rey Shirham](https://wwwphy.princeton.edu/~steinh/ph111n/Chapter05p.htm), después de haberle enseñado el juego de ajedrez, que en pago le diese 1 grano de trigo por el primer cuadro del tablero, 2 por el segundo, 4 por el tercero, 8 por el cuarto y así sucesivamente._\n",
    "_¿Cuántos granos de trigo obtuvo el Visir por los primeros 15 cuadros?_ \\\n",
    "\n",
    "Nos fijamos en los cuadros con etiquetas `0`,`1`,...,`14`. En esta lista hay 15 elementos: usamos entonces el generador `range(15)`:"
   ]
  },
  {
   "cell_type": "code",
   "execution_count": 14,
   "metadata": {},
   "outputs": [
    {
     "name": "stdout",
     "output_type": "stream",
     "text": [
      "[1, 2, 4, 8, 16, 32, 64, 128, 256, 512, 1024, 2048, 4096, 8192, 16384]\n"
     ]
    }
   ],
   "source": [
    "granos=[2**j for j in range(15)]\n",
    "print(granos)"
   ]
  },
  {
   "cell_type": "markdown",
   "metadata": {},
   "source": [
    "Los granos acumulados en los primeros 15 cuadros son:"
   ]
  },
  {
   "cell_type": "code",
   "execution_count": 15,
   "metadata": {},
   "outputs": [
    {
     "data": {
      "text/plain": [
       "32767"
      ]
     },
     "execution_count": 15,
     "metadata": {},
     "output_type": "execute_result"
    }
   ],
   "source": [
    "sum(granos)"
   ]
  },
  {
   "cell_type": "markdown",
   "metadata": {},
   "source": [
    "Esto coincide con el resultado de la expresión para la suma de una progresión geométrica $\\{ar^n\\}_{n=0}^{\\infty}$:\n",
    "\\begin{equation*}\n",
    "    S_n=a\\frac{1-r^{n+1}}{1-r}\n",
    "\\end{equation*}\n",
    "que, en el caso particular de $r=2$ y $a=1$, resulta:\n",
    "\\begin{equation*}\n",
    "S_n=2^{n+1}-1\n",
    "\\end{equation*}"
   ]
  },
  {
   "cell_type": "code",
   "execution_count": 15,
   "metadata": {},
   "outputs": [
    {
     "data": {
      "text/plain": [
       "32767"
      ]
     },
     "execution_count": 15,
     "metadata": {},
     "output_type": "execute_result"
    }
   ],
   "source": [
    "2**15-1"
   ]
  },
  {
   "cell_type": "markdown",
   "metadata": {},
   "source": [
    "## Graficar sucesiones\n",
    "\n",
    "Toman un plano cartesiano; el eje horizontal (el de las $X$) contendrá los índices de la sucesión: $0, 1, 2, \\dots$. El eje vertical (el de las $Y$) contendrá los elementos de la sucesión: $a_0, a_1, a_2, \\dots$"
   ]
  },
  {
   "cell_type": "code",
   "execution_count": 16,
   "metadata": {},
   "outputs": [],
   "source": [
    "import matplotlib.pyplot as plt"
   ]
  },
  {
   "cell_type": "code",
   "execution_count": 19,
   "metadata": {
    "scrolled": true
   },
   "outputs": [
    {
     "data": {
      "image/png": "[encoded data removed]",
      "text/plain": [
       "<Figure size 432x288 with 1 Axes>"
      ]
     },
     "metadata": {
      "needs_background": "light"
     },
     "output_type": "display_data"
    }
   ],
   "source": [
    "aritmetica=[2*i-5 for i in range(30)] #a(0),a(1),...,a(29) (30 numeros en total)\n",
    "plt.plot(aritmetica,'.')\n",
    "plt.grid()"
   ]
  },
  {
   "cell_type": "markdown",
   "metadata": {},
   "source": [
    "Sucesión armónica"
   ]
  },
  {
   "cell_type": "code",
   "execution_count": 21,
   "metadata": {},
   "outputs": [
    {
     "data": {
      "image/png": "[encoded data removed]",
      "text/plain": [
       "<Figure size 432x288 with 1 Axes>"
      ]
     },
     "metadata": {
      "needs_background": "light"
     },
     "output_type": "display_data"
    }
   ],
   "source": [
    "plt.plot([1/(pan+1) for pan in range(50)],'.',c='crimson')\n",
    "plt.grid()"
   ]
  }
 ],
 "metadata": {
  "kernelspec": {
   "display_name": "Python 3 (ipykernel)",
   "language": "python",
   "name": "python3"
  },
  "language_info": {
   "codemirror_mode": {
    "name": "ipython",
    "version": 3
   },
   "file_extension": ".py",
   "mimetype": "text/x-python",
   "name": "python",
   "nbconvert_exporter": "python",
   "pygments_lexer": "ipython3",
   "version": "3.10.4"
  },
  "widgets": {
   "application/vnd.jupyter.widget-state+json": {
    "state": {},
    "version_major": 2,
    "version_minor": 0
   }
  }
 },
 "nbformat": 4,
 "nbformat_minor": 4
}
