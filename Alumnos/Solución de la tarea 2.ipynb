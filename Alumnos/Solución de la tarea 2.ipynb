{
 "cells": [
  {
   "cell_type": "code",
   "execution_count": 1,
   "id": "06750dcd-2307-4a95-b1a7-c995e2de3af3",
   "metadata": {
    "tags": []
   },
   "outputs": [],
   "source": [
    "def f(n):\n",
    "    assert n>=1 and type(n)==type(0)\n",
    "    if n==1:\n",
    "        return 1\n",
    "    else:\n",
    "        if n%2==0:\n",
    "            return f(n-1)+4\n",
    "        else:\n",
    "            return f(n-1)+2"
   ]
  },
  {
   "cell_type": "code",
   "execution_count": 2,
   "id": "4f5f3e99-3b60-458a-9666-99123339d407",
   "metadata": {
    "tags": []
   },
   "outputs": [
    {
     "name": "stdout",
     "output_type": "stream",
     "text": [
      "f(1)=1\n",
      "f(2)=5\n",
      "f(3)=7\n",
      "f(4)=11\n",
      "f(5)=13\n",
      "f(6)=17\n",
      "f(7)=19\n",
      "f(8)=23\n",
      "f(9)=25\n",
      "f(10)=29\n",
      "f(11)=31\n",
      "f(12)=35\n",
      "f(13)=37\n",
      "f(14)=41\n",
      "f(15)=43\n",
      "f(16)=47\n",
      "f(17)=49\n",
      "f(18)=53\n",
      "f(19)=55\n",
      "f(20)=59\n",
      "f(21)=61\n",
      "f(22)=65\n",
      "f(23)=67\n",
      "f(24)=71\n",
      "f(25)=73\n",
      "f(26)=77\n",
      "f(27)=79\n",
      "f(28)=83\n",
      "f(29)=85\n",
      "f(30)=89\n"
     ]
    }
   ],
   "source": [
    "m=f(1)\n",
    "for i in range(1,90):\n",
    "    while m<=90:\n",
    "        print(f'f({i})={m}')\n",
    "        m=f(i+1)\n",
    "        break"
   ]
  },
  {
   "cell_type": "code",
   "execution_count": 4,
   "id": "67069791-7bbc-4d40-83c0-07da376de18f",
   "metadata": {
    "execution": {
     "iopub.execute_input": "2021-12-06T20:47:05.873125Z",
     "iopub.status.busy": "2021-12-06T20:47:05.872567Z",
     "iopub.status.idle": "2021-12-06T20:47:05.883599Z",
     "shell.execute_reply": "2021-12-06T20:47:05.882488Z",
     "shell.execute_reply.started": "2021-12-06T20:47:05.873062Z"
    }
   },
   "outputs": [
    {
     "data": {
      "text/plain": [
       "66"
      ]
     },
     "execution_count": 4,
     "metadata": {},
     "output_type": "execute_result"
    }
   ],
   "source": [
    "45+30+18-15-9-6+3"
   ]
  },
  {
   "cell_type": "markdown",
   "id": "a11f67a0-3edf-4ab7-8ecc-ca06882706d2",
   "metadata": {},
   "source": [
    "Vamos a programar una función que devuelva los números naturales que sean múltiplos de otros."
   ]
  },
  {
   "cell_type": "code",
   "execution_count": 7,
   "id": "f373b375-376d-4535-8dda-3583fa06b695",
   "metadata": {},
   "outputs": [],
   "source": [
    "def multiplos(n,m):\n",
    "    \"\"\"\n",
    "    n: múltiplos de esta n\n",
    "    m: cota inferior\n",
    "    multiplos(n,m): un listado de los múltiplos de n que a lo más llegan a m\n",
    "    \"\"\"\n",
    "    j=0\n",
    "    listado=list()\n",
    "    while j*n<=m:\n",
    "        listado.append(j*n)\n",
    "        j+=1\n",
    "    return listado"
   ]
  },
  {
   "cell_type": "markdown",
   "id": "adaeb3ed-5a98-49b1-9d6b-475320936406",
   "metadata": {},
   "source": [
    "Vamos a ver los números que sean múltiplos de 2 o 3, pero sin miembros repetidos."
   ]
  },
  {
   "cell_type": "code",
   "execution_count": 9,
   "id": "e8146ca7-1e49-4bd5-b6f8-fbd93984f00b",
   "metadata": {},
   "outputs": [
    {
     "data": {
      "text/plain": [
       "[0,\n",
       " 2,\n",
       " 3,\n",
       " 4,\n",
       " 6,\n",
       " 8,\n",
       " 9,\n",
       " 10,\n",
       " 12,\n",
       " 14,\n",
       " 15,\n",
       " 16,\n",
       " 18,\n",
       " 20,\n",
       " 21,\n",
       " 22,\n",
       " 24,\n",
       " 26,\n",
       " 27,\n",
       " 28,\n",
       " 30,\n",
       " 32,\n",
       " 33,\n",
       " 34,\n",
       " 36,\n",
       " 38,\n",
       " 39,\n",
       " 40,\n",
       " 42,\n",
       " 44,\n",
       " 45,\n",
       " 46,\n",
       " 48,\n",
       " 50,\n",
       " 51,\n",
       " 52,\n",
       " 54,\n",
       " 56,\n",
       " 57,\n",
       " 58,\n",
       " 60,\n",
       " 62,\n",
       " 63,\n",
       " 64,\n",
       " 66,\n",
       " 68,\n",
       " 69,\n",
       " 70,\n",
       " 72,\n",
       " 74,\n",
       " 75,\n",
       " 76,\n",
       " 78,\n",
       " 80,\n",
       " 81,\n",
       " 82,\n",
       " 84,\n",
       " 86,\n",
       " 87,\n",
       " 88]"
      ]
     },
     "execution_count": 9,
     "metadata": {},
     "output_type": "execute_result"
    }
   ],
   "source": [
    "dos_tres=list(set(multiplos(2,89)+multiplos(3,89)))\n",
    "dos_tres"
   ]
  },
  {
   "cell_type": "code",
   "execution_count": 10,
   "id": "04119b38-bbfe-41f5-b9be-489dff6c93fc",
   "metadata": {},
   "outputs": [
    {
     "data": {
      "text/plain": [
       "60"
      ]
     },
     "execution_count": 10,
     "metadata": {},
     "output_type": "execute_result"
    }
   ],
   "source": [
    "len(dos_tres)"
   ]
  },
  {
   "cell_type": "markdown",
   "id": "9804798b-dd8b-43cb-b09c-eac3dee71493",
   "metadata": {},
   "source": [
    "También podemos hacer lo siguiente:\n",
    "$$|2\\mathbf{N}\\cup3\\mathbf{N}|=|2\\mathbf{N}|+|3\\mathbf{N}|-|\\text{mcm}(2,3)\\mathbf{N}|=45+30-15$$"
   ]
  },
  {
   "cell_type": "code",
   "execution_count": 12,
   "id": "b840e94c-ba9a-4dff-8f14-720de8c769c4",
   "metadata": {},
   "outputs": [
    {
     "data": {
      "text/plain": [
       "[0,\n",
       " 2,\n",
       " 3,\n",
       " 4,\n",
       " 5,\n",
       " 6,\n",
       " 8,\n",
       " 9,\n",
       " 10,\n",
       " 12,\n",
       " 14,\n",
       " 15,\n",
       " 16,\n",
       " 18,\n",
       " 20,\n",
       " 21,\n",
       " 22,\n",
       " 24,\n",
       " 25,\n",
       " 26,\n",
       " 27,\n",
       " 28,\n",
       " 30,\n",
       " 32,\n",
       " 33,\n",
       " 34,\n",
       " 35,\n",
       " 36,\n",
       " 38,\n",
       " 39,\n",
       " 40,\n",
       " 42,\n",
       " 44,\n",
       " 45,\n",
       " 46,\n",
       " 48,\n",
       " 50,\n",
       " 51,\n",
       " 52,\n",
       " 54,\n",
       " 55,\n",
       " 56,\n",
       " 57,\n",
       " 58,\n",
       " 60,\n",
       " 62,\n",
       " 63,\n",
       " 64,\n",
       " 65,\n",
       " 66,\n",
       " 68,\n",
       " 69,\n",
       " 70,\n",
       " 72,\n",
       " 74,\n",
       " 75,\n",
       " 76,\n",
       " 78,\n",
       " 80,\n",
       " 81,\n",
       " 82,\n",
       " 84,\n",
       " 85,\n",
       " 86,\n",
       " 87,\n",
       " 88]"
      ]
     },
     "execution_count": 12,
     "metadata": {},
     "output_type": "execute_result"
    }
   ],
   "source": [
    "club=list(set(multiplos(2,89)+multiplos(3,89)+multiplos(4,89)+multiplos(5,89)+multiplos(6,89)))\n",
    "club"
   ]
  },
  {
   "cell_type": "code",
   "execution_count": 13,
   "id": "d7fa49bd-c4ac-42a6-98d1-e0918ee98aea",
   "metadata": {},
   "outputs": [
    {
     "data": {
      "text/plain": [
       "66"
      ]
     },
     "execution_count": 13,
     "metadata": {},
     "output_type": "execute_result"
    }
   ],
   "source": [
    "len(club)"
   ]
  },
  {
   "cell_type": "code",
   "execution_count": 14,
   "id": "4488a1ff-f993-49e2-9ab9-0e88f5d56051",
   "metadata": {},
   "outputs": [
    {
     "data": {
      "text/plain": [
       "24"
      ]
     },
     "execution_count": 14,
     "metadata": {},
     "output_type": "execute_result"
    }
   ],
   "source": [
    "90-66"
   ]
  },
  {
   "cell_type": "code",
   "execution_count": null,
   "id": "bc9c37a2-276f-4b28-8566-5d0e89ca022d",
   "metadata": {},
   "outputs": [],
   "source": []
  }
 ],
 "metadata": {
  "kernelspec": {
   "display_name": "Python 3 (ipykernel)",
   "language": "python",
   "name": "python3"
  },
  "language_info": {
   "codemirror_mode": {
    "name": "ipython",
    "version": 3
   },
   "file_extension": ".py",
   "mimetype": "text/x-python",
   "name": "python",
   "nbconvert_exporter": "python",
   "pygments_lexer": "ipython3",
   "version": "3.10.6"
  },
  "widgets": {
   "application/vnd.jupyter.widget-state+json": {
    "state": {},
    "version_major": 2,
    "version_minor": 0
   }
  }
 },
 "nbformat": 4,
 "nbformat_minor": 5
}
