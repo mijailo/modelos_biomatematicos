{
 "cells": [
  {
   "cell_type": "code",
   "execution_count": 69,
   "id": "b6562835",
   "metadata": {},
   "outputs": [],
   "source": [
    "def expansion(x:int)->set:\n",
    "    assert type(x)==int and x>=0\n",
    "    return {y for y in range(x)}"
   ]
  },
  {
   "cell_type": "code",
   "execution_count": 70,
   "id": "adf4f4b1",
   "metadata": {},
   "outputs": [
    {
     "data": {
      "text/plain": [
       "{0, 1, 2, 3, 4, 5, 6, 7}"
      ]
     },
     "execution_count": 70,
     "metadata": {},
     "output_type": "execute_result"
    }
   ],
   "source": [
    "expansion(8)"
   ]
  },
  {
   "cell_type": "code",
   "execution_count": 96,
   "id": "58839bd7",
   "metadata": {},
   "outputs": [],
   "source": [
    "suc_vn = lambda i:'{'+f'{i},{{{i}}}'+'}'"
   ]
  },
  {
   "cell_type": "code",
   "execution_count": 97,
   "id": "2094a942",
   "metadata": {},
   "outputs": [
    {
     "data": {
      "text/plain": [
       "'{{},{{}}}'"
      ]
     },
     "execution_count": 97,
     "metadata": {},
     "output_type": "execute_result"
    }
   ],
   "source": [
    "suc_vn('{}')"
   ]
  },
  {
   "cell_type": "code",
   "execution_count": 98,
   "id": "7df784e3",
   "metadata": {},
   "outputs": [],
   "source": [
    "def repetir(f,n):\n",
    "    def new_fn(x):\n",
    "        for _ in range(n):\n",
    "            x = f(x)\n",
    "        return x\n",
    "    return new_fn"
   ]
  },
  {
   "cell_type": "code",
   "execution_count": 99,
   "id": "67ad7e16",
   "metadata": {},
   "outputs": [],
   "source": [
    "def natural(i):\n",
    "    return repetir(suc_vn('{}'),i)"
   ]
  },
  {
   "cell_type": "code",
   "execution_count": 100,
   "id": "cafd1175",
   "metadata": {},
   "outputs": [
    {
     "data": {
      "text/plain": [
       "<function __main__.repetir.<locals>.new_fn(x)>"
      ]
     },
     "execution_count": 100,
     "metadata": {},
     "output_type": "execute_result"
    }
   ],
   "source": [
    "natural(1)"
   ]
  },
  {
   "cell_type": "code",
   "execution_count": 82,
   "id": "5c0f6f9f",
   "metadata": {},
   "outputs": [
    {
     "name": "stdout",
     "output_type": "stream",
     "text": [
      "set()\n"
     ]
    }
   ],
   "source": [
    "set(a)"
   ]
  },
  {
   "cell_type": "code",
   "execution_count": null,
   "id": "5557abd0",
   "metadata": {},
   "outputs": [],
   "source": []
  }
 ],
 "metadata": {
  "kernelspec": {
   "display_name": "Python 3",
   "language": "python",
   "name": "python3"
  },
  "language_info": {
   "codemirror_mode": {
    "name": "ipython",
    "version": 3
   },
   "file_extension": ".py",
   "mimetype": "text/x-python",
   "name": "python",
   "nbconvert_exporter": "python",
   "pygments_lexer": "ipython3",
   "version": "3.9.5"
  }
 },
 "nbformat": 4,
 "nbformat_minor": 5
}
