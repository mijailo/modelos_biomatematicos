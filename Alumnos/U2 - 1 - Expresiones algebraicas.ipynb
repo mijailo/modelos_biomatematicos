{
 "cells": [
  {
   "cell_type": "markdown",
   "metadata": {},
   "source": [
    "# Expresiones algebraicas"
   ]
  },
  {
   "cell_type": "markdown",
   "metadata": {},
   "source": [
    "__*Importar biblioteca de cálculo simbólico [SymPy](https://www.sympy.org/en/index.html)*__"
   ]
  },
  {
   "cell_type": "code",
   "execution_count": 1,
   "metadata": {},
   "outputs": [],
   "source": [
    "import sympy as sym"
   ]
  },
  {
   "cell_type": "markdown",
   "metadata": {},
   "source": [
    "__*Un primer ejemplo de cálculo simbólico: primero definimos dos variables $x$, $y$:*__"
   ]
  },
  {
   "cell_type": "code",
   "execution_count": 2,
   "metadata": {},
   "outputs": [],
   "source": [
    "x = sym.Symbol('x')\n",
    "y = sym.Symbol('y')\n",
    "a = sym.Symbol('a')\n",
    "b = sym.Symbol('b')"
   ]
  },
  {
   "cell_type": "markdown",
   "metadata": {},
   "source": [
    "__*Vamos a ver la expansión del cubo de su suma:*__\n",
    "\\begin{equation}\n",
    "(x+y)^3=\\sum_{i=0}^3 \\binom{3}{i} x^{3-i}y^{i}=\\binom{3}{0}x^3+\\binom{3}{1}x^2y+\\binom{3}{2}xy^2+\\binom{3}{3}y^3=x^3+3x^2y+3xy^2+y^3\n",
    "\\end{equation}"
   ]
  },
  {
   "cell_type": "code",
   "execution_count": 3,
   "metadata": {},
   "outputs": [
    {
     "data": {
      "text/latex": [
       "$\\displaystyle x^{3} + 3 x^{2} y + 3 x y^{2} + y^{3}$"
      ],
      "text/plain": [
       "x**3 + 3*x**2*y + 3*x*y**2 + y**3"
      ]
     },
     "execution_count": 3,
     "metadata": {},
     "output_type": "execute_result"
    }
   ],
   "source": [
    "sym.expand((x + y) ** 3)"
   ]
  },
  {
   "cell_type": "markdown",
   "metadata": {},
   "source": [
    "__*Igual una simplificación: Supongamos que $x\\neq y$; entonces:*__\n",
    "\n",
    "\\begin{equation}\n",
    "\\frac{x^2-2xy+y^2}{x-y}=\\frac{(x-y)(x-y)}{x-y}=x-y\n",
    "\\end{equation}"
   ]
  },
  {
   "cell_type": "code",
   "execution_count": 4,
   "metadata": {},
   "outputs": [
    {
     "data": {
      "text/latex": [
       "$\\displaystyle x - y$"
      ],
      "text/plain": [
       "x - y"
      ]
     },
     "execution_count": 4,
     "metadata": {},
     "output_type": "execute_result"
    }
   ],
   "source": [
    "sym.simplify((x**2-2*x*y+y**2)/(x-y))"
   ]
  },
  {
   "cell_type": "markdown",
   "metadata": {},
   "source": [
    "__*Ahora el desarrollo de un trinomio a la quinta:*__"
   ]
  },
  {
   "cell_type": "code",
   "execution_count": 5,
   "metadata": {},
   "outputs": [
    {
     "data": {
      "text/latex": [
       "$\\displaystyle x^{10} + 5 x^{9} + 10 x^{8} y + 10 x^{8} + 40 x^{7} y + 10 x^{7} + 40 x^{6} y^{2} + 60 x^{6} y + 5 x^{6} + 120 x^{5} y^{2} + 40 x^{5} y + x^{5} + 80 x^{4} y^{3} + 120 x^{4} y^{2} + 10 x^{4} y + 160 x^{3} y^{3} + 40 x^{3} y^{2} + 80 x^{2} y^{4} + 80 x^{2} y^{3} + 80 x y^{4} + 32 y^{5}$"
      ],
      "text/plain": [
       "x**10 + 5*x**9 + 10*x**8*y + 10*x**8 + 40*x**7*y + 10*x**7 + 40*x**6*y**2 + 60*x**6*y + 5*x**6 + 120*x**5*y**2 + 40*x**5*y + x**5 + 80*x**4*y**3 + 120*x**4*y**2 + 10*x**4*y + 160*x**3*y**3 + 40*x**3*y**2 + 80*x**2*y**4 + 80*x**2*y**3 + 80*x*y**4 + 32*y**5"
      ]
     },
     "execution_count": 5,
     "metadata": {},
     "output_type": "execute_result"
    }
   ],
   "source": [
    "sym.expand((x**2+x+2*y)**5)"
   ]
  },
  {
   "cell_type": "code",
   "execution_count": 6,
   "metadata": {},
   "outputs": [
    {
     "data": {
      "text/latex": [
       "$\\displaystyle x^{7} + 7 x^{6} y + 21 x^{5} y^{2} + 35 x^{4} y^{3} + 35 x^{3} y^{4} + 21 x^{2} y^{5} + 7 x y^{6} + y^{7}$"
      ],
      "text/plain": [
       "x**7 + 7*x**6*y + 21*x**5*y**2 + 35*x**4*y**3 + 35*x**3*y**4 + 21*x**2*y**5 + 7*x*y**6 + y**7"
      ]
     },
     "execution_count": 6,
     "metadata": {},
     "output_type": "execute_result"
    }
   ],
   "source": [
    "sym.expand((x+y)**7)"
   ]
  },
  {
   "cell_type": "code",
   "execution_count": 7,
   "metadata": {},
   "outputs": [
    {
     "data": {
      "text/latex": [
       "$\\displaystyle a^{6} - 6 a^{5} b + 15 a^{4} b^{2} - 20 a^{3} b^{3} + 15 a^{2} b^{4} - 6 a b^{5} + b^{6}$"
      ],
      "text/plain": [
       "a**6 - 6*a**5*b + 15*a**4*b**2 - 20*a**3*b**3 + 15*a**2*b**4 - 6*a*b**5 + b**6"
      ]
     },
     "execution_count": 7,
     "metadata": {},
     "output_type": "execute_result"
    }
   ],
   "source": [
    "sym.expand((a-b)**6)"
   ]
  },
  {
   "cell_type": "code",
   "execution_count": 8,
   "metadata": {},
   "outputs": [
    {
     "data": {
      "text/latex": [
       "$\\displaystyle x^{10} - 10 x^{9} y + 45 x^{8} y^{2} - 120 x^{7} y^{3} + 210 x^{6} y^{4} - 252 x^{5} y^{5} + 210 x^{4} y^{6} - 120 x^{3} y^{7} + 45 x^{2} y^{8} - 10 x y^{9} + y^{10}$"
      ],
      "text/plain": [
       "x**10 - 10*x**9*y + 45*x**8*y**2 - 120*x**7*y**3 + 210*x**6*y**4 - 252*x**5*y**5 + 210*x**4*y**6 - 120*x**3*y**7 + 45*x**2*y**8 - 10*x*y**9 + y**10"
      ]
     },
     "execution_count": 8,
     "metadata": {},
     "output_type": "execute_result"
    }
   ],
   "source": [
    "sym.expand((x-y)**10)"
   ]
  },
  {
   "cell_type": "code",
   "execution_count": 9,
   "metadata": {},
   "outputs": [
    {
     "data": {
      "text/latex": [
       "$\\displaystyle 16 x^{4} + 32 x^{3} y + 24 x^{2} y^{2} + 8 x y^{3} + y^{4}$"
      ],
      "text/plain": [
       "16*x**4 + 32*x**3*y + 24*x**2*y**2 + 8*x*y**3 + y**4"
      ]
     },
     "execution_count": 9,
     "metadata": {},
     "output_type": "execute_result"
    }
   ],
   "source": [
    "sym.expand((2*x+y)**4)"
   ]
  },
  {
   "cell_type": "code",
   "execution_count": 10,
   "metadata": {},
   "outputs": [
    {
     "data": {
      "text/latex": [
       "$\\displaystyle a^{7} - \\frac{7 a^{6}}{b^{3}} + \\frac{21 a^{5}}{b^{6}} - \\frac{35 a^{4}}{b^{9}} + \\frac{35 a^{3}}{b^{12}} - \\frac{21 a^{2}}{b^{15}} + \\frac{7 a}{b^{18}} - \\frac{1}{b^{21}}$"
      ],
      "text/plain": [
       "a**7 - 7*a**6/b**3 + 21*a**5/b**6 - 35*a**4/b**9 + 35*a**3/b**12 - 21*a**2/b**15 + 7*a/b**18 - 1/b**21"
      ]
     },
     "execution_count": 10,
     "metadata": {},
     "output_type": "execute_result"
    }
   ],
   "source": [
    "sym.expand((a-b**(-3))**7)"
   ]
  },
  {
   "cell_type": "code",
   "execution_count": 11,
   "metadata": {},
   "outputs": [
    {
     "data": {
      "text/latex": [
       "$\\displaystyle - 243 x^{5} + 810 x^{4} y - 1080 x^{3} y^{2} + 720 x^{2} y^{3} - 240 x y^{4} + 32 y^{5}$"
      ],
      "text/plain": [
       "-243*x**5 + 810*x**4*y - 1080*x**3*y**2 + 720*x**2*y**3 - 240*x*y**4 + 32*y**5"
      ]
     },
     "execution_count": 11,
     "metadata": {},
     "output_type": "execute_result"
    }
   ],
   "source": [
    "sym.expand((2*y-3*x)**5)"
   ]
  },
  {
   "cell_type": "code",
   "execution_count": 15,
   "metadata": {},
   "outputs": [
    {
     "data": {
      "text/latex": [
       "$\\displaystyle 4 \\sqrt{3} x^{\\frac{3}{2}} + 12 \\sqrt{3} \\sqrt{x} + x^{2} + 18 x + 9$"
      ],
      "text/plain": [
       "4*sqrt(3)*x**(3/2) + 12*sqrt(3)*sqrt(x) + x**2 + 18*x + 9"
      ]
     },
     "execution_count": 15,
     "metadata": {},
     "output_type": "execute_result"
    }
   ],
   "source": [
    "sym.expand((sym.sqrt(x)+sym.sqrt(3))**4)"
   ]
  },
  {
   "cell_type": "code",
   "execution_count": null,
   "metadata": {},
   "outputs": [],
   "source": []
  }
 ],
 "metadata": {
  "kernelspec": {
   "display_name": "Python 3 (ipykernel)",
   "language": "python",
   "name": "python3"
  },
  "language_info": {
   "codemirror_mode": {
    "name": "ipython",
    "version": 3
   },
   "file_extension": ".py",
   "mimetype": "text/x-python",
   "name": "python",
   "nbconvert_exporter": "python",
   "pygments_lexer": "ipython3",
   "version": "3.10.9"
  },
  "widgets": {
   "application/vnd.jupyter.widget-state+json": {
    "state": {},
    "version_major": 2,
    "version_minor": 0
   }
  }
 },
 "nbformat": 4,
 "nbformat_minor": 4
}
