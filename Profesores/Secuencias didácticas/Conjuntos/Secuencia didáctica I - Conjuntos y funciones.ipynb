{
 "cells": [
  {
   "cell_type": "markdown",
   "metadata": {},
   "source": [
    "# Ejemplos de conjuntos y funciones"
   ]
  },
  {
   "cell_type": "markdown",
   "metadata": {},
   "source": [
    "Primero hay que definir un par de conjuntos."
   ]
  },
  {
   "cell_type": "code",
   "execution_count": 1,
   "metadata": {},
   "outputs": [],
   "source": [
    "A=['Roberto','Gerardo'] #Ud. y su bro/sis\n",
    "B=['naranja','plátano','fresa','kiwi','uva'] #Frutas en la Mercé"
   ]
  },
  {
   "cell_type": "markdown",
   "metadata": {},
   "source": [
    "Luego programamos una función para calcular la potencia de un conjunto."
   ]
  },
  {
   "cell_type": "code",
   "execution_count": 2,
   "metadata": {},
   "outputs": [],
   "source": [
    "def powerset(seq):\n",
    "    \"\"\"\n",
    "    Función generadora de todos los subconjuntos de una lista.\n",
    "    type(seq)=list\n",
    "    \"\"\"\n",
    "    if len(seq) <= 1:\n",
    "        yield seq\n",
    "        yield []\n",
    "    else:\n",
    "        for item in powerset(seq[1:]):\n",
    "            yield [seq[0]]+item\n",
    "            yield item"
   ]
  },
  {
   "cell_type": "markdown",
   "metadata": {},
   "source": [
    "$\\mathcal{P}(A)$: el conjunto de los subconjuntos de $A$."
   ]
  },
  {
   "cell_type": "code",
   "execution_count": 3,
   "metadata": {},
   "outputs": [
    {
     "name": "stdout",
     "output_type": "stream",
     "text": [
      "1 : {'Roberto', 'Gerardo'}\n",
      "2 : {'Gerardo'}\n",
      "3 : {'Roberto'}\n",
      "4 : set()\n"
     ]
    }
   ],
   "source": [
    "a=powerset(A)\n",
    "j=0\n",
    "for i in a:\n",
    "    j+=1\n",
    "    print(j,':',set(i))"
   ]
  },
  {
   "cell_type": "markdown",
   "metadata": {},
   "source": [
    "$B\\times A$: El producto cartesiano de $B$ con $A$."
   ]
  },
  {
   "cell_type": "code",
   "execution_count": 4,
   "metadata": {},
   "outputs": [
    {
     "name": "stdout",
     "output_type": "stream",
     "text": [
      "('naranja', 'Roberto')\n",
      "('naranja', 'Gerardo')\n",
      "('plátano', 'Roberto')\n",
      "('plátano', 'Gerardo')\n",
      "('fresa', 'Roberto')\n",
      "('fresa', 'Gerardo')\n",
      "('kiwi', 'Roberto')\n",
      "('kiwi', 'Gerardo')\n",
      "('uva', 'Roberto')\n",
      "('uva', 'Gerardo')\n"
     ]
    }
   ],
   "source": [
    "for i in B:\n",
    "    for j in A:\n",
    "        print((i,j))"
   ]
  },
  {
   "cell_type": "markdown",
   "metadata": {},
   "source": [
    "$A\\times B$: El producto cartesiano de $A$ con $B$."
   ]
  },
  {
   "cell_type": "code",
   "execution_count": 5,
   "metadata": {},
   "outputs": [
    {
     "name": "stdout",
     "output_type": "stream",
     "text": [
      "('Roberto', 'naranja')\n",
      "('Roberto', 'plátano')\n",
      "('Roberto', 'fresa')\n",
      "('Roberto', 'kiwi')\n",
      "('Roberto', 'uva')\n",
      "('Gerardo', 'naranja')\n",
      "('Gerardo', 'plátano')\n",
      "('Gerardo', 'fresa')\n",
      "('Gerardo', 'kiwi')\n",
      "('Gerardo', 'uva')\n"
     ]
    }
   ],
   "source": [
    "for i in A:\n",
    "    for j in B:\n",
    "        print((i,j))"
   ]
  },
  {
   "cell_type": "markdown",
   "metadata": {},
   "source": [
    "$\\text{Hom}_{\\text{Set}}(A,B)$: El conjunto de funciones de $A$ en $B$."
   ]
  },
  {
   "cell_type": "code",
   "execution_count": 6,
   "metadata": {
    "scrolled": true
   },
   "outputs": [
    {
     "name": "stdout",
     "output_type": "stream",
     "text": [
      "1 : {('Gerardo', 'uva'), ('Roberto', 'uva')}\n",
      "2 : {('Gerardo', 'uva'), ('Roberto', 'kiwi')}\n",
      "3 : {('Gerardo', 'uva'), ('Roberto', 'fresa')}\n",
      "4 : {('Roberto', 'plátano'), ('Gerardo', 'uva')}\n",
      "5 : {('Gerardo', 'uva'), ('Roberto', 'naranja')}\n",
      "6 : {('Gerardo', 'kiwi'), ('Roberto', 'uva')}\n",
      "7 : {('Gerardo', 'kiwi'), ('Roberto', 'kiwi')}\n",
      "8 : {('Gerardo', 'kiwi'), ('Roberto', 'fresa')}\n",
      "9 : {('Gerardo', 'kiwi'), ('Roberto', 'plátano')}\n",
      "10 : {('Gerardo', 'kiwi'), ('Roberto', 'naranja')}\n",
      "11 : {('Gerardo', 'fresa'), ('Roberto', 'uva')}\n",
      "12 : {('Gerardo', 'fresa'), ('Roberto', 'kiwi')}\n",
      "13 : {('Roberto', 'fresa'), ('Gerardo', 'fresa')}\n",
      "14 : {('Roberto', 'plátano'), ('Gerardo', 'fresa')}\n",
      "15 : {('Roberto', 'naranja'), ('Gerardo', 'fresa')}\n",
      "16 : {('Gerardo', 'plátano'), ('Roberto', 'uva')}\n",
      "17 : {('Gerardo', 'plátano'), ('Roberto', 'kiwi')}\n",
      "18 : {('Gerardo', 'plátano'), ('Roberto', 'fresa')}\n",
      "19 : {('Roberto', 'plátano'), ('Gerardo', 'plátano')}\n",
      "20 : {('Gerardo', 'plátano'), ('Roberto', 'naranja')}\n",
      "21 : {('Gerardo', 'naranja'), ('Roberto', 'uva')}\n",
      "22 : {('Gerardo', 'naranja'), ('Roberto', 'kiwi')}\n",
      "23 : {('Roberto', 'fresa'), ('Gerardo', 'naranja')}\n",
      "24 : {('Roberto', 'plátano'), ('Gerardo', 'naranja')}\n",
      "25 : {('Roberto', 'naranja'), ('Gerardo', 'naranja')}\n"
     ]
    }
   ],
   "source": [
    "AxB=[(i,j) for i in A for j in B]\n",
    "RelAB=powerset(AxB)\n",
    "\n",
    "j=0\n",
    "for i in RelAB:\n",
    "    if len(i)==len(A) and {k[0] for k in i}==set(A):\n",
    "        j+=1\n",
    "        print(j,':',set(i))"
   ]
  },
  {
   "cell_type": "markdown",
   "metadata": {},
   "source": [
    "$\\text{Hom}_{\\text{Set}}(B,A)$: El conjunto de funciones de $B$ en $A$."
   ]
  },
  {
   "cell_type": "code",
   "execution_count": 7,
   "metadata": {},
   "outputs": [
    {
     "name": "stdout",
     "output_type": "stream",
     "text": [
      "1 : {('uva', 'Gerardo'), ('plátano', 'Gerardo'), ('naranja', 'Gerardo'), ('kiwi', 'Gerardo'), ('fresa', 'Gerardo')}\n",
      "2 : {('uva', 'Gerardo'), ('plátano', 'Gerardo'), ('kiwi', 'Gerardo'), ('naranja', 'Roberto'), ('fresa', 'Gerardo')}\n",
      "3 : {('uva', 'Gerardo'), ('naranja', 'Gerardo'), ('kiwi', 'Gerardo'), ('plátano', 'Roberto'), ('fresa', 'Gerardo')}\n",
      "4 : {('uva', 'Gerardo'), ('kiwi', 'Gerardo'), ('plátano', 'Roberto'), ('naranja', 'Roberto'), ('fresa', 'Gerardo')}\n",
      "5 : {('uva', 'Gerardo'), ('plátano', 'Gerardo'), ('naranja', 'Gerardo'), ('fresa', 'Roberto'), ('kiwi', 'Gerardo')}\n",
      "6 : {('uva', 'Gerardo'), ('plátano', 'Gerardo'), ('fresa', 'Roberto'), ('kiwi', 'Gerardo'), ('naranja', 'Roberto')}\n",
      "7 : {('uva', 'Gerardo'), ('naranja', 'Gerardo'), ('fresa', 'Roberto'), ('kiwi', 'Gerardo'), ('plátano', 'Roberto')}\n",
      "8 : {('uva', 'Gerardo'), ('fresa', 'Roberto'), ('kiwi', 'Gerardo'), ('plátano', 'Roberto'), ('naranja', 'Roberto')}\n",
      "9 : {('uva', 'Gerardo'), ('plátano', 'Gerardo'), ('kiwi', 'Roberto'), ('naranja', 'Gerardo'), ('fresa', 'Gerardo')}\n",
      "10 : {('uva', 'Gerardo'), ('plátano', 'Gerardo'), ('kiwi', 'Roberto'), ('naranja', 'Roberto'), ('fresa', 'Gerardo')}\n",
      "11 : {('uva', 'Gerardo'), ('kiwi', 'Roberto'), ('naranja', 'Gerardo'), ('plátano', 'Roberto'), ('fresa', 'Gerardo')}\n",
      "12 : {('uva', 'Gerardo'), ('kiwi', 'Roberto'), ('plátano', 'Roberto'), ('naranja', 'Roberto'), ('fresa', 'Gerardo')}\n",
      "13 : {('uva', 'Gerardo'), ('plátano', 'Gerardo'), ('kiwi', 'Roberto'), ('naranja', 'Gerardo'), ('fresa', 'Roberto')}\n",
      "14 : {('uva', 'Gerardo'), ('plátano', 'Gerardo'), ('kiwi', 'Roberto'), ('fresa', 'Roberto'), ('naranja', 'Roberto')}\n",
      "15 : {('uva', 'Gerardo'), ('kiwi', 'Roberto'), ('naranja', 'Gerardo'), ('fresa', 'Roberto'), ('plátano', 'Roberto')}\n",
      "16 : {('uva', 'Gerardo'), ('kiwi', 'Roberto'), ('fresa', 'Roberto'), ('plátano', 'Roberto'), ('naranja', 'Roberto')}\n",
      "17 : {('plátano', 'Gerardo'), ('naranja', 'Gerardo'), ('kiwi', 'Gerardo'), ('uva', 'Roberto'), ('fresa', 'Gerardo')}\n",
      "18 : {('plátano', 'Gerardo'), ('kiwi', 'Gerardo'), ('uva', 'Roberto'), ('naranja', 'Roberto'), ('fresa', 'Gerardo')}\n",
      "19 : {('naranja', 'Gerardo'), ('uva', 'Roberto'), ('kiwi', 'Gerardo'), ('plátano', 'Roberto'), ('fresa', 'Gerardo')}\n",
      "20 : {('uva', 'Roberto'), ('kiwi', 'Gerardo'), ('plátano', 'Roberto'), ('naranja', 'Roberto'), ('fresa', 'Gerardo')}\n",
      "21 : {('plátano', 'Gerardo'), ('naranja', 'Gerardo'), ('fresa', 'Roberto'), ('kiwi', 'Gerardo'), ('uva', 'Roberto')}\n",
      "22 : {('plátano', 'Gerardo'), ('fresa', 'Roberto'), ('kiwi', 'Gerardo'), ('uva', 'Roberto'), ('naranja', 'Roberto')}\n",
      "23 : {('naranja', 'Gerardo'), ('fresa', 'Roberto'), ('uva', 'Roberto'), ('kiwi', 'Gerardo'), ('plátano', 'Roberto')}\n",
      "24 : {('fresa', 'Roberto'), ('uva', 'Roberto'), ('kiwi', 'Gerardo'), ('plátano', 'Roberto'), ('naranja', 'Roberto')}\n",
      "25 : {('plátano', 'Gerardo'), ('kiwi', 'Roberto'), ('naranja', 'Gerardo'), ('uva', 'Roberto'), ('fresa', 'Gerardo')}\n",
      "26 : {('plátano', 'Gerardo'), ('kiwi', 'Roberto'), ('uva', 'Roberto'), ('naranja', 'Roberto'), ('fresa', 'Gerardo')}\n",
      "27 : {('kiwi', 'Roberto'), ('naranja', 'Gerardo'), ('uva', 'Roberto'), ('plátano', 'Roberto'), ('fresa', 'Gerardo')}\n",
      "28 : {('kiwi', 'Roberto'), ('uva', 'Roberto'), ('plátano', 'Roberto'), ('naranja', 'Roberto'), ('fresa', 'Gerardo')}\n",
      "29 : {('plátano', 'Gerardo'), ('kiwi', 'Roberto'), ('naranja', 'Gerardo'), ('fresa', 'Roberto'), ('uva', 'Roberto')}\n",
      "30 : {('plátano', 'Gerardo'), ('kiwi', 'Roberto'), ('fresa', 'Roberto'), ('uva', 'Roberto'), ('naranja', 'Roberto')}\n",
      "31 : {('kiwi', 'Roberto'), ('naranja', 'Gerardo'), ('fresa', 'Roberto'), ('uva', 'Roberto'), ('plátano', 'Roberto')}\n",
      "32 : {('kiwi', 'Roberto'), ('fresa', 'Roberto'), ('uva', 'Roberto'), ('plátano', 'Roberto'), ('naranja', 'Roberto')}\n"
     ]
    }
   ],
   "source": [
    "BxA=[(i,j) for i in B for j in A]\n",
    "RelBA=powerset(BxA)\n",
    "\n",
    "j=0\n",
    "for i in RelBA:\n",
    "    if len(i)==len(B) and {k[0] for k in i}==set(B):\n",
    "        j+=1\n",
    "        print(j,':',set(i))"
   ]
  },
  {
   "cell_type": "code",
   "execution_count": null,
   "metadata": {},
   "outputs": [],
   "source": []
  }
 ],
 "metadata": {
  "kernelspec": {
   "display_name": "Python 3",
   "language": "python",
   "name": "python3"
  },
  "language_info": {
   "codemirror_mode": {
    "name": "ipython",
    "version": 3
   },
   "file_extension": ".py",
   "mimetype": "text/x-python",
   "name": "python",
   "nbconvert_exporter": "python",
   "pygments_lexer": "ipython3",
   "version": "3.9.1"
  }
 },
 "nbformat": 4,
 "nbformat_minor": 2
}
