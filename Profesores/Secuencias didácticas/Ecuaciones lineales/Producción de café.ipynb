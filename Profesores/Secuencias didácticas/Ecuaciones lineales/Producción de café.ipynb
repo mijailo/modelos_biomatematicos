{
 "cells": [
  {
   "cell_type": "markdown",
   "metadata": {},
   "source": [
    "# La crisis cafetalera generada por la pandemia\n",
    "\n",
    "> Nota: Esta actividad presupone la exposición de gráficas de ecuaciones; puede ser la conclusión de un tema, o bien, la motivación del siguiente."
   ]
  },
  {
   "cell_type": "markdown",
   "metadata": {},
   "source": [
    "## <font color='crimson'> Preámbulos </font>\n",
    "\n",
    "Lee [**este artículo**](https://www.chiapasparalelo.com/noticias/chiapas/2020/05/cafetaleros-buscan-alternativas-para-salir-de-crisis-economica-provocada-por-el-covid-19/) y observa con atención el siguiente video:\n",
    "\n",
    "> _El siguiente bloque de código incorpora módulos útiles para la incorporación de vídeos de Youtube._"
   ]
  },
  {
   "cell_type": "code",
   "execution_count": 1,
   "metadata": {},
   "outputs": [],
   "source": [
    "import ipywidgets as widgets\n",
    "from IPython.display import YouTubeVideo"
   ]
  },
  {
   "cell_type": "code",
   "execution_count": 2,
   "metadata": {},
   "outputs": [
    {
     "data": {
      "image/jpeg": "[encoded data removed]",
      "text/html": [
       "\n",
       "        <iframe\n",
       "            width=\"400\"\n",
       "            height=\"300\"\n",
       "            src=\"https://www.youtube.com/embed/g73ctiAPRR4\"\n",
       "            frameborder=\"0\"\n",
       "            allowfullscreen\n",
       "        ></iframe>\n",
       "        "
      ],
      "text/plain": [
       "<IPython.lib.display.YouTubeVideo at 0x7f66e89d6820>"
      ]
     },
     "execution_count": 2,
     "metadata": {},
     "output_type": "execute_result"
    }
   ],
   "source": [
    "YouTubeVideo('g73ctiAPRR4')"
   ]
  },
  {
   "cell_type": "markdown",
   "metadata": {},
   "source": [
    "> _El fragmento de código a continuación hace la inclusión de un cuestionario en formato `json`, útil para plantearse a los estudiantes y recopilar sus respuestas._"
   ]
  },
  {
   "cell_type": "code",
   "execution_count": 8,
   "metadata": {
    "scrolled": false
   },
   "outputs": [
    {
     "data": {
      "text/plain": [
       "{'P0': '¿Sabes cómo es el proceso completo de producción de café?',\n",
       " 'P1': '¿Qué tipo de café has tomado?',\n",
       " 'P2': '¿Conoces alguna cafetería cerca de tu casa? ¿Cuántas hay?',\n",
       " 'P3': '¿Conoces alguna cafetería que haya cerrado a causa de la pandemia por COVID-19?',\n",
       " 'P4': 'Si fueras dueño de una cafetería y bajara tu venta de café por la pandemia, ¿qué harías para mitigar las pérdidas económicas?',\n",
       " 'P5': 'Si fueras productor o exportador de café, ¿qué harías si tus clientes te cancelan compras por el COVID-19?',\n",
       " 'P6': 'Si tú fueras dueño de una cafetería, ¿qué propondrías a tus proveedores para evitar cancelar compras de café?',\n",
       " 'P7': '¿Cuáles son las áreas de oportunidad que puedes vislumbrar a partir de esta crisis mundial?',\n",
       " 'P8': '¿Cómo describirías tu estrategia de forma resumida?'}"
      ]
     },
     "execution_count": 8,
     "metadata": {},
     "output_type": "execute_result"
    }
   ],
   "source": [
    "import json\n",
    "\n",
    "with open('./preguntas_inicio.json') as arshivo:\n",
    "    cuestionario=json.load(arshivo)\n",
    "\n",
    "cuestionario"
   ]
  },
  {
   "cell_type": "markdown",
   "metadata": {},
   "source": [
    "> _En este bloque de código se elaboran cuadros para la captura de las respuestas de los alumnos._"
   ]
  },
  {
   "cell_type": "code",
   "execution_count": 17,
   "metadata": {},
   "outputs": [
    {
     "data": {
      "application/vnd.jupyter.widget-view+json": {
       "model_id": "894d310e03d6456cbc763359807e646c",
       "version_major": 2,
       "version_minor": 0
      },
      "text/plain": [
       "HBox(children=(Label(value='¿Sabes cómo es el proceso completo de producción de café?'), Textarea(value='', de…"
      ]
     },
     "metadata": {},
     "output_type": "display_data"
    },
    {
     "data": {
      "application/vnd.jupyter.widget-view+json": {
       "model_id": "903a764ea8374d55a400bebb44b182aa",
       "version_major": 2,
       "version_minor": 0
      },
      "text/plain": [
       "HBox(children=(Label(value='¿Qué tipo de café has tomado?'), Textarea(value='', description='R:', placeholder=…"
      ]
     },
     "metadata": {},
     "output_type": "display_data"
    },
    {
     "data": {
      "application/vnd.jupyter.widget-view+json": {
       "model_id": "da373eb6cfbd40198762cb4eca8a09d2",
       "version_major": 2,
       "version_minor": 0
      },
      "text/plain": [
       "HBox(children=(Label(value='¿Conoces alguna cafetería cerca de tu casa? ¿Cuántas hay?'), Textarea(value='', de…"
      ]
     },
     "metadata": {},
     "output_type": "display_data"
    },
    {
     "data": {
      "application/vnd.jupyter.widget-view+json": {
       "model_id": "3a7854ea0cfd4ed89080f0cfcdc2c6a9",
       "version_major": 2,
       "version_minor": 0
      },
      "text/plain": [
       "HBox(children=(Label(value='¿Conoces alguna cafetería que haya cerrado a causa de la pandemia por COVID-19?'),…"
      ]
     },
     "metadata": {},
     "output_type": "display_data"
    },
    {
     "data": {
      "application/vnd.jupyter.widget-view+json": {
       "model_id": "01a012a06282424093878c1a5d9c0f22",
       "version_major": 2,
       "version_minor": 0
      },
      "text/plain": [
       "HBox(children=(Label(value='Si fueras dueño de una cafetería y bajara tu venta de café por la pandemia, ¿qué h…"
      ]
     },
     "metadata": {},
     "output_type": "display_data"
    },
    {
     "data": {
      "application/vnd.jupyter.widget-view+json": {
       "model_id": "65370e4f314048088e3653111761c066",
       "version_major": 2,
       "version_minor": 0
      },
      "text/plain": [
       "HBox(children=(Label(value='Si fueras productor o exportador de café, ¿qué harías si tus clientes te cancelan …"
      ]
     },
     "metadata": {},
     "output_type": "display_data"
    },
    {
     "data": {
      "application/vnd.jupyter.widget-view+json": {
       "model_id": "3367bbab9ba34b7c9976ec6becd8b113",
       "version_major": 2,
       "version_minor": 0
      },
      "text/plain": [
       "HBox(children=(Label(value='Si tú fueras dueño de una cafetería, ¿qué propondrías a tus proveedores para evita…"
      ]
     },
     "metadata": {},
     "output_type": "display_data"
    },
    {
     "data": {
      "application/vnd.jupyter.widget-view+json": {
       "model_id": "b5b2b49184ce42b8a4486c153a736389",
       "version_major": 2,
       "version_minor": 0
      },
      "text/plain": [
       "HBox(children=(Label(value='¿Cuáles son las áreas de oportunidad que puedes vislumbrar a partir de esta crisis…"
      ]
     },
     "metadata": {},
     "output_type": "display_data"
    },
    {
     "data": {
      "application/vnd.jupyter.widget-view+json": {
       "model_id": "e613dd55492d46a8a7df87f3f20c37bc",
       "version_major": 2,
       "version_minor": 0
      },
      "text/plain": [
       "HBox(children=(Label(value='¿Cómo describirías tu estrategia de forma resumida?'), Textarea(value='', descript…"
      ]
     },
     "metadata": {},
     "output_type": "display_data"
    }
   ],
   "source": [
    "respuestas=dict()\n",
    "for preg in cuestionario.keys():\n",
    "    respuestas[preg]=widgets.Textarea(\n",
    "        value='',\n",
    "        placeholder='(Escribe aquí tu respuesta)',\n",
    "        description='R:',\n",
    "        disabled=False\n",
    "    )\n",
    "    display(widgets.HBox([widgets.Label(value=cuestionario[preg]), respuestas[preg]]))"
   ]
  },
  {
   "cell_type": "markdown",
   "metadata": {},
   "source": [
    "> _En este bloque se exportan las respuestas de los alumnos, que pueden subirse a Google Classroom sin ocupar mucho espacio_."
   ]
  },
  {
   "cell_type": "code",
   "execution_count": 18,
   "metadata": {},
   "outputs": [],
   "source": [
    "with open('./respuestas_inicio.json','w+') as arshivo:\n",
    "    json.dump({p:r.value for p,r in respuestas.items()},arshivo)"
   ]
  },
  {
   "cell_type": "markdown",
   "metadata": {},
   "source": [
    "La celda anterior recopiló tus respuestas y las depositó en el archivo `respuestas.json`. Descárgalo y súbelo al [Classroom](http://classroom.google.com/) del curso."
   ]
  },
  {
   "cell_type": "markdown",
   "metadata": {},
   "source": [
    "## <font color='crimson'> Actividad principal </font>\n",
    "\n",
    "Para esta actividad, investiga lo siguiente:\n",
    "1. ¿Qué es una variable? \n",
    "2. ¿Qué es un subconjunto?\n",
    "\n",
    "Además, _resume en un párrafo_ el contenido (_introducción_ y _desarrollo_) de [este recurso](http://prometeo.matem.unam.mx/recursos/Licenciatura/TallerMate_UAM_CUAJIMALPA//scorm_player/1183/content/index.html)."
   ]
  },
  {
   "cell_type": "markdown",
   "metadata": {},
   "source": [
    "### Planteamiento del problema\n",
    "\n",
    "> Dada la contingencia por la pandemia del COVID-19, mi familia decidió vender por Internet café orgánico de las regiones de Soconusco, Chiapas y Coatepec, Veracruz. De esa forma, ayudaremos a cafetaleros que vieron canceladas ventas con importantes cafeterías en la CDMX.\n",
    "\n",
    "**Responde a las siguientes preguntas:**"
   ]
  },
  {
   "cell_type": "code",
   "execution_count": 21,
   "metadata": {},
   "outputs": [
    {
     "name": "stdout",
     "output_type": "stream",
     "text": [
      "Ingresar ruta y nombre del cuestionario (`*.json`)preguntas_desarrollo.json\n"
     ]
    },
    {
     "data": {
      "application/vnd.jupyter.widget-view+json": {
       "model_id": "b5e83175c6604751a2e61098c99220ae",
       "version_major": 2,
       "version_minor": 0
      },
      "text/plain": [
       "HBox(children=(Label(value='Compramos 1 tonelada y media de café de las dos regiones. ¿Cuantas variables están…"
      ]
     },
     "metadata": {},
     "output_type": "display_data"
    },
    {
     "data": {
      "application/vnd.jupyter.widget-view+json": {
       "model_id": "d924b92d737243b89c76811e0ed9e3fd",
       "version_major": 2,
       "version_minor": 0
      },
      "text/plain": [
       "HBox(children=(Label(value='Con los datos anteriores, ¿cómo relacionas estas variables? A esta relación llámal…"
      ]
     },
     "metadata": {},
     "output_type": "display_data"
    },
    {
     "data": {
      "application/vnd.jupyter.widget-view+json": {
       "model_id": "a8310712c1414fe88e76d3c29b3f818c",
       "version_major": 2,
       "version_minor": 0
      },
      "text/plain": [
       "HBox(children=(Label(value='Deseamos hacer una mezcla que no salga tan cara a los clientes. Si el kilo de sele…"
      ]
     },
     "metadata": {},
     "output_type": "display_data"
    }
   ],
   "source": [
    "run -i desplegar_preguntas.py # Agrupar la función para resplegar cuestionario en un script."
   ]
  },
  {
   "cell_type": "markdown",
   "metadata": {},
   "source": [
    "<font color='crimson'> _**Puedes apoyarte de la función de las siguientes tres celdas**_. </font>"
   ]
  },
  {
   "cell_type": "code",
   "execution_count": 32,
   "metadata": {},
   "outputs": [],
   "source": [
    "def costo(x,y):\n",
    "    \"\"\"\n",
    "    x=kilos del café 1\n",
    "    y=kilos del café 2\n",
    "    \"\"\"\n",
    "    p1=input('¿Cuál es el costo (por kilo) del café 1?\\n\\t')\n",
    "    p2=input('¿Cuál es el costo (por kilo) del café 2?\\n\\t')\n",
    "    print(f\"\\n\\t**El costo total de esta compra es de ${float(p1)*x+float(p2)*y} pesos.**\")"
   ]
  },
  {
   "cell_type": "code",
   "execution_count": 33,
   "metadata": {},
   "outputs": [
    {
     "name": "stdout",
     "output_type": "stream",
     "text": [
      "¿Cuál es el costo (por kilo) del café 1?\n",
      "\t110\n",
      "¿Cuál es el costo (por kilo) del café 2?\n",
      "\t90\n",
      "\n",
      "\t**El costo total de esta compra es de $96.0 pesos.**\n"
     ]
    }
   ],
   "source": [
    "costo(0.3,0.7) #Obtener el costo de 300 g de café 1 y 700 g de café 2."
   ]
  },
  {
   "cell_type": "code",
   "execution_count": null,
   "metadata": {},
   "outputs": [],
   "source": [
    "costo(,) #Intruduce un par de valores; luego presiona (Ctrl)+(Enter)."
   ]
  },
  {
   "cell_type": "markdown",
   "metadata": {},
   "source": [
    "**Pensando en las respuestas de la pregunta anterior, completa la siguiente tabla**:\n",
    "\n",
    "| **(Kg/%) de café veracruzano ** | **(Kg/%) de café chiapaneco** | **Precio de la mezcla (por Kg)** |\n",
    "| :---: | :---: | :---: |\n",
    "| 0.750 kg / 75% | 0.250 kg / 25 % | **(?)** |\n",
    "| (0.250 kg / 25 %) | (0.750 kg / 75 %) | **(?)** |\n",
    "| ( **?** / 50% ) | ( **?** / 50 % ) | **(?)** |\n",
    "| **( ? / ? )** | ( **?** / 22 %) | **(?)** |"
   ]
  },
  {
   "cell_type": "markdown",
   "metadata": {},
   "source": [
    "**¿Cuánto kilos de cada tipo debemos mezclar para obtener una selección de café de $180 el kilo? Escribe la expresión que representa esta situación y llámale \\*2\\*.**"
   ]
  },
  {
   "cell_type": "markdown",
   "metadata": {},
   "source": [
    "## <font color='crimson'> Tarea </font>\n",
    "\n",
    "**Resuelve estos problemas**:\n",
    "\n",
    "1. Un quı́mico trabajando en una vacuna contra la gripe necesita hacer una mezcla con el 10% de una solución de sodio-yodo, y una solución al 60% de la misma solución, para obtener una solución de 50 ml al 30% de sodio-yodo. ¿Cuántos mililitros de la solución al 10% deben mezclarse con la solución al 60%? \n",
    "\n",
    "2. Un quı́mico debe mezclar una solución ácida al 12% con otra al 20% para poder obtener 160 onzas de la misma solución al 15%. ¿Cuántas onzas de cada solución (12% y 20%) deben mezclarse?\n",
    "\n",
    "3. Un hotel tiene 200 habitaciones. Aquellas con cocina cuestan \\\\$ 2000 por noche, y sin cocina \\\\$ 1600. Una noche, con el hotel completamente lleno, hubo ganancias por \\\\$ 340,000. ¿Cuántas habitaciones de cada tipo tiene el hotel?\n",
    "\n",
    "> Otras posibles actividades son:\n",
    "> - ¿Cómo hacer una buena mezcla? (Volúmenes, porcentajes, proporciones, sistemas de ecuaciones).\n",
    "> - Hay otras actividades relacionadas con proporciones: distintos caminos recorridos por un auto o atleta; problemas de ecuaciones racionales."
   ]
  },
  {
   "cell_type": "code",
   "execution_count": null,
   "metadata": {},
   "outputs": [],
   "source": []
  }
 ],
 "metadata": {
  "kernelspec": {
   "display_name": "Python 3",
   "language": "python",
   "name": "python3"
  },
  "language_info": {
   "codemirror_mode": {
    "name": "ipython",
    "version": 3
   },
   "file_extension": ".py",
   "mimetype": "text/x-python",
   "name": "python",
   "nbconvert_exporter": "python",
   "pygments_lexer": "ipython3",
   "version": "3.9.5"
  }
 },
 "nbformat": 4,
 "nbformat_minor": 4
}
